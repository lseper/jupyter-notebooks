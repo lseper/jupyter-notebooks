{
 "cells": [
  {
   "cell_type": "code",
   "execution_count": 1,
   "metadata": {},
   "outputs": [],
   "source": [
    "import numpy as np\n",
    "import matplotlib.pyplot as pp\n",
    "import random\n",
    "import scipy.special as sp\n",
    "import scipy.integrate as spi"
   ]
  },
  {
   "cell_type": "markdown",
   "metadata": {},
   "source": [
    "### 1."
   ]
  },
  {
   "cell_type": "code",
   "execution_count": 2,
   "metadata": {},
   "outputs": [
    {
     "name": "stdout",
     "output_type": "stream",
     "text": [
      "A selection of a random sequence of ten pebbles with replacement yields: ['white', 'black', 'black', 'white', 'black', 'white', 'white', 'black', 'white', 'white']\n",
      "The proportion of the sample that is black: 0.4\n",
      "The distribution is discrete because it can only be a value between 0 and 1 in 0.1 increments\n"
     ]
    },
    {
     "data": {
      "image/png": "[encoded data removed]",
      "text/plain": [
       "<Figure size 432x288 with 1 Axes>"
      ]
     },
     "metadata": {
      "needs_background": "light"
     },
     "output_type": "display_data"
    }
   ],
   "source": [
    "random.seed(270)\n",
    "\n",
    "OPTS = ['white', 'black']\n",
    "WEIGHTS = [15, 10]\n",
    "\n",
    "NUM_BLACK = ['black' for i in range(10)]\n",
    "NUM_WHITE = ['white' for i in range(15)]\n",
    "POPULATION = NUM_BLACK + NUM_WHITE\n",
    "\n",
    "def getPebbleSequence(n, replacement=True):\n",
    "    if(replacement):\n",
    "        return random.choices(POPULATION, k=n)\n",
    "    else:\n",
    "        return random.sample(POPULATION, k=n)\n",
    "\n",
    "def getFrequencies(seq):\n",
    "    return round(seq.count('white'), 4) / len(seq), round(seq.count('black') / len(seq), 4)\n",
    "        \n",
    "\n",
    "tenSequence = getPebbleSequence(10)\n",
    "freqs = getFrequencies(tenSequence)\n",
    "print(f\"A selection of a random sequence of ten pebbles with replacement yields: {tenSequence}\")\n",
    "print(f\"The proportion of the sample that is black: {freqs[1]}\")\n",
    "\n",
    "blackProp = []\n",
    "for i in range(100000):\n",
    "    blackProp.append(getFrequencies(getPebbleSequence(10))[1])\n",
    "print(f\"The distribution is discrete because it can only be a value between 0 and 1 in 0.1 increments\")\n",
    "\n",
    "freqsRep = {0 : 0,\n",
    "         0.1 : 0,\n",
    "         0.2 : 0,\n",
    "         0.3 : 0,\n",
    "         0.4 : 0,\n",
    "         0.5 : 0,\n",
    "         0.6 : 0,\n",
    "         0.7 : 0,\n",
    "         0.8 : 0,\n",
    "         0.9 : 0,\n",
    "         1 : 0,}\n",
    "# count occurrences of each proportion\n",
    "for prop in blackProp:\n",
    "    freqsRep[prop] += 1\n",
    "\n",
    "# set up and show plot\n",
    "fig = pp.figure()\n",
    "ax = fig.add_axes([0, 0, 1, 1])\n",
    "ax.bar(freqsRep.keys(), freqsRep.values(), width=.08)\n",
    "ax.set_title(\"Proportion of black marbles chosen for 100,000 sequences with replacement\")\n",
    "ax.set_ylabel(\"Frequency\")\n",
    "ax.set_xlabel(\"Proportion of black marbles\")\n",
    "ax.set_xticks(np.arange(0, 1.1, .1))\n",
    "pp.show()"
   ]
  },
  {
   "cell_type": "markdown",
   "metadata": {},
   "source": [
    "The priori expected value for the experiment is 10/25 = 0.4. We can calculate the actual average value via the code snipped below:"
   ]
  },
  {
   "cell_type": "code",
   "execution_count": 3,
   "metadata": {},
   "outputs": [
    {
     "name": "stdout",
     "output_type": "stream",
     "text": [
      "The actual mean is: 0.3998\n"
     ]
    }
   ],
   "source": [
    "actualMean = np.mean(blackProp)\n",
    "print(f\"The actual mean is: {round(actualMean, 4)}\")"
   ]
  },
  {
   "cell_type": "markdown",
   "metadata": {},
   "source": [
    "Considering the actual value is 0.3998, which is very close to 0.4, the results of the simulation do agree with the priori expected value"
   ]
  },
  {
   "cell_type": "markdown",
   "metadata": {},
   "source": [
    "### 2."
   ]
  },
  {
   "cell_type": "code",
   "execution_count": 4,
   "metadata": {},
   "outputs": [
    {
     "name": "stdout",
     "output_type": "stream",
     "text": [
      "A selection of a random sequence of ten pebbles without replacement yields: ['black', 'white', 'black', 'white', 'black', 'black', 'white', 'black', 'black', 'white']\n",
      "The proportion of the sample that is black: 0.6\n",
      "The distribution is discrete because it ,once again, can only be a value between 0 and 1 in 0.1 increments\n"
     ]
    },
    {
     "data": {
      "image/png": "[encoded data removed]",
      "text/plain": [
       "<Figure size 432x288 with 1 Axes>"
      ]
     },
     "metadata": {
      "needs_background": "light"
     },
     "output_type": "display_data"
    },
    {
     "name": "stdout",
     "output_type": "stream",
     "text": [
      "The mean of the black pebble proportion over all experiments is: 0.4\n"
     ]
    }
   ],
   "source": [
    "random.seed(270)\n",
    "\n",
    "tenSequence = getPebbleSequence(10, replacement=False)\n",
    "freqs = getFrequencies(tenSequence)\n",
    "\n",
    "print(f\"A selection of a random sequence of ten pebbles without replacement yields: {tenSequence}\")\n",
    "print(f\"The proportion of the sample that is black: {freqs[1]}\")\n",
    "\n",
    "blackProp = []\n",
    "for i in range(100000):\n",
    "    blackProp.append(getFrequencies(getPebbleSequence(10, replacement=False))[1])\n",
    "print(f\"The distribution is discrete because it ,once again, can only be a value between 0 and 1 in 0.1 increments\")\n",
    "\n",
    "freqs = {0 : 0,\n",
    "         0.1 : 0,\n",
    "         0.2 : 0,\n",
    "         0.3 : 0,\n",
    "         0.4 : 0,\n",
    "         0.5 : 0,\n",
    "         0.6 : 0,\n",
    "         0.7 : 0,\n",
    "         0.8 : 0,\n",
    "         0.9 : 0,\n",
    "         1 : 0,}\n",
    "# count occurrences of each proportion\n",
    "for prop in blackProp:\n",
    "    freqs[prop] += 1\n",
    "\n",
    "# set up and show plot\n",
    "fig = pp.figure()\n",
    "ax = fig.add_axes([0, 0, 1, 1])\n",
    "ax.bar(freqs.keys(), freqs.values(), width=.08)\n",
    "ax.set_title(\"Proportion of black marbles chosen for 100,000 sequences w/out replacement\")\n",
    "ax.set_ylabel(\"Frequency\")\n",
    "ax.set_xlabel(\"Proportion of black marbles\")\n",
    "ax.set_xticks(np.arange(0, 1.1, .1))\n",
    "pp.show()\n",
    "\n",
    "print(f\"The mean of the black pebble proportion over all experiments is: {round(np.mean(blackProp), 4)}\")"
   ]
  },
  {
   "cell_type": "markdown",
   "metadata": {},
   "source": [
    "### 3."
   ]
  },
  {
   "cell_type": "code",
   "execution_count": 5,
   "metadata": {},
   "outputs": [
    {
     "data": {
      "image/png": "[encoded data removed]",
      "text/plain": [
       "<Figure size 1080x360 with 2 Axes>"
      ]
     },
     "metadata": {
      "needs_background": "light"
     },
     "output_type": "display_data"
    }
   ],
   "source": [
    "fig, ax = pp.subplots(1, 2, figsize=(15, 5), sharey=True)\n",
    "\n",
    "ax1 = ax[0]\n",
    "ax1.bar(freqsRep.keys(), freqsRep.values(), width=.08)\n",
    "ax1.set_title(\"With Replacement\")\n",
    "ax1.set_ylabel(\"Frequency\")\n",
    "ax1.set_xlabel(\"Proportion of black marbles\")\n",
    "ax1.set_xticks(np.arange(0, 1.1, .1))\n",
    "\n",
    "ax2 = ax[1]\n",
    "ax2.bar(freqs.keys(), freqs.values(), width=.08)\n",
    "ax2.set_title(\"Without Replacement\")\n",
    "ax2.set_ylabel(\"Frequency\")\n",
    "ax2.set_xlabel(\"Proportion of black marbles\")\n",
    "ax2.set_xticks(np.arange(0, 1.1, .1))\n",
    "\n",
    "pp.show()"
   ]
  },
  {
   "cell_type": "markdown",
   "metadata": {},
   "source": [
    "### 4."
   ]
  },
  {
   "cell_type": "markdown",
   "metadata": {},
   "source": [
    "The probability distribution would be constant, since it is one dice roll, and would be $\\displaystyle f(x) = \\frac{1}{6}$"
   ]
  },
  {
   "cell_type": "markdown",
   "metadata": {},
   "source": [
    "### 5."
   ]
  },
  {
   "cell_type": "code",
   "execution_count": 6,
   "metadata": {},
   "outputs": [
    {
     "data": {
      "image/png": "[encoded data removed]",
      "text/plain": [
       "<Figure size 432x288 with 1 Axes>"
      ]
     },
     "metadata": {
      "needs_background": "light"
     },
     "output_type": "display_data"
    }
   ],
   "source": [
    "# total combinations = n!/k!(n - k)! = 35\n",
    "TOTAL = 35\n",
    "DEFECTIVE = 2\n",
    "WORKING = 5\n",
    "\n",
    "BATCH_SIZE = 3\n",
    "\n",
    "# wdefining a hyper geometric distribution with good succs💦\n",
    "def hyperGeo(pop, popSucc, obsSucc, sampleSize):\n",
    "    return (sp.comb(popSucc, obsSucc) * sp.comb(pop - popSucc, sampleSize - obsSucc)) / sp.comb(pop, sampleSize)\n",
    "\n",
    "hyperVals = [hyperGeo(DEFECTIVE + WORKING, DEFECTIVE, i, BATCH_SIZE) for i in range(4)]\n",
    "xVals = [0, 1, 2, 3]\n",
    "\n",
    "fig = pp.figure()\n",
    "ax = fig.add_axes([0, 0, 1, 1])\n",
    "ax.bar(xVals, hyperVals, width=1)\n",
    "ax.set_title(\"Probabilities of defective TVs in a batch of 3\")\n",
    "ax.set_ylabel(\"Probability\")\n",
    "ax.set_xlabel(\"Number of defective TVs\")\n",
    "ax.set_xticks(xVals)\n",
    "pp.show()"
   ]
  },
  {
   "cell_type": "markdown",
   "metadata": {},
   "source": [
    "### 6."
   ]
  },
  {
   "cell_type": "code",
   "execution_count": 7,
   "metadata": {},
   "outputs": [
    {
     "name": "stdout",
     "output_type": "stream",
     "text": [
      "P(X < 4) = 0.5926\n",
      "P(3 ≤ X < 4) = 0.3333\n"
     ]
    },
    {
     "data": {
      "image/png": "[encoded data removed]",
      "text/plain": [
       "<Figure size 432x288 with 1 Axes>"
      ]
     },
     "metadata": {
      "needs_background": "light"
     },
     "output_type": "display_data"
    }
   ],
   "source": [
    "def density(x):\n",
    "    return (2*(1+x)) / 27\n",
    "\n",
    "print(f\"P(X < 4) = {round(spi.quad(density, 2, 4)[0] , 4)}\")\n",
    "print(f\"P(3 ≤ X < 4) = {round(spi.quad(density, 3, 4)[0] , 4)}\")\n",
    "\n",
    "xVals = np.arange(2, 5, .05)\n",
    "data = [spi.quad(density, 2, i)[0] for i in xVals]\n",
    "# evaluate the histogram\n",
    "pp.plot(xVals, data)\n",
    "pp.title(\"Cumulative Probability Distribution for 2 ≤ x ≤ 5\")\n",
    "pp.xlabel(\"x\")\n",
    "pp.ylabel(\"Cumulative Probability of x\")\n",
    "\n",
    "pp.show()"
   ]
  },
  {
   "cell_type": "markdown",
   "metadata": {},
   "source": [
    "### 7."
   ]
  },
  {
   "cell_type": "code",
   "execution_count": 8,
   "metadata": {},
   "outputs": [
    {
     "name": "stdout",
     "output_type": "stream",
     "text": [
      "P(X ≤ 2, Y = 1) = 0.2\n",
      "P(X > 2, Y ≤ 1) = 0.2333\n",
      "P(X > Y) = 0.6\n",
      "P(X + Y = 4) = 0.2667\n"
     ]
    }
   ],
   "source": [
    "f = lambda x, y : (x + y)/ 30\n",
    "\n",
    "y = 1\n",
    "aVals = [f(x, y) for x in range(3)]\n",
    "\n",
    "x = 3\n",
    "bVals = [f(x, y) for y in range(2)]\n",
    "\n",
    "cVals = []\n",
    "for x in range(4):\n",
    "    for y in range(x):\n",
    "        cVals.append(f(x, y))\n",
    "        \n",
    "dVals = []\n",
    "for x in range(4):\n",
    "    for y in range(3):\n",
    "        if (x + y) == 4:\n",
    "            dVals.append(f(x, y))\n",
    "\n",
    "print(f\"P(X ≤ 2, Y = 1) = {sum(aVals)}\")\n",
    "print(f\"P(X > 2, Y ≤ 1) = {round(sum(bVals), 4)}\")\n",
    "print(f\"P(X > Y) = {round(sum(cVals), 4)}\")\n",
    "print(f\"P(X + Y = 4) = {round(sum(dVals), 4)}\")"
   ]
  },
  {
   "cell_type": "markdown",
   "metadata": {},
   "source": [
    "### 8."
   ]
  },
  {
   "cell_type": "code",
   "execution_count": 12,
   "metadata": {},
   "outputs": [
    {
     "name": "stdout",
     "output_type": "stream",
     "text": [
      "Positive reading for both subjects: 0.095\n",
      "Positive for guilty subject, negative for innocent: 0.855\n",
      "Probability of us really sucking at our jobs😎: 0.005\n",
      "Positive for at least one: 0.955\n"
     ]
    }
   ],
   "source": [
    "FALSE_POS = 0.1\n",
    "TRUE_POS = 0.95\n",
    "\n",
    "print(f\"Positive reading for both subjects: {round(FALSE_POS * TRUE_POS, 4)}\")\n",
    "print(f\"Positive for guilty subject, negative for innocent: {round((1 - FALSE_POS) * TRUE_POS, 4)}\")\n",
    "print(f\"Probability of us really sucking at our jobs😎: {round((1 - TRUE_POS) * FALSE_POS, 4)}\")\n",
    "print(f\"Positive for at least one: {round(((1 - TRUE_POS) * FALSE_POS) + (TRUE_POS * FALSE_POS) + (TRUE_POS * (1 - FALSE_POS)), 4)}\")"
   ]
  },
  {
   "cell_type": "markdown",
   "metadata": {},
   "source": [
    "### 9."
   ]
  },
  {
   "cell_type": "code",
   "execution_count": 10,
   "metadata": {},
   "outputs": [
    {
     "name": "stdout",
     "output_type": "stream",
     "text": [
      "Probability of having neither 🅱oronavirus symptoms: 0.4\n",
      "Probability of having at least one symptom of 🅱oronavirus: 0.6\n",
      "Probability of someone having both symptoms given they have symptom 🅱: 0.25\n"
     ]
    }
   ],
   "source": [
    "sympA = 0.2\n",
    "sympB = 0.3\n",
    "both = 0.1\n",
    "neither = 1 - (sympA + sympB + both)\n",
    "\n",
    "print(f\"Probability of having neither 🅱oronavirus symptoms: {neither}\")\n",
    "print(f\"Probability of having at least one symptom of 🅱oronavirus: {sympA + sympB + both}\")\n",
    "print(f\"Probability of someone having both symptoms given they have symptom 🅱: {both/(sympB + both)}\")"
   ]
  },
  {
   "cell_type": "markdown",
   "metadata": {},
   "source": [
    "### 10."
   ]
  },
  {
   "cell_type": "markdown",
   "metadata": {},
   "source": [
    "Probability of the series lasting exactly five games = $\\displaystyle p^{4}(1 - p) + p(1-p)^{4}$"
   ]
  },
  {
   "cell_type": "markdown",
   "metadata": {},
   "source": [
    "### 11."
   ]
  },
  {
   "cell_type": "code",
   "execution_count": 11,
   "metadata": {},
   "outputs": [
    {
     "name": "stdout",
     "output_type": "stream",
     "text": [
      "Probabilities of detecting accounting errors:\n",
      "Probability of 0 error(s) detected - 0.85737\n",
      "Probability of 1 error(s) detected - 0.04512\n",
      "Probability of 2 error(s) detected - 0.00238\n",
      "Probability of 3 error(s) detected - 0.00013\n"
     ]
    },
    {
     "data": {
      "image/png": "[encoded data removed]",
      "text/plain": [
       "<Figure size 432x288 with 1 Axes>"
      ]
     },
     "metadata": {
      "needs_background": "light"
     },
     "output_type": "display_data"
    },
    {
     "name": "stdout",
     "output_type": "stream",
     "text": [
      "Probability of detecting more than one error: 0.0025\n"
     ]
    }
   ],
   "source": [
    "pErr = 0.05\n",
    "pCorrect = 1 - pErr\n",
    "\n",
    "dist = []\n",
    "errVals = [0, 1, 2, 3]\n",
    "print(f\"Probabilities of detecting accounting errors:\")\n",
    "for i in errVals:\n",
    "    prob = (pErr ** i) * (pCorrect ** (3 - i))\n",
    "    dist.append(prob)\n",
    "    print(f\"Probability of {i} error(s) detected - {round(prob, 5)}\")\n",
    "    \n",
    "fig = pp.figure()\n",
    "ax = fig.add_axes([0, 0, 1, 1])\n",
    "ax.bar(errVals, dist, width=1)\n",
    "ax.set_title(\"Probabilities of accounting errors\")\n",
    "ax.set_ylabel(\"Probability\")\n",
    "ax.set_xlabel(\"Number of errors found\")\n",
    "ax.set_xticks(errVals)\n",
    "pp.show()\n",
    "\n",
    "print(f\"Probability of detecting more than one error: {round(dist[2] + dist[3], 5)}\")"
   ]
  }
 ],
 "metadata": {
  "kernelspec": {
   "display_name": "Python 3",
   "language": "python",
   "name": "python3"
  },
  "language_info": {
   "codemirror_mode": {
    "name": "ipython",
    "version": 3
   },
   "file_extension": ".py",
   "mimetype": "text/x-python",
   "name": "python",
   "nbconvert_exporter": "python",
   "pygments_lexer": "ipython3",
   "version": "3.7.3"
  }
 },
 "nbformat": 4,
 "nbformat_minor": 4
}
