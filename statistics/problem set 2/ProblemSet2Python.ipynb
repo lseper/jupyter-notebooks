{
 "cells": [
  {
   "cell_type": "markdown",
   "metadata": {},
   "source": [
    "# Problem Set 2 - Liam Seper\n",
    "\n",
    "## Question 1"
   ]
  },
  {
   "cell_type": "code",
   "execution_count": 1,
   "metadata": {},
   "outputs": [],
   "source": [
    "import pandas as pd\n",
    "import matplotlib.pyplot as pp\n",
    "import numpy as np\n",
    "from matplotlib_venn import venn3\n",
    "import random"
   ]
  },
  {
   "cell_type": "code",
   "execution_count": 2,
   "metadata": {},
   "outputs": [],
   "source": [
    "a = {'a', 'b', 'c', 'd'}\n",
    "b = {'d', 'e', 'f', 'g', 'h'}\n",
    "c = {'g', 'h', 'i', 'j', 'k'}\n",
    "s = c.union(a, b)"
   ]
  },
  {
   "cell_type": "markdown",
   "metadata": {},
   "source": [
    "### a.)"
   ]
  },
  {
   "cell_type": "code",
   "execution_count": 3,
   "metadata": {},
   "outputs": [
    {
     "name": "stdout",
     "output_type": "stream",
     "text": [
      "Set A: {'c', 'b', 'a', 'd'}\n",
      "Set B: {'f', 'e', 'd', 'g', 'h'}\n",
      "Set C: {'k', 'i', 'j', 'g', 'h'}\n",
      "Set S: {'k', 'f', 'c', 'e', 'i', 'j', 'b', 'd', 'a', 'g', 'h'}\n"
     ]
    }
   ],
   "source": [
    "print(f\"Set A: {a}\")\n",
    "print(f\"Set B: {b}\")\n",
    "print(f\"Set C: {c}\")\n",
    "print(f\"Set S: {s}\")"
   ]
  },
  {
   "cell_type": "code",
   "execution_count": 4,
   "metadata": {},
   "outputs": [
    {
     "name": "stdout",
     "output_type": "stream",
     "text": [
      "a complement = {'k', 'f', 'e', 'i', 'j', 'g', 'h'}\n",
      "b complement = {'k', 'i', 'j', 'b', 'a', 'c'}\n",
      "c complement = {'f', 'e', 'd', 'b', 'a', 'c'}\n",
      "s complement = set()\n"
     ]
    }
   ],
   "source": [
    "aC = s - a\n",
    "bC = s - b\n",
    "cC = s - c\n",
    "sC = s - s\n",
    "\n",
    "print(f\"a complement = {aC}\")\n",
    "print(f\"b complement = {bC}\")\n",
    "print(f\"c complement = {cC}\")\n",
    "print(f\"s complement = {sC}\")"
   ]
  },
  {
   "cell_type": "markdown",
   "metadata": {},
   "source": [
    "### c.)"
   ]
  },
  {
   "cell_type": "code",
   "execution_count": 5,
   "metadata": {},
   "outputs": [
    {
     "name": "stdout",
     "output_type": "stream",
     "text": [
      "a union c = {'g', 'k', 'd', 'i', 'b', 'j', 'a', 'c', 'h'}\n",
      "c complement intersect a = {'c', 'b', 'a'}\n",
      "a intersect b intersect c = set()\n",
      "(a union b) intersect intersect c complement = {'f', 'e', 'd', 'b', 'a', 'c'}\n",
      "a union b = {'g', 'f', 'e', 'd', 'b', 'a', 'c', 'h'}\n",
      "c intersect a complement = {'k', 'i', 'j', 'g', 'h'}\n",
      "a union b union c = {'g', 'f', 'k', 'e', 'd', 'i', 'b', 'j', 'a', 'c', 'h'}\n"
     ]
    }
   ],
   "source": [
    "print(f\"a union c = {a | c}\")\n",
    "print(f\"c complement intersect a = {bC & a}\")\n",
    "print(f\"a intersect b intersect c = {a & b & c}\")\n",
    "print(f\"(a union b) intersect intersect c complement = {(a | b) & cC}\")\n",
    "print(f\"a union b = {a | b}\")\n",
    "print(f\"c intersect a complement = {c & aC}\")\n",
    "print(f\"a union b union c = {a | b | c}\")"
   ]
  },
  {
   "cell_type": "markdown",
   "metadata": {},
   "source": [
    "## Question 2"
   ]
  },
  {
   "cell_type": "markdown",
   "metadata": {},
   "source": [
    "### a.)"
   ]
  },
  {
   "cell_type": "code",
   "execution_count": 6,
   "metadata": {},
   "outputs": [
    {
     "name": "stdout",
     "output_type": "stream",
     "text": [
      "Number of observations: 1309\n",
      "Number of variables: 14\n",
      "\n",
      "The following features have NaN values for some observations:\n",
      "age\n",
      "fare\n",
      "cabin\n",
      "embarked\n",
      "boat\n",
      "body\n",
      "home.dest\n"
     ]
    }
   ],
   "source": [
    "df = pd.read_csv(\"titanic3.csv\")\n",
    "\n",
    "numObservations = df.shape[0]\n",
    "numVariables = df.shape[1]\n",
    "\n",
    "print(f\"Number of observations: {numObservations}\")\n",
    "print(f\"Number of variables: {numVariables}\\n\")\n",
    "\n",
    "print(f\"The following features have NaN values for some observations:\")\n",
    "for name, data in df.iteritems():\n",
    "    if(data.isna().values.any()):\n",
    "        print(name)"
   ]
  },
  {
   "cell_type": "markdown",
   "metadata": {},
   "source": [
    "### b.)"
   ]
  },
  {
   "cell_type": "code",
   "execution_count": 7,
   "metadata": {},
   "outputs": [
    {
     "name": "stdout",
     "output_type": "stream",
     "text": [
      "There are 1046 observations in the clean data\n"
     ]
    }
   ],
   "source": [
    "dfNoNA = df.drop(columns = ['name', 'sibsp', 'parch', 'ticket', 'fare', 'cabin', 'embarked', 'boat', 'body', 'home.dest']).dropna(0)\n",
    "print(f\"There are {len(dfNoNA)} observations in the clean data\")"
   ]
  },
  {
   "cell_type": "markdown",
   "metadata": {},
   "source": [
    "### c.)"
   ]
  },
  {
   "cell_type": "code",
   "execution_count": 8,
   "metadata": {},
   "outputs": [
    {
     "name": "stdout",
     "output_type": "stream",
     "text": [
      "Number of passengers that survived: 427\n",
      "Number of passengers that died: 619\n",
      "Number of passengers that were male: 658\n",
      "Number of passengers that were female: 388\n",
      "Number of passengers in class 1: 284\n",
      "Number of passengers in class 2: 261\n",
      "Number of passengers in class 3: 501\n",
      "Proportion of 1st Class passengers who survived: 0.637, proportion that died: 0.363\n",
      "Proportion of 2nd Class passengers who survived: 0.441, proportion that died: 0.559\n",
      "Proportion of 3rd Class passengers who survived: 0.261, proportion that died: 0.739\n"
     ]
    }
   ],
   "source": [
    "survived = dfNoNA[dfNoNA.survived == 1]\n",
    "died = dfNoNA[dfNoNA.survived == 0]\n",
    "\n",
    "male = dfNoNA[dfNoNA.sex == 'male']\n",
    "female = dfNoNA[dfNoNA.sex == 'female']\n",
    "\n",
    "class1 = dfNoNA[dfNoNA.passClass == 1]\n",
    "class2 = dfNoNA[dfNoNA.passClass == 2]\n",
    "class3 = dfNoNA[dfNoNA.passClass == 3]\n",
    "\n",
    "def getSurvived(c):\n",
    "    return round(len(c[c.survived == 1]) / len(c), 3), round(len(c[c.survived == 0]) / len(c), 3)\n",
    "\n",
    "print(f\"Number of passengers that survived: {len(survived)}\")\n",
    "print(f\"Number of passengers that died: {len(died)}\")\n",
    "\n",
    "print(f\"Number of passengers that were male: {len(male)}\")\n",
    "print(f\"Number of passengers that were female: {len(female)}\")\n",
    "\n",
    "print(f\"Number of passengers in class 1: {len(class1)}\")\n",
    "print(f\"Number of passengers in class 2: {len(class2)}\")\n",
    "print(f\"Number of passengers in class 3: {len(class3)}\")\n",
    "\n",
    "class1Survived = getSurvived(class1)\n",
    "class2Survived = getSurvived(class2)\n",
    "class3Survived = getSurvived(class3)\n",
    "print(f\"Proportion of 1st Class passengers who survived: {class1Survived[0]}, proportion that died: {class1Survived[1]}\")\n",
    "print(f\"Proportion of 2nd Class passengers who survived: {class2Survived[0]}, proportion that died: {class2Survived[1]}\")\n",
    "print(f\"Proportion of 3rd Class passengers who survived: {class3Survived[0]}, proportion that died: {class3Survived[1]}\")"
   ]
  },
  {
   "cell_type": "markdown",
   "metadata": {},
   "source": [
    "### d.)"
   ]
  },
  {
   "cell_type": "code",
   "execution_count": 9,
   "metadata": {},
   "outputs": [
    {
     "name": "stdout",
     "output_type": "stream",
     "text": [
      "Fraction of passengers that did not survive: 0.592\n",
      "Fraction of males that that did not survive: 0.795\n",
      "Fraction of adults that did not survive: 0.612\n",
      "Proportion of 2nd and 3rd Class passengers that did not survive: 0.677\n"
     ]
    }
   ],
   "source": [
    "numInClass23 = len(class2) + len(class3)\n",
    "class2Died = class2[class2.survived == 0]\n",
    "class3Died = class3[class3.survived == 0]\n",
    "\n",
    "print(f\"Fraction of passengers that did not survive: {round(len(died) / len(dfNoNA), 3)}\")\n",
    "malesSum = getSurvived(male)\n",
    "print(f\"Fraction of males that that did not survive: {round(malesSum[1], 3)}\")\n",
    "adults = dfNoNA[dfNoNA.age >= 18]\n",
    "adultsSum = getSurvived(adults)\n",
    "print(f\"Fraction of adults that did not survive: {round(adultsSum[1], 3)}\")\n",
    "print(f\"Proportion of 2nd and 3rd Class passengers that did not survive: {round((len(class2Died) + len(class3Died)) / numInClass23, 3)}\")"
   ]
  },
  {
   "cell_type": "markdown",
   "metadata": {},
   "source": [
    "### e.)"
   ]
  },
  {
   "cell_type": "code",
   "execution_count": 10,
   "metadata": {},
   "outputs": [
    {
     "name": "stdout",
     "output_type": "stream",
     "text": [
      "Proportion of those that did not survive that were adult males: 0.763\n",
      "Proportion of those that did not survive that were male, and also in class 2 or 3: 0.686\n",
      "Proportion of those that did not survive that were adults, and also in class 2 or 3: 0.718\n",
      "Propotion of those that did not survive that were adult males, in class 2 or 3: 0.606\n"
     ]
    }
   ],
   "source": [
    "def getProp(sub, l):\n",
    "    return sub[l], round(len(sub[l]) / len(died), 3)\n",
    "\n",
    "maleDied = getProp(died, died.sex == 'male')[0]\n",
    "maleAdultDied = getProp(maleDied, maleDied.age >= 18)[1]\n",
    "print(f\"Proportion of those that did not survive that were adult males: {maleAdultDied}\")\n",
    "maleDied = getProp(died, died.sex == 'male')[0]\n",
    "print(f\"Proportion of those that did not survive that were male, and also in class 2 or 3: {getProp(maleDied, maleDied.passClass == 2)[1] + getProp(maleDied, maleDied.passClass == 3)[1]}\")\n",
    "adultDied = getProp(died, died.age >= 18)[0]\n",
    "adultClassProp = getProp(adultDied, adultDied.passClass == 2)[1] + getProp(adultDied, adultDied.passClass == 3)[1]\n",
    "print(f\"Proportion of those that did not survive that were adults, and also in class 2 or 3: {round(adultClassProp, 3)}\")\n",
    "maleAdultDied = getProp(maleDied, maleDied.age >= 18)[0]\n",
    "maleAdultDiedProp = getProp(maleAdultDied, maleAdultDied.passClass == 2)[1] + getProp(maleAdultDied, maleAdultDied.passClass == 3)[1]\n",
    "print(f\"Propotion of those that did not survive that were adult males, in class 2 or 3: {round(maleAdultDiedProp, 3)}\")"
   ]
  },
  {
   "cell_type": "markdown",
   "metadata": {},
   "source": [
    "### f.)"
   ]
  },
  {
   "cell_type": "code",
   "execution_count": 11,
   "metadata": {},
   "outputs": [
    {
     "data": {
      "text/plain": [
       "Text(0.5, 1.0, 'Titanic Victims')"
      ]
     },
     "execution_count": 11,
     "metadata": {},
     "output_type": "execute_result"
    },
    {
     "data": {
      "image/png": "[encoded data removed]",
      "text/plain": [
       "<Figure size 432x288 with 1 Axes>"
      ]
     },
     "metadata": {},
     "output_type": "display_data"
    }
   ],
   "source": [
    "# categories: males, adults, 2 & 3 class\n",
    "malesDied = set()\n",
    "adultsDied = set()\n",
    "twoThreeDied = set()\n",
    "\n",
    "for i, row in died.iterrows():\n",
    "    if(row.sex == 'male'):\n",
    "        malesDied.add(i)\n",
    "    if(row.age >= 18):\n",
    "        adultsDied.add(i)\n",
    "    if(row.passClass == 2 or row.passClass == 3):\n",
    "        twoThreeDied.add(i)\n",
    "\n",
    "venn3([malesDied, adultsDied, twoThreeDied], ['Males', 'Adults', 'Class 2 & 3'])\n",
    "pp.title(\"Titanic Victims\")"
   ]
  },
  {
   "cell_type": "markdown",
   "metadata": {},
   "source": [
    "### g.)"
   ]
  },
  {
   "cell_type": "code",
   "execution_count": 12,
   "metadata": {},
   "outputs": [
    {
     "name": "stdout",
     "output_type": "stream",
     "text": [
      "Probability of being male, or an adult, or being in 2nd or 3rd class: 0.992\n",
      "Probability of not being male, or an adult, or being in 2nd or 3rd class: 0.008\n",
      "Probanility of surviving given a passenger is male: 0.205\n",
      "Probability of surviving given a passenger is an adult: 0.388\n",
      "Probability of surviving given a passenger is in class 2 or 3: 0.323\n"
     ]
    }
   ],
   "source": [
    "maleSet = set()\n",
    "adultSet = set()\n",
    "classSet = set()\n",
    "aliveSet = set()\n",
    "total = dfNoNA.shape[0]\n",
    "for i, row in dfNoNA.iterrows():\n",
    "    if(row.sex == 'male'):\n",
    "        maleSet.add(i)\n",
    "    if(row.age >= 18):\n",
    "        adultSet.add(i)\n",
    "    if(row.passClass == 2 or row.passClass == 3):\n",
    "        classSet.add(i)\n",
    "    if(row.survived == 1):\n",
    "        aliveSet.add(i)\n",
    "        \n",
    "print(f\"Probability of being male, or an adult, or being in 2nd or 3rd class: {round(len(maleSet | adultSet | classSet) / total, 3)}\")\n",
    "print(f\"Probability of not being male, or an adult, or being in 2nd or 3rd class: {round( 1 - len(maleSet | adultSet | classSet) / total, 3)}\")\n",
    "aliveGivenMale = (len(maleSet & aliveSet) / total) / (len(maleSet) / total)\n",
    "print(f\"Probanility of surviving given a passenger is male: {round(aliveGivenMale, 3)}\")\n",
    "aliveGivenAdult = (len(adultSet & aliveSet) / total) / (len(adultSet) / total)\n",
    "print(f\"Probability of surviving given a passenger is an adult: {round(aliveGivenAdult, 3)}\")\n",
    "aliveGivenClass = (len(classSet & aliveSet) / total) / (len(classSet) / total)\n",
    "print(f\"Probability of surviving given a passenger is in class 2 or 3: {round(aliveGivenClass, 3)}\")"
   ]
  },
  {
   "cell_type": "markdown",
   "metadata": {},
   "source": [
    "## Question 3"
   ]
  },
  {
   "cell_type": "markdown",
   "metadata": {},
   "source": [
    "### a.)"
   ]
  },
  {
   "cell_type": "code",
   "execution_count": 13,
   "metadata": {},
   "outputs": [
    {
     "name": "stdout",
     "output_type": "stream",
     "text": [
      "Flipping a coin 10 times yields the following vector: ['heads', 'heads', 'tails', 'tails', 'heads', 'tails', 'heads', 'heads', 'heads', 'tails'], with 6 heads, and 4 tails\n"
     ]
    }
   ],
   "source": [
    "random.seed(101)\n",
    "\n",
    "def flipCoin(n, p):\n",
    "    arr = []\n",
    "    numHeads = 0;\n",
    "    numTails = 0;\n",
    "    for i in range(n):\n",
    "        result = random.random()\n",
    "        if(result <= p):\n",
    "            arr.append(\"heads\")\n",
    "            numHeads += 1\n",
    "        else:\n",
    "            arr.append(\"tails\")\n",
    "            numTails += 1\n",
    "    return arr, numHeads, numTails\n",
    "\n",
    "result = flipCoin(10, .6)\n",
    "print(f'Flipping a coin 10 times yields the following vector: {result[0]}, with {result[1]} heads, and {result[2]} tails')"
   ]
  },
  {
   "cell_type": "markdown",
   "metadata": {},
   "source": [
    "### b.)"
   ]
  },
  {
   "cell_type": "code",
   "execution_count": 14,
   "metadata": {},
   "outputs": [
    {
     "name": "stdout",
     "output_type": "stream",
     "text": [
      "Result of rolling a fair die 30 times: [4, 2, 6, 6, 3, 4, 2, 2, 2, 5, 2, 6, 1, 2, 1, 5, 3, 3, 2, 4, 3, 2, 3, 2, 1, 5, 5, 4, 6, 3]\n"
     ]
    }
   ],
   "source": [
    "random.seed(101)\n",
    "\n",
    "def rollDice(n, probs):\n",
    "    DICE_SIDES = [1, 2, 3, 4, 5, 6]\n",
    "    arr = []\n",
    "    for i in range(n):\n",
    "        arr.append(random.choices(DICE_SIDES, probs)[0])\n",
    "    return arr\n",
    "\n",
    "dice_probs = [1/6, 1/6, 1/6, 1/6, 1/6, 1/6]\n",
    "print(f\"Result of rolling a fair die 30 times: {rollDice(30, dice_probs)}\")"
   ]
  },
  {
   "cell_type": "markdown",
   "metadata": {},
   "source": [
    "### c.)"
   ]
  },
  {
   "cell_type": "code",
   "execution_count": 15,
   "metadata": {},
   "outputs": [
    {
     "name": "stdout",
     "output_type": "stream",
     "text": [
      "The results of choosing 5 pebbles with replacement were: ['black', 'white', 'black', 'black', 'black']\n"
     ]
    }
   ],
   "source": [
    "random.seed(101)\n",
    "\n",
    "def getPebbles(k, n, m):\n",
    "    probs = [n / (n + m), m / (n + m)]\n",
    "    options = ['white', 'black']\n",
    "    arr = []\n",
    "    for i in range(k):\n",
    "        arr.append(random.choices(options, probs)[0])\n",
    "    return arr\n",
    "\n",
    "print(f\"The results of choosing 5 pebbles with replacement were: {getPebbles(5, 2, 3)}\")    "
   ]
  },
  {
   "cell_type": "markdown",
   "metadata": {},
   "source": [
    "## Question 4"
   ]
  },
  {
   "cell_type": "code",
   "execution_count": 16,
   "metadata": {},
   "outputs": [
    {
     "name": "stdout",
     "output_type": "stream",
     "text": [
      "2 red pebbles are picked sequentially. The final probabilities are: Urn A: 0.862 -- UrnB: 0.138\n",
      "3 red pebbles are picked sequentially. The final probabilities are: Urn A: 0.94 -- UrnB: 0.06\n",
      "The pebble sequence \"red, red, blue, green, blue, red\" is chosen. The final probabilities are: Urn A: 0.862 -- UrnB: 0.138\n"
     ]
    }
   ],
   "source": [
    "uA = [5, 3, 2]\n",
    "uB = [2, 3, 5]\n",
    "\n",
    "pUA = 0.5\n",
    "pUB = 0.5\n",
    "colors = {\"red\" : 0, \"blue\" : 1, \"green\" : 2}\n",
    "\n",
    "def getUrnProb(uA, uB, pUA, pUB, obs):\n",
    "    pXUA = uA[obs] / np.sum(uA)\n",
    "    pXUB = uB[obs] / np.sum(uB)\n",
    "    return (pXUA * pUA) / ((pXUA * pUA) + (pXUB * pUB))\n",
    "\n",
    "def getSequence(seq, uA, uB, pUA, pUB):\n",
    "    for obs in seq:\n",
    "        pUA = getUrnProb(uA, uB, pUA, pUB, obs)\n",
    "        pUB = (1 - pUA)\n",
    "    return pUA\n",
    "\n",
    "pUAResult = getSequence([colors[\"red\"], colors[\"red\"]], uA, uB, pUA, pUB)\n",
    "pUBResult = 1 - pUAResult\n",
    "print(f\"2 red pebbles are picked sequentially. The final probabilities are: Urn A: {round(pUAResult, 3)} -- UrnB: {round(pUBResult, 3)}\")\n",
    "\n",
    "pUAResult = getSequence([colors[\"red\"], colors[\"red\"], colors[\"red\"]], uA, uB, pUA, pUB)\n",
    "pUBResult = 1 - pUAResult\n",
    "print(f\"3 red pebbles are picked sequentially. The final probabilities are: Urn A: {round(pUAResult, 3)} -- UrnB: {round(pUBResult, 3)}\")\n",
    "\n",
    "pUAResult = getSequence([colors[\"red\"], colors[\"red\"], colors[\"blue\"], colors[\"green\"], colors[\"blue\"], colors[\"red\"]], uA, uB, pUA, pUB)\n",
    "pUBResult = 1 - pUAResult\n",
    "print(f\"The pebble sequence \\\"red, red, blue, green, blue, red\\\" is chosen. The final probabilities are: Urn A: {round(pUAResult, 3)} -- UrnB: {round(pUBResult, 3)}\")"
   ]
  },
  {
   "cell_type": "markdown",
   "metadata": {},
   "source": [
    "## Question 5"
   ]
  },
  {
   "cell_type": "markdown",
   "metadata": {},
   "source": [
    "Insert math here\n",
    "\n",
    "Insert tree image here"
   ]
  },
  {
   "cell_type": "code",
   "execution_count": 17,
   "metadata": {},
   "outputs": [
    {
     "name": "stdout",
     "output_type": "stream",
     "text": [
      "The probability of a driver being sober given that they have a positive test: 0.981\n"
     ]
    }
   ],
   "source": [
    "pDrunk = .001\n",
    "pSober = 1 - pDrunk\n",
    "\n",
    "pPosDrunk = .99\n",
    "pPosSober = .05\n",
    "\n",
    "# p(s | +) = (p(s) * p(+ | s)) / p(+))\n",
    "\n",
    "pSoberPos = pSober * pPosSober / ((pPosSober * pSober) + (pPosDrunk * pDrunk))\n",
    "print(f\"The probability of a driver being sober given that they have a positive test: {round(pSoberPos, 3)}\")"
   ]
  },
  {
   "cell_type": "markdown",
   "metadata": {},
   "source": [
    "## Question 6"
   ]
  },
  {
   "cell_type": "markdown",
   "metadata": {},
   "source": [
    "The logical fallacy present here is that they did not factor in that OJ's wife was already murdered. Then, the actual probability that we should use is P(murdered by abuser | murdered) which would be $\\displaystyle \\frac{Murdered_{Abuser}}{Murdered_{Total}} = \\frac{40}{45} = 0.89$"
   ]
  }
 ],
 "metadata": {
  "kernelspec": {
   "display_name": "Python 3",
   "language": "python",
   "name": "python3"
  },
  "language_info": {
   "codemirror_mode": {
    "name": "ipython",
    "version": 3
   },
   "file_extension": ".py",
   "mimetype": "text/x-python",
   "name": "python",
   "nbconvert_exporter": "python",
   "pygments_lexer": "ipython3",
   "version": "3.7.3"
  }
 },
 "nbformat": 4,
 "nbformat_minor": 4
}
