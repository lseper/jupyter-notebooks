{
 "cells": [
  {
   "cell_type": "code",
   "execution_count": 1,
   "metadata": {},
   "outputs": [],
   "source": [
    "import numpy as np\n",
    "import matplotlib.pyplot as pp\n",
    "import pandas as pd\n",
    "import scipy.integrate as scint\n",
    "import scipy.stats as stats\n",
    "import math\n",
    "import statistics as st\n",
    "import random\n",
    "\n",
    "REG_ROUND = 4\n",
    "SPEC_ROUND = 6"
   ]
  },
  {
   "cell_type": "code",
   "execution_count": 2,
   "metadata": {},
   "outputs": [],
   "source": [
    "def zStatistic(confidence, tails='both'):\n",
    "    zDist = stats.norm(0, 1).ppf\n",
    "    zStatistic = zDist((1 - confidence) / 2)\n",
    "    if(tails == 'both'):\n",
    "        return zStatistic, -zStatistic\n",
    "    if(tails == 'left'):\n",
    "        return zStatistic\n",
    "    return -zStatistic\n",
    "\n",
    "def tStatistic(confidence, dOF, tails='both'):\n",
    "    tDist = stats.t(dOF).ppf\n",
    "    tStatistic = tDist((1 - confidence) / 2)\n",
    "    if(tails == 'both'):\n",
    "        return tStatistic, -tStatistic\n",
    "    if(tails == 'left'):\n",
    "        return tStatistic\n",
    "    return -tStatistic\n",
    "\n",
    "def confInterval(statistics, mean, n, std):\n",
    "    marginErr = std / math.sqrt(n)\n",
    "    conf_int = []\n",
    "    for statistic in statistics:\n",
    "        conf_int.append(mean + statistic * marginErr)\n",
    "    return conf_int\n",
    "\n",
    "def combinedTConfInterval(confidence, samp1, samp2, tails='both'):\n",
    "    tStats = tStatistic(confidence, samp1.size + samp2.size - 2, tails=tails)\n",
    "    sp = (((samp1.size - 1) * samp1.var(ddof=1)) + ((samp2.size - 1) * samp2.var(ddof=1))) / (samp1.size + samp2.size - 2)\n",
    "    se = math.sqrt(sp) * math.sqrt((1 / samp1.size) + (1 / samp2.size))\n",
    "    \n",
    "    combMean = (samp1 - samp2).mean()\n",
    "    conf_int = []\n",
    "    for tStat in tStats:\n",
    "        conf_int.append(combMean + tStat * se)\n",
    "    return conf_int\n",
    "\n",
    "def proportionInterval(confidence, p, n):\n",
    "    zStats = zStatistic(confidence)\n",
    "    se = math.sqrt((p * (1 - p)) / n)\n",
    "    confInt = []\n",
    "    for stat in zStats:\n",
    "        confInt.append(p + (stat * se))\n",
    "    return confInt\n",
    "\n",
    "def combinedProportionInterval(confidence, p1, p2, n1, n2):\n",
    "    zStats = zStatistic(confidence)\n",
    "    se = math.sqrt(((p1 * (1 - p1)) / n1) + ((p2 * (1 - p2)) / n2))\n",
    "    conf_int = []\n",
    "    for stat in zStats:\n",
    "        conf_int.append((p1 - p2) + stat * se)\n",
    "    return conf_int\n",
    "    "
   ]
  },
  {
   "cell_type": "markdown",
   "metadata": {},
   "source": [
    "## Question 1"
   ]
  },
  {
   "cell_type": "markdown",
   "metadata": {},
   "source": [
    "Since we know our Margin of Error = 2 = $\\displaystyle Z_0.005 \\cdot \\frac{\\sigma}{\\sqrt{n}}$\n",
    "\n",
    "We can first get our Z score by computing it below"
   ]
  },
  {
   "cell_type": "code",
   "execution_count": 18,
   "metadata": {},
   "outputs": [
    {
     "name": "stdout",
     "output_type": "stream",
     "text": [
      "We need a sample size of at least: 56 to have a margin of error of at most 2 months\n"
     ]
    }
   ],
   "source": [
    "z = zStatistic(.99, tails='right')\n",
    "\n",
    "standardErr = 2\n",
    "std = 5.8\n",
    "n = (z * std / standardErr) ** 2\n",
    "print(f'We need a sample size of at least: {math.ceil(n)} to have a margin of error of at most 2 months')"
   ]
  },
  {
   "cell_type": "markdown",
   "metadata": {},
   "source": [
    "## Question 2"
   ]
  },
  {
   "cell_type": "code",
   "execution_count": 19,
   "metadata": {},
   "outputs": [
    {
     "name": "stdout",
     "output_type": "stream",
     "text": [
      "A 99% confidence interval for average number of kilometers per year: 22495.4266 < μ < 24504.5734\n"
     ]
    }
   ],
   "source": [
    "n = 100\n",
    "mean = 23500\n",
    "std = 3900\n",
    "conf = .99\n",
    "\n",
    "# do I use t or z statistic here?\n",
    "zStats = zStatistic(conf)\n",
    "tStats = tStatistic(conf, n)\n",
    "# print(f'{round(zStats[0], REG_ROUND)}< x < {round(zStats[1], REG_ROUND)}')\n",
    "\n",
    "interval = confInterval(zStats, mean, n, std)\n",
    "print(f'A 99% confidence interval for average number of kilometers per year: {round(interval[0], REG_ROUND)} < μ < {round(interval[1], REG_ROUND)}')"
   ]
  },
  {
   "cell_type": "markdown",
   "metadata": {},
   "source": [
    "**b**\n",
    "\n",
    "Since we know our standard error is $\\displaystyle \\frac{\\sigma}{\\sqrt{n}} = \\frac{3900}{\\sqrt{100}} = \\frac{3900}{10} = 390$\n",
    "\n",
    "And our Z-Score is $\\approx$ 2.57, then our margin of error = $Z_{\\frac{\\alpha}{2}} \\cdot 390 = 1002.3$\n",
    "\n",
    "So we can assert that the size of our error is 1002.3 with 99% confidence"
   ]
  },
  {
   "cell_type": "markdown",
   "metadata": {},
   "source": [
    "## Question 3"
   ]
  },
  {
   "cell_type": "markdown",
   "metadata": {},
   "source": [
    "Since we know that margin of error = $\\displaystyle Z_{\\frac{\\alpha}{2}} \\cdot \\frac{\\sigma}{\\sqrt(n)}$\n",
    "\n",
    "So we solve for $\\displaystyle 15 =  Z_{\\frac{\\alpha}{2}} \\cdot \\frac{\\sigma}{\\sqrt(n)}$\n",
    "\n",
    "Knowing that our confidence level is 95%, we can compute the $Z_{\\frac{\\alpha}{2}}$ value with code below"
   ]
  },
  {
   "cell_type": "code",
   "execution_count": 5,
   "metadata": {},
   "outputs": [
    {
     "name": "stdout",
     "output_type": "stream",
     "text": [
      "1.96\n"
     ]
    }
   ],
   "source": [
    "z = zStatistic(.95)[1]\n",
    "print(round(z, REG_ROUND))"
   ]
  },
  {
   "cell_type": "markdown",
   "metadata": {},
   "source": [
    "Plugging this into our formula, along with our values of $\\sigma = 40$ we can get\n",
    "\n",
    "$$\n",
    "\\begin{align*}\n",
    "15 = Z_0.025 \\cdot \\frac{40}{\\sqrt(n)}\n",
    "\\end{align*}\n",
    "$$\n",
    "\n",
    "Rearranging for n yields\n",
    "\n",
    "$$\n",
    "\\begin{align*}\n",
    "n &= (Z_0.025 \\cdot \\frac{40}{15})^2 \\\\ \n",
    "&= 27 \\\\\n",
    "&\\approx 28\n",
    "\\end{align*}\n",
    "$$"
   ]
  },
  {
   "cell_type": "markdown",
   "metadata": {},
   "source": [
    "So the n we would want to have would be 28 for our margin of error to be at most 15 seconds away from the true mean."
   ]
  },
  {
   "cell_type": "markdown",
   "metadata": {},
   "source": [
    "## Question 4"
   ]
  },
  {
   "cell_type": "code",
   "execution_count": 20,
   "metadata": {},
   "outputs": [
    {
     "name": "stdout",
     "output_type": "stream",
     "text": [
      "95% confidence interval: 10.1534g < μ < 12.4466g\n"
     ]
    }
   ],
   "source": [
    "n = 20\n",
    "confidence = .95\n",
    "mean = 11.3\n",
    "std = 2.45\n",
    "\n",
    "tStats = tStatistic(confidence, n - 1)\n",
    "interval = confInterval(tStats, mean, n, std)\n",
    "print(f'95% confidence interval: {round(interval[0], REG_ROUND)}g < μ < {round(interval[1], REG_ROUND)}g')"
   ]
  },
  {
   "cell_type": "markdown",
   "metadata": {},
   "source": [
    "## Question 5"
   ]
  },
  {
   "cell_type": "code",
   "execution_count": 24,
   "metadata": {},
   "outputs": [
    {
     "name": "stdout",
     "output_type": "stream",
     "text": [
      "A 95% confidence interval for μA - μB is: -6535.0239 < μA - μB < 2935.0239\n"
     ]
    }
   ],
   "source": [
    "n = 12\n",
    "samp1Mean = 36300\n",
    "samp1Var = 5000 ** 2\n",
    "samp2Mean = 38100\n",
    "samp2Var = 6100 ** 2\n",
    "CONFIDENCE = .95\n",
    "degrees = round((((samp1Var + samp2Var) / n) ** 2) / ((((samp1Var / n)**2) / (n - 1)) + (((samp2Var / n)**2) / (n - 1))))\n",
    "se = math.sqrt((samp1Var / n) + (samp2Var / n))\n",
    "tStats = tStatistic(CONFIDENCE, degrees)\n",
    "\n",
    "conf_int = []\n",
    "for stat in tStats:\n",
    "    conf_int.append((samp1Mean - samp2Mean) + stat * se)\n",
    "print(f'A 95% confidence interval for μA - μB is: {round(conf_int[0], REG_ROUND)} < μA - μB < {round(conf_int[1], REG_ROUND)}')"
   ]
  },
  {
   "cell_type": "markdown",
   "metadata": {},
   "source": [
    "## Question 6"
   ]
  },
  {
   "cell_type": "code",
   "execution_count": 7,
   "metadata": {},
   "outputs": [
    {
     "name": "stdout",
     "output_type": "stream",
     "text": [
      "The 95% confidence interval for the difference of mean drying times is: 0.5465 < μB - μA < 1.6935\n"
     ]
    }
   ],
   "source": [
    "sampA = np.array([3.5, 2.7, 3.9, 4.2, 3.6, 2.7, 3.3, 5.2, 4.2, 2.9, 4.4, 5.2, 4.0, 4.1, 3.4])\n",
    "sampB = np.array([4.7, 3.9, 4.5, 5.5, 4.0, 5.3, 4.3, 6.0, 5.2, 3.7, 5.5, 6.2, 5.1, 5.4, 4.8])\n",
    "CONFIDENCE = .95\n",
    "interval = combinedTConfInterval(CONFIDENCE, sampB, sampA)\n",
    "print(f'The 95% confidence interval for the difference of mean drying times is: {round(interval[0], REG_ROUND)} < μB - μA < {round(interval[1], REG_ROUND)}')"
   ]
  },
  {
   "cell_type": "markdown",
   "metadata": {},
   "source": [
    "Because the confidence interval does not contain 0, this points to the populations being not equal."
   ]
  },
  {
   "cell_type": "markdown",
   "metadata": {},
   "source": [
    "## Question 7."
   ]
  },
  {
   "cell_type": "code",
   "execution_count": 8,
   "metadata": {},
   "outputs": [
    {
     "name": "stdout",
     "output_type": "stream",
     "text": [
      "96% confidence interval for fraction of voting population favoring the suit: 0.4981 < p < 0.6419\n",
      "At 96% confidence, we can assure that our error will not be more than 0.0719\n"
     ]
    }
   ],
   "source": [
    "n = 200\n",
    "nFor = 114\n",
    "p = nFor / n\n",
    "CONFIDENCE = .96\n",
    "interval = proportionInterval(CONFIDENCE, p, n)\n",
    "\n",
    "print(f'96% confidence interval for fraction of voting population favoring the suit: {round(interval[0], REG_ROUND)} < p < {round(interval[1], REG_ROUND)}')\n",
    "standardError = zStatistic(CONFIDENCE, tails='right') * math.sqrt(.57 * .43 / n)\n",
    "print(f'At 96% confidence, we can assure that our error will not be more than {round(standardError, REG_ROUND)}')"
   ]
  },
  {
   "cell_type": "markdown",
   "metadata": {},
   "source": [
    "## Question 8."
   ]
  },
  {
   "cell_type": "code",
   "execution_count": 25,
   "metadata": {},
   "outputs": [
    {
     "name": "stdout",
     "output_type": "stream",
     "text": [
      "At 90% confidence, we can conclude that the difference between the non-innoculated rats and innoculated rats is: 0.0011 < p1 - p2 < 0.0869\n"
     ]
    }
   ],
   "source": [
    "n = 500\n",
    "n1For = 120\n",
    "n2For = 98\n",
    "CONFIDENCE = .9\n",
    "interval = combinedProportionInterval(CONFIDENCE, n1For / n, n2For / n, n, n)\n",
    "print(f'At 90% confidence, we can conclude that the difference between the non-innoculated rats and innoculated rats is: {round(interval[0], REG_ROUND)} < p1 - p2 < {round(interval[1], REG_ROUND)}')\n"
   ]
  },
  {
   "cell_type": "markdown",
   "metadata": {},
   "source": [
    "## Question 9."
   ]
  },
  {
   "cell_type": "code",
   "execution_count": 26,
   "metadata": {},
   "outputs": [
    {
     "name": "stdout",
     "output_type": "stream",
     "text": [
      "Confidence interval of the battery life variance: 0.2926 < σ^2 < 6.7297\n"
     ]
    }
   ],
   "source": [
    "popVar = 1\n",
    "CONFIDENCE = .95\n",
    "sample = np.array([1.9, 2.4, 3.0, 3.5, 4.2])\n",
    "\n",
    "chi2 = stats.chi2(sample.size - 1).ppf\n",
    "upper = chi2((1 - CONFIDENCE) / 2)\n",
    "lower = chi2(1 - ((1 - CONFIDENCE) / 2))\n",
    "numerator = (sample.size - 1) * sample.var(ddof=1)\n",
    "\n",
    "print(f'Confidence interval of the battery life variance: {round(numerator / lower, REG_ROUND)} < σ^2 < {round(numerator / upper, REG_ROUND)}')"
   ]
  },
  {
   "cell_type": "markdown",
   "metadata": {},
   "source": [
    "At the 90% confidence level, the claimed variance is valid, since it falls within the range. However, we should consider getting a larger sample size."
   ]
  },
  {
   "cell_type": "markdown",
   "metadata": {},
   "source": [
    "## Question 10."
   ]
  },
  {
   "cell_type": "code",
   "execution_count": 11,
   "metadata": {},
   "outputs": [
    {
     "name": "stdout",
     "output_type": "stream",
     "text": [
      "There are 88 observations and 4 columns\n"
     ]
    },
    {
     "data": {
      "text/html": [
       "<div>\n",
       "<style scoped>\n",
       "    .dataframe tbody tr th:only-of-type {\n",
       "        vertical-align: middle;\n",
       "    }\n",
       "\n",
       "    .dataframe tbody tr th {\n",
       "        vertical-align: top;\n",
       "    }\n",
       "\n",
       "    .dataframe thead th {\n",
       "        text-align: right;\n",
       "    }\n",
       "</style>\n",
       "<table border=\"1\" class=\"dataframe\">\n",
       "  <thead>\n",
       "    <tr style=\"text-align: right;\">\n",
       "      <th></th>\n",
       "      <th>Year</th>\n",
       "      <th>Stocks</th>\n",
       "      <th>Bonds</th>\n",
       "      <th>Bills</th>\n",
       "    </tr>\n",
       "  </thead>\n",
       "  <tbody>\n",
       "    <tr>\n",
       "      <th>0</th>\n",
       "      <td>1926</td>\n",
       "      <td>0.1375</td>\n",
       "      <td>0.0569</td>\n",
       "      <td>0.0330</td>\n",
       "    </tr>\n",
       "    <tr>\n",
       "      <th>1</th>\n",
       "      <td>1927</td>\n",
       "      <td>0.3570</td>\n",
       "      <td>0.0658</td>\n",
       "      <td>0.0315</td>\n",
       "    </tr>\n",
       "    <tr>\n",
       "      <th>2</th>\n",
       "      <td>1928</td>\n",
       "      <td>0.4508</td>\n",
       "      <td>0.0115</td>\n",
       "      <td>0.0405</td>\n",
       "    </tr>\n",
       "    <tr>\n",
       "      <th>3</th>\n",
       "      <td>1929</td>\n",
       "      <td>-0.0880</td>\n",
       "      <td>0.0439</td>\n",
       "      <td>0.0447</td>\n",
       "    </tr>\n",
       "    <tr>\n",
       "      <th>4</th>\n",
       "      <td>1930</td>\n",
       "      <td>-0.2513</td>\n",
       "      <td>0.0447</td>\n",
       "      <td>0.0227</td>\n",
       "    </tr>\n",
       "  </tbody>\n",
       "</table>\n",
       "</div>"
      ],
      "text/plain": [
       "   Year  Stocks   Bonds   Bills \n",
       "0  1926   0.1375  0.0569  0.0330\n",
       "1  1927   0.3570  0.0658  0.0315\n",
       "2  1928   0.4508  0.0115  0.0405\n",
       "3  1929  -0.0880  0.0439  0.0447\n",
       "4  1930  -0.2513  0.0447  0.0227"
      ]
     },
     "execution_count": 11,
     "metadata": {},
     "output_type": "execute_result"
    }
   ],
   "source": [
    "df = pd.read_csv('Table12.1.csv')\n",
    "df = df.rename({'Stocks ': 'Stocks', 'Bonds ' : 'Bonds', 'Bills ': 'Bills'})\n",
    "print(f'There are {df.shape[0]} observations and {df.shape[1]} columns')\n",
    "df.head()"
   ]
  },
  {
   "cell_type": "code",
   "execution_count": 12,
   "metadata": {},
   "outputs": [
    {
     "data": {
      "text/html": [
       "<div>\n",
       "<style scoped>\n",
       "    .dataframe tbody tr th:only-of-type {\n",
       "        vertical-align: middle;\n",
       "    }\n",
       "\n",
       "    .dataframe tbody tr th {\n",
       "        vertical-align: top;\n",
       "    }\n",
       "\n",
       "    .dataframe thead th {\n",
       "        text-align: right;\n",
       "    }\n",
       "</style>\n",
       "<table border=\"1\" class=\"dataframe\">\n",
       "  <thead>\n",
       "    <tr style=\"text-align: right;\">\n",
       "      <th></th>\n",
       "      <th>Stocks</th>\n",
       "      <th>Bonds</th>\n",
       "      <th>Bills</th>\n",
       "      <th>MRP</th>\n",
       "    </tr>\n",
       "  </thead>\n",
       "  <tbody>\n",
       "    <tr>\n",
       "      <th>0</th>\n",
       "      <td>0.1375</td>\n",
       "      <td>0.0569</td>\n",
       "      <td>0.0330</td>\n",
       "      <td>0.1045</td>\n",
       "    </tr>\n",
       "    <tr>\n",
       "      <th>1</th>\n",
       "      <td>0.3570</td>\n",
       "      <td>0.0658</td>\n",
       "      <td>0.0315</td>\n",
       "      <td>0.3255</td>\n",
       "    </tr>\n",
       "    <tr>\n",
       "      <th>2</th>\n",
       "      <td>0.4508</td>\n",
       "      <td>0.0115</td>\n",
       "      <td>0.0405</td>\n",
       "      <td>0.4103</td>\n",
       "    </tr>\n",
       "    <tr>\n",
       "      <th>3</th>\n",
       "      <td>-0.0880</td>\n",
       "      <td>0.0439</td>\n",
       "      <td>0.0447</td>\n",
       "      <td>-0.1327</td>\n",
       "    </tr>\n",
       "    <tr>\n",
       "      <th>4</th>\n",
       "      <td>-0.2513</td>\n",
       "      <td>0.0447</td>\n",
       "      <td>0.0227</td>\n",
       "      <td>-0.2740</td>\n",
       "    </tr>\n",
       "  </tbody>\n",
       "</table>\n",
       "</div>"
      ],
      "text/plain": [
       "   Stocks   Bonds   Bills      MRP\n",
       "0   0.1375  0.0569  0.0330  0.1045\n",
       "1   0.3570  0.0658  0.0315  0.3255\n",
       "2   0.4508  0.0115  0.0405  0.4103\n",
       "3  -0.0880  0.0439  0.0447 -0.1327\n",
       "4  -0.2513  0.0447  0.0227 -0.2740"
      ]
     },
     "execution_count": 12,
     "metadata": {},
     "output_type": "execute_result"
    }
   ],
   "source": [
    "df['MRP'] = df['Stocks '] - df['Bills ']\n",
    "df = df.drop(columns='Year')\n",
    "df.head()"
   ]
  },
  {
   "cell_type": "code",
   "execution_count": 13,
   "metadata": {},
   "outputs": [
    {
     "name": "stdout",
     "output_type": "stream",
     "text": [
      "Stocks  -- Mean: 0.1193 -- Standard Deviation: 0.2005 -- Variance: 0.0402\n",
      "Bonds  -- Mean: 0.0581 -- Standard Deviation: 0.1027 -- Variance: 0.0106\n",
      "Bills  -- Mean: 0.0365 -- Standard Deviation: 0.0312 -- Variance:  0.001\n",
      "MRP -- Mean: 0.0828 -- Standard Deviation:  0.203 -- Variance: 0.0412\n"
     ]
    }
   ],
   "source": [
    "means = [(colName, np.array(colData).mean()) for colName, colData in df.iteritems()]\n",
    "variances = [(colName, np.array(colData).var()) for colName, colData in df.iteritems()]\n",
    "stds = [(colName, np.array(colData).std()) for colName, colData in df.iteritems()]\n",
    "\n",
    "for i in range(len(means)):\n",
    "    print(f'{means[i][0]} -- Mean: {round(means[i][1], REG_ROUND): >6} -- Standard Deviation: {round(stds[i][1], REG_ROUND): >6} -- Variance: {round(variances[i][1], REG_ROUND): >6}')"
   ]
  },
  {
   "cell_type": "code",
   "execution_count": 14,
   "metadata": {},
   "outputs": [
    {
     "data": {
      "image/png": "[encoded data removed]",
      "text/plain": [
       "<Figure size 432x288 with 1 Axes>"
      ]
     },
     "metadata": {
      "needs_background": "light"
     },
     "output_type": "display_data"
    }
   ],
   "source": [
    "pp.hist(df['MRP'], bins=30,color='orange',label='MRP Histogram')\n",
    "pp.axvline(means[3][1], color='red', label='MRP mean')\n",
    "pp.title('MRP of Stocks and Bills')\n",
    "pp.xlabel('MRP')\n",
    "pp.ylabel('Frequency')\n",
    "pp.legend(loc='upper left')\n",
    "pp.show()"
   ]
  },
  {
   "cell_type": "markdown",
   "metadata": {},
   "source": [
    "## Question 11."
   ]
  },
  {
   "cell_type": "code",
   "execution_count": 28,
   "metadata": {},
   "outputs": [
    {
     "name": "stdout",
     "output_type": "stream",
     "text": [
      "first 5 samples: [-0.1261, 0.25, 0.1492, 0.0097, 0.19590000000000002]\n"
     ]
    }
   ],
   "source": [
    "random.seed(101)\n",
    "n = 20\n",
    "sample = random.choices(df['MRP'], k=n)\n",
    "print(f'first 5 samples: {sample[:5]}')"
   ]
  },
  {
   "cell_type": "code",
   "execution_count": 29,
   "metadata": {},
   "outputs": [
    {
     "name": "stdout",
     "output_type": "stream",
     "text": [
      "MRP Population Variance: 0.04121\n",
      "MRP Sample Mean: 0.17641\n",
      "MRP Sample Standard Variance: 0.03287\n"
     ]
    }
   ],
   "source": [
    "print(f'MRP Population Variance: {round(variances[3][1], 5)}')\n",
    "print(f'MRP Sample Mean: {round(np.mean(sample), 5)}')\n",
    "print(f'MRP Sample Standard Variance: {round(np.var(sample, ddof=1), 5)}')"
   ]
  },
  {
   "cell_type": "code",
   "execution_count": 17,
   "metadata": {},
   "outputs": [
    {
     "name": "stdout",
     "output_type": "stream",
     "text": [
      "Standard Error: 0.04054\n",
      "Margin of Error: 0.0701\n",
      "Confidence Interval: 0.10631 < μ < 0.24651\n",
      "\n"
     ]
    }
   ],
   "source": [
    "CONFIDENCE = .9\n",
    "tStats = tStatistic(CONFIDENCE, n - 1)\n",
    "se = np.std(sample, ddof=1) / math.sqrt(n)\n",
    "me = tStats[1] * se\n",
    "interval = confInterval(tStats, np.mean(sample), n, np.std(sample, ddof=1))\n",
    "print(f'''Standard Error: {round(se, 5)}\n",
    "Margin of Error: {round(me, 5)}\n",
    "Confidence Interval: {round(interval[0], 5)} < μ < {round(interval[1], 5)}\n",
    "''')"
   ]
  },
  {
   "cell_type": "markdown",
   "metadata": {},
   "source": [
    "No, this confidence interval excludes the population mean. This obviously is inconsistent with our actual computed popluation mean, and means we should probably take a larger sample."
   ]
  },
  {
   "cell_type": "markdown",
   "metadata": {},
   "source": [
    "## Misc ScratchWork"
   ]
  },
  {
   "cell_type": "code",
   "execution_count": 6,
   "metadata": {},
   "outputs": [
    {
     "name": "stdout",
     "output_type": "stream",
     "text": [
      "(-2.2621571627409915, 2.2621571627409915)\n",
      "[66.9475160404714, 79.25248395952859]\n"
     ]
    }
   ],
   "source": [
    "tStats = tStatistic(.95, 9)\n",
    "print(tStats)\n",
    "interval = confInterval(tStats, 73.1, 13.519, 10)\n",
    "print(interval)"
   ]
  },
  {
   "cell_type": "code",
   "execution_count": 9,
   "metadata": {},
   "outputs": [
    {
     "name": "stdout",
     "output_type": "stream",
     "text": [
      "4.4829029305704506e-09\n"
     ]
    }
   ],
   "source": [
    "mean = 16.6\n",
    "std = 31.9\n",
    "target = 200\n",
    "\n",
    "zScore = (target - mean) / std\n",
    "norm = stats.norm(0, 1).pdf\n",
    "p = scint.quad(norm, zScore, np.inf)\n",
    "print(p[0])"
   ]
  }
 ],
 "metadata": {
  "kernelspec": {
   "display_name": "Python 3",
   "language": "python",
   "name": "python3"
  },
  "language_info": {
   "codemirror_mode": {
    "name": "ipython",
    "version": 3
   },
   "file_extension": ".py",
   "mimetype": "text/x-python",
   "name": "python",
   "nbconvert_exporter": "python",
   "pygments_lexer": "ipython3",
   "version": "3.7.3"
  }
 },
 "nbformat": 4,
 "nbformat_minor": 4
}
