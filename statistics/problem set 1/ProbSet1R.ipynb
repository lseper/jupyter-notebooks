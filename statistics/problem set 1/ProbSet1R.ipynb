{
 "cells": [
  {
   "cell_type": "markdown",
   "metadata": {},
   "source": [
    "## Question 8"
   ]
  },
  {
   "cell_type": "code",
   "execution_count": 3,
   "metadata": {},
   "outputs": [
    {
     "data": {
      "text/html": [
       "'Number of variables in the data set: 16'"
      ],
      "text/latex": [
       "'Number of variables in the data set: 16'"
      ],
      "text/markdown": [
       "'Number of variables in the data set: 16'"
      ],
      "text/plain": [
       "[1] \"Number of variables in the data set: 16\""
      ]
     },
     "metadata": {},
     "output_type": "display_data"
    }
   ],
   "source": [
    "# read in the data\n",
    "data = read.csv(\"framingham.csv\")\n",
    "# get the number of variables & print\n",
    "numVars = length(data[0,])\n",
    "printStr = sprintf(\"Number of variables in the data set: %d\", numVars)\n",
    "printStr"
   ]
  },
  {
   "cell_type": "markdown",
   "metadata": {},
   "source": [
    "## Question 9"
   ]
  },
  {
   "cell_type": "code",
   "execution_count": 4,
   "metadata": {},
   "outputs": [
    {
     "name": "stdout",
     "output_type": "stream",
     "text": [
      "'data.frame':\t4240 obs. of  16 variables:\n",
      " $ male           : int  1 0 1 0 0 0 0 0 1 1 ...\n",
      " $ age            : int  39 46 48 61 46 43 63 45 52 43 ...\n",
      " $ education      : int  4 2 1 3 3 2 1 2 1 1 ...\n",
      " $ currentSmoker  : int  0 0 1 1 1 0 0 1 0 1 ...\n",
      " $ cigsPerDay     : int  0 0 20 30 23 0 0 20 0 30 ...\n",
      " $ BPMeds         : int  0 0 0 0 0 0 0 0 0 0 ...\n",
      " $ prevalentStroke: int  0 0 0 0 0 0 0 0 0 0 ...\n",
      " $ prevalentHyp   : int  0 0 0 1 0 1 0 0 1 1 ...\n",
      " $ diabetes       : int  0 0 0 0 0 0 0 0 0 0 ...\n",
      " $ totChol        : int  195 250 245 225 285 228 205 313 260 225 ...\n",
      " $ sysBP          : num  106 121 128 150 130 ...\n",
      " $ diaBP          : num  70 81 80 95 84 110 71 71 89 107 ...\n",
      " $ BMI            : num  27 28.7 25.3 28.6 23.1 ...\n",
      " $ heartRate      : int  80 95 75 65 85 77 60 79 76 93 ...\n",
      " $ glucose        : int  77 76 70 103 85 99 85 78 79 88 ...\n",
      " $ TenYearCHD     : int  0 0 0 1 0 0 1 0 0 0 ...\n"
     ]
    }
   ],
   "source": [
    "types = str(data)"
   ]
  },
  {
   "cell_type": "markdown",
   "metadata": {},
   "source": [
    "Systolic BP is of type: num"
   ]
  },
  {
   "cell_type": "markdown",
   "metadata": {},
   "source": [
    "## Question 10"
   ]
  },
  {
   "cell_type": "code",
   "execution_count": 5,
   "metadata": {},
   "outputs": [
    {
     "data": {
      "text/plain": [
       "      male             age          education     currentSmoker   \n",
       " Min.   :0.0000   Min.   :32.00   Min.   :1.000   Min.   :0.0000  \n",
       " 1st Qu.:0.0000   1st Qu.:42.00   1st Qu.:1.000   1st Qu.:0.0000  \n",
       " Median :0.0000   Median :49.00   Median :2.000   Median :0.0000  \n",
       " Mean   :0.4292   Mean   :49.58   Mean   :1.979   Mean   :0.4941  \n",
       " 3rd Qu.:1.0000   3rd Qu.:56.00   3rd Qu.:3.000   3rd Qu.:1.0000  \n",
       " Max.   :1.0000   Max.   :70.00   Max.   :4.000   Max.   :1.0000  \n",
       "                                  NA's   :105                     \n",
       "   cigsPerDay         BPMeds        prevalentStroke     prevalentHyp   \n",
       " Min.   : 0.000   Min.   :0.00000   Min.   :0.000000   Min.   :0.0000  \n",
       " 1st Qu.: 0.000   1st Qu.:0.00000   1st Qu.:0.000000   1st Qu.:0.0000  \n",
       " Median : 0.000   Median :0.00000   Median :0.000000   Median :0.0000  \n",
       " Mean   : 9.006   Mean   :0.02962   Mean   :0.005896   Mean   :0.3106  \n",
       " 3rd Qu.:20.000   3rd Qu.:0.00000   3rd Qu.:0.000000   3rd Qu.:1.0000  \n",
       " Max.   :70.000   Max.   :1.00000   Max.   :1.000000   Max.   :1.0000  \n",
       " NA's   :29       NA's   :53                                           \n",
       "    diabetes          totChol          sysBP           diaBP      \n",
       " Min.   :0.00000   Min.   :107.0   Min.   : 83.5   Min.   : 48.0  \n",
       " 1st Qu.:0.00000   1st Qu.:206.0   1st Qu.:117.0   1st Qu.: 75.0  \n",
       " Median :0.00000   Median :234.0   Median :128.0   Median : 82.0  \n",
       " Mean   :0.02571   Mean   :236.7   Mean   :132.4   Mean   : 82.9  \n",
       " 3rd Qu.:0.00000   3rd Qu.:263.0   3rd Qu.:144.0   3rd Qu.: 90.0  \n",
       " Max.   :1.00000   Max.   :696.0   Max.   :295.0   Max.   :142.5  \n",
       "                   NA's   :50                                     \n",
       "      BMI          heartRate         glucose         TenYearCHD    \n",
       " Min.   :15.54   Min.   : 44.00   Min.   : 40.00   Min.   :0.0000  \n",
       " 1st Qu.:23.07   1st Qu.: 68.00   1st Qu.: 71.00   1st Qu.:0.0000  \n",
       " Median :25.40   Median : 75.00   Median : 78.00   Median :0.0000  \n",
       " Mean   :25.80   Mean   : 75.88   Mean   : 81.96   Mean   :0.1519  \n",
       " 3rd Qu.:28.04   3rd Qu.: 83.00   3rd Qu.: 87.00   3rd Qu.:0.0000  \n",
       " Max.   :56.80   Max.   :143.00   Max.   :394.00   Max.   :1.0000  \n",
       " NA's   :19      NA's   :1        NA's   :388                      "
      ]
     },
     "metadata": {},
     "output_type": "display_data"
    }
   ],
   "source": [
    "summary(data)"
   ]
  },
  {
   "cell_type": "markdown",
   "metadata": {},
   "source": [
    "The features with **missing** values are:\n",
    "\n",
    "education, cigsPerDay, BPMeds, totChol, BMI, heartRate, glucose\n",
    "\n",
    "\n",
    "The features that are **binary** categorical data types are:\n",
    "\n",
    "male, currentSmoker, BPMeds, prevalentStroke, prevalentHyp, diabetes, TenYearCHD"
   ]
  },
  {
   "cell_type": "markdown",
   "metadata": {},
   "source": [
    "## Question 11 & 12"
   ]
  },
  {
   "cell_type": "code",
   "execution_count": 9,
   "metadata": {},
   "outputs": [
    {
     "name": "stdout",
     "output_type": "stream",
     "text": [
      "[1] \"Percent Male: %42.925\"\n",
      "[1] \"Percent Female: %-41.925\"\n"
     ]
    },
    {
     "data": {
      "text/plain": [
       "NA's \n",
       "  50 "
      ]
     },
     "metadata": {},
     "output_type": "display_data"
    },
    {
     "data": {
      "text/html": [
       "'Percentage of participants with total cholesterol of at least 300: 8.137%'"
      ],
      "text/latex": [
       "'Percentage of participants with total cholesterol of at least 300: 8.137\\%'"
      ],
      "text/markdown": [
       "'Percentage of participants with total cholesterol of at least 300: 8.137%'"
      ],
      "text/plain": [
       "[1] \"Percentage of participants with total cholesterol of at least 300: 8.137%\""
      ]
     },
     "metadata": {},
     "output_type": "display_data"
    },
    {
     "data": {
      "text/html": [
       "'Percentage of participants with a total cholesterol of at least 300 AND female: 5.566%'"
      ],
      "text/latex": [
       "'Percentage of participants with a total cholesterol of at least 300 AND female: 5.566\\%'"
      ],
      "text/markdown": [
       "'Percentage of participants with a total cholesterol of at least 300 AND female: 5.566%'"
      ],
      "text/plain": [
       "[1] \"Percentage of participants with a total cholesterol of at least 300 AND female: 5.566%\""
      ]
     },
     "metadata": {},
     "output_type": "display_data"
    },
    {
     "data": {
      "text/html": [
       "'Percentage of participatnts with diabetes: 2.571%'"
      ],
      "text/latex": [
       "'Percentage of participatnts with diabetes: 2.571\\%'"
      ],
      "text/markdown": [
       "'Percentage of participatnts with diabetes: 2.571%'"
      ],
      "text/plain": [
       "[1] \"Percentage of participatnts with diabetes: 2.571%\""
      ]
     },
     "metadata": {},
     "output_type": "display_data"
    },
    {
     "data": {
      "text/html": [
       "'Percentage of males with a BMI of at least 30.0: 11.923%'"
      ],
      "text/latex": [
       "'Percentage of males with a BMI of at least 30.0: 11.923\\%'"
      ],
      "text/markdown": [
       "'Percentage of males with a BMI of at least 30.0: 11.923%'"
      ],
      "text/plain": [
       "[1] \"Percentage of males with a BMI of at least 30.0: 11.923%\""
      ]
     },
     "metadata": {},
     "output_type": "display_data"
    },
    {
     "data": {
      "text/html": [
       "'Percentage of participants with diabetes AND a BMI of at least 30.0: 0.684%'"
      ],
      "text/latex": [
       "'Percentage of participants with diabetes AND a BMI of at least 30.0: 0.684\\%'"
      ],
      "text/markdown": [
       "'Percentage of participants with diabetes AND a BMI of at least 30.0: 0.684%'"
      ],
      "text/plain": [
       "[1] \"Percentage of participants with diabetes AND a BMI of at least 30.0: 0.684%\""
      ]
     },
     "metadata": {},
     "output_type": "display_data"
    }
   ],
   "source": [
    "summSex = summary(data$male)\n",
    "print(sprintf(\"Percent Male: %%%.3f\", summSex['Mean'] * 100))\n",
    "\n",
    "print(sprintf(\"Percent Female: %%%.3f\", 1 - summSex['Mean'] * 100))\n",
    "\n",
    "summNA = summary(data$totChol)\n",
    "summNA['NA\\'s']\n",
    "\n",
    "dataNoNA = data[complete.cases(data[ , \"totChol\"]),]\n",
    "numHighChol = nrow(dataNoNA[dataNoNA[,\"totChol\"] >= 300,])\n",
    "totalObs = nrow(data)\n",
    "percentage = numHighChol / totalObs * 100\n",
    "sprintf(\"Percentage of participants with total cholesterol of at least 300: %.3f%%\", percentage)\n",
    "\n",
    "subFemale = subset(data, data['male'] == 0)\n",
    "bothFemaleChol = nrow(subset(subFemale, subFemale$totChol >= 300))\n",
    "sprintf(\"Percentage of participants with a total cholesterol of at least 300 AND female: %.3f%%\", bothFemaleChol / nrow(data) * 100)\n",
    "\n",
    "subDiabetes = subset(data, data['diabetes'] == 1)\n",
    "sprintf(\"Percentage of participatnts with diabetes: %.3f%%\", nrow(subDiabetes) / nrow(data) * 100)\n",
    "\n",
    "subMale =  subset(data, data['male'] == 1)\n",
    "subMaleAndBMI = subset(subMale, subMale$BMI >= 30.0)\n",
    "sprintf(\"Percentage of males with a BMI of at least 30.0: %.3f%%\", nrow(subMaleAndBMI) / nrow(subMale) * 100)\n",
    "\n",
    "subDib =  subset(data, data['diabetes'] == 1)\n",
    "subDibAndBMI = subset(subDib, subDib$BMI >= 30.0)\n",
    "sprintf(\"Percentage of participants with diabetes AND a BMI of at least 30.0: %.3f%%\", nrow(subDibAndBMI) / nrow(data) * 100)"
   ]
  },
  {
   "cell_type": "code",
   "execution_count": 10,
   "metadata": {},
   "outputs": [
    {
     "data": {
      "image/png": "[encoded data removed]",
      "text/plain": [
       "Plot with title “Avg. cigs per day per education level”"
      ]
     },
     "metadata": {},
     "output_type": "display_data"
    }
   ],
   "source": [
    "# dop Na from the cigs per day data\n",
    "dropNaSmoke = data[complete.cases(data[, \"cigsPerDay\"]),]\n",
    "dropNaBoth = dropNaSmoke[complete.cases(data[, \"education\"]),]\n",
    "\n",
    "# get the cigs per day mean\n",
    "getEduCigMean = function(educationValue){\n",
    "    return(mean(subset(dropNaSmoke, dropNaSmoke$education == educationValue)$cigsPerDay))\n",
    "}\n",
    "\n",
    "# get the means for each category of education\n",
    "cigSums = c(getEduCigMean(1), getEduCigMean(2), getEduCigMean(3), getEduCigMean(4))\n",
    "subSumNames = c(\"1\", \"2\", \"3\", \"4\")\n",
    "names(cigSums) = subSumNames\n",
    "\n",
    "# make the plot\n",
    "barplot(cigSums, main=\"Avg. cigs per day per education level\", xlab =\"education level\", ylab=\"cigs per day\", ylim = c(0, 14), col=\"blue\")"
   ]
  },
  {
   "cell_type": "markdown",
   "metadata": {},
   "source": [
    "## Question 13"
   ]
  },
  {
   "cell_type": "code",
   "execution_count": 11,
   "metadata": {},
   "outputs": [
    {
     "data": {
      "text/plain": [
       "   \n",
       "         0      1\n",
       "  0 43.255 41.557\n",
       "  1  7.335  7.854"
      ]
     },
     "metadata": {},
     "output_type": "display_data"
    }
   ],
   "source": [
    "# create the table\n",
    "table = table(data$TenYearCHD, data$currentSmoker)\n",
    "round(prop.table(table), 5) * 100"
   ]
  },
  {
   "cell_type": "markdown",
   "metadata": {},
   "source": [
    "We can infer that it is much more likely to not have CHD than it is to have CHD, regardless of if you are a smoker or not. This means that we cannot form a connection between smoking and your chance of developing CHD after ten years."
   ]
  },
  {
   "cell_type": "markdown",
   "metadata": {},
   "source": [
    "## Question 14"
   ]
  },
  {
   "cell_type": "code",
   "execution_count": 30,
   "metadata": {},
   "outputs": [
    {
     "name": "stdout",
     "output_type": "stream",
     "text": [
      "[1] \"Relative Diabetes Probability:  %36.697\"\n",
      "[1] \"Relative Cigs Daily Probability:  %16.613\"\n",
      "[1] \"Relative Total Cholesterol Probability:  %17.193\"\n",
      "[1] \"Relative Sys BP Probility:  %23.256\"\n",
      "[1] \"Relative Dia BP Probability:  %19.664\"\n",
      "[1] \"Relative Heart Rate Probability:  %16.243\"\n"
     ]
    },
    {
     "data": {
      "text/html": [
       "'Pure probability of having CHD in ten years: %15.189'"
      ],
      "text/latex": [
       "'Pure probability of having CHD in ten years: \\%15.189'"
      ],
      "text/markdown": [
       "'Pure probability of having CHD in ten years: %15.189'"
      ],
      "text/plain": [
       "[1] \"Pure probability of having CHD in ten years: %15.189\""
      ]
     },
     "metadata": {},
     "output_type": "display_data"
    }
   ],
   "source": [
    "# function to get the relative probability\n",
    "getProbWithCHD = function(subData){\n",
    "    return(nrow(subset(subData, subData['TenYearCHD'] == 1)) / nrow(subData) * 100)\n",
    "}\n",
    "\n",
    "# get relative probability of diabetes and TenYearCHD\n",
    "diabetesSub = subset(data, data['diabetes'] == 1)\n",
    "diabetesProb = getProbWithCHD(diabetesSub)\n",
    "\n",
    "# get relative probability of cigsPerDay and TenYearCHD\n",
    "cigsSub = subset(data, data['cigsPerDay'] >= 5)\n",
    "cigsProb = getProbWithCHD(cigsSub)\n",
    "\n",
    "# get relative probability of tptChol and TenYearCHD\n",
    "totCholSub = subset(data, data['totChol'] >= 230)\n",
    "totCholProb = getProbWithCHD(totCholSub)\n",
    "\n",
    "# get relative probability of sysBP and TenYearCHD\n",
    "sysBP = subset(data, data['sysBP'] >= 135)\n",
    "sysBPProb = getProbWithCHD(sysBP)\n",
    "\n",
    "# get relative probability of diaBP and TenYearCHD\n",
    "diaBP = subset(data, data['diaBP'] >= 84)\n",
    "diaBPProb = getProbWithCHD(diaBP)\n",
    "\n",
    "# get relative probability of heartRate and TenYearCHD\n",
    "heartRate = subset(data, data['heartRate'] >= 84)\n",
    "heartRateProb = getProbWithCHD(heartRate)\n",
    "\n",
    "# put the relative probabilities in a list\n",
    "relativeProbabilities = c(diabetesProb, cigsProb, totCholProb, sysBPProb, diaBPProb, heartRateProb)\n",
    "# give em names\n",
    "probNames = c(\"Relative Diabetes Probability: \", \"Relative Cigs Daily Probability: \", \"Relative Total Cholesterol Probability: \", \n",
    "              \"Relative Sys BP Probility: \", \"Relative Dia BP Probability: \", \"Relative Heart Rate Probability: \")\n",
    "\n",
    "# print them out\n",
    "for(i in 1:length(probNames)){\n",
    "    temp = sprintf(\"%s %%%.3f\", probNames[i], relativeProbabilities[i])\n",
    "    print(temp)\n",
    "}\n",
    "\n",
    "# print the general probability of having CHD\n",
    "sprintf(\"Pure probability of having CHD in ten years: %%%.3f\", 100 * summary(data$TenYearCHD)['Mean'])"
   ]
  },
  {
   "cell_type": "markdown",
   "metadata": {},
   "source": [
    "The first output above is from the calculation of either P(TenYearCHD | variableValue == observation) if the variable is discrete, or P(TenYearCHD | variableValue >= observation) if the variable is continuous.\n",
    "\n",
    "The second output is the general probability of having developed TenYearCHD, from all observations in the data set. Given the probability is strictly higher for every single variable value of the patient's, it would be a fair assessment to expect them to develop CHD in the next ten years."
   ]
  },
  {
   "cell_type": "markdown",
   "metadata": {},
   "source": [
    "## Question 15\n",
    "\n",
    "No, the beta distribution would not be appropriate, regardless of the parameters, because it is meant for continuous data, and not discrete. In this case, ours would be discrete, as the only possible outcomes are 0 for no CHD after ten years, or 1 for CHD being present after ten years."
   ]
  }
 ],
 "metadata": {
  "kernelspec": {
   "display_name": "R",
   "language": "R",
   "name": "ir"
  },
  "language_info": {
   "codemirror_mode": "r",
   "file_extension": ".r",
   "mimetype": "text/x-r-source",
   "name": "R",
   "pygments_lexer": "r",
   "version": "3.6.1"
  }
 },
 "nbformat": 4,
 "nbformat_minor": 4
}
