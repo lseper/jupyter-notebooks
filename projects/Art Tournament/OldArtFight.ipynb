{
 "cells": [
  {
   "cell_type": "code",
   "execution_count": 12,
   "id": "opened-mainstream",
   "metadata": {},
   "outputs": [],
   "source": [
    "import pandas as pd\n",
    "import numpy as np\n",
    "import random as rand"
   ]
  },
  {
   "cell_type": "code",
   "execution_count": 2,
   "id": "alpine-firmware",
   "metadata": {},
   "outputs": [],
   "source": [
    "data = pd.read_csv('submissions.csv')"
   ]
  },
  {
   "cell_type": "code",
   "execution_count": 3,
   "id": "proper-essex",
   "metadata": {},
   "outputs": [
    {
     "data": {
      "text/html": [
       "<div>\n",
       "<style scoped>\n",
       "    .dataframe tbody tr th:only-of-type {\n",
       "        vertical-align: middle;\n",
       "    }\n",
       "\n",
       "    .dataframe tbody tr th {\n",
       "        vertical-align: top;\n",
       "    }\n",
       "\n",
       "    .dataframe thead th {\n",
       "        text-align: right;\n",
       "    }\n",
       "</style>\n",
       "<table border=\"1\" class=\"dataframe\">\n",
       "  <thead>\n",
       "    <tr style=\"text-align: right;\">\n",
       "      <th></th>\n",
       "      <th>Timestamp</th>\n",
       "      <th>What is your name?</th>\n",
       "      <th>Please upload your submission(s) for the art battle-royale. You may upload an image file(s) or video file(s). Please try to limit the compression on the artwork! You may upload up to 5 files for the tournament.</th>\n",
       "      <th>Who are the artists responsible for the art submitted?</th>\n",
       "    </tr>\n",
       "  </thead>\n",
       "  <tbody>\n",
       "    <tr>\n",
       "      <th>0</th>\n",
       "      <td>2021/11/10 4:34:22 PM CST</td>\n",
       "      <td>Trevor</td>\n",
       "      <td>https://drive.google.com/u/0/open?usp=forms_we...</td>\n",
       "      <td>CoolBeansSama</td>\n",
       "    </tr>\n",
       "    <tr>\n",
       "      <th>1</th>\n",
       "      <td>2021/11/10 5:20:07 PM CST</td>\n",
       "      <td>Sky</td>\n",
       "      <td>https://drive.google.com/u/0/open?usp=forms_we...</td>\n",
       "      <td>WorkerQ (@WorkerQtheCat on twitter)</td>\n",
       "    </tr>\n",
       "    <tr>\n",
       "      <th>2</th>\n",
       "      <td>2021/11/10 6:24:05 PM CST</td>\n",
       "      <td>Bolt</td>\n",
       "      <td>https://drive.google.com/u/0/open?usp=forms_we...</td>\n",
       "      <td>lawlessfangs,lawlessfangs,dingensen,birdoisabo...</td>\n",
       "    </tr>\n",
       "    <tr>\n",
       "      <th>3</th>\n",
       "      <td>2021/11/10 9:51:43 PM CST</td>\n",
       "      <td>Zaverose</td>\n",
       "      <td>https://drive.google.com/u/0/open?usp=forms_we...</td>\n",
       "      <td>Fislang,Mosspond,Niftje,Mawful,Noirekat</td>\n",
       "    </tr>\n",
       "    <tr>\n",
       "      <th>4</th>\n",
       "      <td>2021/11/11 1:07:59 PM CST</td>\n",
       "      <td>Gordon</td>\n",
       "      <td>https://drive.google.com/u/0/open?usp=forms_we...</td>\n",
       "      <td>KitsuneKit</td>\n",
       "    </tr>\n",
       "  </tbody>\n",
       "</table>\n",
       "</div>"
      ],
      "text/plain": [
       "                   Timestamp What is your name?  \\\n",
       "0  2021/11/10 4:34:22 PM CST             Trevor   \n",
       "1  2021/11/10 5:20:07 PM CST                Sky   \n",
       "2  2021/11/10 6:24:05 PM CST               Bolt   \n",
       "3  2021/11/10 9:51:43 PM CST           Zaverose   \n",
       "4  2021/11/11 1:07:59 PM CST             Gordon   \n",
       "\n",
       "  Please upload your submission(s) for the art battle-royale. You may upload an image file(s) or video file(s). Please try to limit the compression on the artwork! You may upload up to 5 files for the tournament.  \\\n",
       "0  https://drive.google.com/u/0/open?usp=forms_we...                                                                                                                                                                   \n",
       "1  https://drive.google.com/u/0/open?usp=forms_we...                                                                                                                                                                   \n",
       "2  https://drive.google.com/u/0/open?usp=forms_we...                                                                                                                                                                   \n",
       "3  https://drive.google.com/u/0/open?usp=forms_we...                                                                                                                                                                   \n",
       "4  https://drive.google.com/u/0/open?usp=forms_we...                                                                                                                                                                   \n",
       "\n",
       "  Who are the artists responsible for the art submitted?  \n",
       "0                                      CoolBeansSama      \n",
       "1                WorkerQ (@WorkerQtheCat on twitter)      \n",
       "2  lawlessfangs,lawlessfangs,dingensen,birdoisabo...      \n",
       "3            Fislang,Mosspond,Niftje,Mawful,Noirekat      \n",
       "4                                         KitsuneKit      "
      ]
     },
     "execution_count": 3,
     "metadata": {},
     "output_type": "execute_result"
    }
   ],
   "source": [
    "data.head()"
   ]
  },
  {
   "cell_type": "code",
   "execution_count": 4,
   "id": "multiple-theta",
   "metadata": {},
   "outputs": [
    {
     "data": {
      "text/html": [
       "<div>\n",
       "<style scoped>\n",
       "    .dataframe tbody tr th:only-of-type {\n",
       "        vertical-align: middle;\n",
       "    }\n",
       "\n",
       "    .dataframe tbody tr th {\n",
       "        vertical-align: top;\n",
       "    }\n",
       "\n",
       "    .dataframe thead th {\n",
       "        text-align: right;\n",
       "    }\n",
       "</style>\n",
       "<table border=\"1\" class=\"dataframe\">\n",
       "  <thead>\n",
       "    <tr style=\"text-align: right;\">\n",
       "      <th></th>\n",
       "      <th>Timestamp</th>\n",
       "      <th>What is your name?</th>\n",
       "      <th>Please upload your submission(s) for the art battle-royale. You may upload an image file(s) or video file(s). Please try to limit the compression on the artwork! You may upload up to 5 files for the tournament.</th>\n",
       "      <th>Who are the artists responsible for the art submitted?</th>\n",
       "    </tr>\n",
       "  </thead>\n",
       "  <tbody>\n",
       "    <tr>\n",
       "      <th>0</th>\n",
       "      <td>2021/11/10 4:34:22 PM CST</td>\n",
       "      <td>Trevor</td>\n",
       "      <td>https://drive.google.com/u/0/open?usp=forms_we...</td>\n",
       "      <td>CoolBeansSama</td>\n",
       "    </tr>\n",
       "    <tr>\n",
       "      <th>1</th>\n",
       "      <td>2021/11/10 5:20:07 PM CST</td>\n",
       "      <td>Sky</td>\n",
       "      <td>https://drive.google.com/u/0/open?usp=forms_we...</td>\n",
       "      <td>WorkerQ (@WorkerQtheCat on twitter)</td>\n",
       "    </tr>\n",
       "    <tr>\n",
       "      <th>2</th>\n",
       "      <td>2021/11/10 6:24:05 PM CST</td>\n",
       "      <td>Bolt</td>\n",
       "      <td>https://drive.google.com/u/0/open?usp=forms_we...</td>\n",
       "      <td>lawlessfangs,lawlessfangs,dingensen,birdoisabo...</td>\n",
       "    </tr>\n",
       "    <tr>\n",
       "      <th>3</th>\n",
       "      <td>2021/11/10 9:51:43 PM CST</td>\n",
       "      <td>Zaverose</td>\n",
       "      <td>https://drive.google.com/u/0/open?usp=forms_we...</td>\n",
       "      <td>Fislang,Mosspond,Niftje,Mawful,Noirekat</td>\n",
       "    </tr>\n",
       "    <tr>\n",
       "      <th>4</th>\n",
       "      <td>2021/11/11 1:07:59 PM CST</td>\n",
       "      <td>Gordon</td>\n",
       "      <td>https://drive.google.com/u/0/open?usp=forms_we...</td>\n",
       "      <td>KitsuneKit</td>\n",
       "    </tr>\n",
       "    <tr>\n",
       "      <th>5</th>\n",
       "      <td>2021/11/11 1:09:00 PM CST</td>\n",
       "      <td>Gordon</td>\n",
       "      <td>https://drive.google.com/u/0/open?usp=forms_we...</td>\n",
       "      <td>Cannot find :(</td>\n",
       "    </tr>\n",
       "    <tr>\n",
       "      <th>6</th>\n",
       "      <td>2021/11/11 1:11:02 PM CST</td>\n",
       "      <td>Gordon</td>\n",
       "      <td>https://drive.google.com/u/0/open?usp=forms_we...</td>\n",
       "      <td>SammfeatBlueheart</td>\n",
       "    </tr>\n",
       "    <tr>\n",
       "      <th>7</th>\n",
       "      <td>2021/11/11 1:12:23 PM CST</td>\n",
       "      <td>Gordon</td>\n",
       "      <td>https://drive.google.com/u/0/open?usp=forms_we...</td>\n",
       "      <td>CatmonkShiro</td>\n",
       "    </tr>\n",
       "    <tr>\n",
       "      <th>8</th>\n",
       "      <td>2021/11/11 2:25:44 PM CST</td>\n",
       "      <td>Kevin/Solaris</td>\n",
       "      <td>https://drive.google.com/u/0/open?usp=forms_we...</td>\n",
       "      <td>dont_jinxit,MylaFox,DecylBat,ArtzRedd,KodaDoesArt</td>\n",
       "    </tr>\n",
       "    <tr>\n",
       "      <th>9</th>\n",
       "      <td>2021/11/11 11:44:01 PM CST</td>\n",
       "      <td>Daniel</td>\n",
       "      <td>https://drive.google.com/u/0/open?usp=forms_we...</td>\n",
       "      <td>ashenwhiskers,imkrisyim,moth_sprout,orlando_fo...</td>\n",
       "    </tr>\n",
       "    <tr>\n",
       "      <th>10</th>\n",
       "      <td>2021/11/12 2:48:47 PM CST</td>\n",
       "      <td>Velox</td>\n",
       "      <td>https://drive.google.com/u/0/open?usp=forms_we...</td>\n",
       "      <td>EPAW</td>\n",
       "    </tr>\n",
       "  </tbody>\n",
       "</table>\n",
       "</div>"
      ],
      "text/plain": [
       "                     Timestamp What is your name?  \\\n",
       "0    2021/11/10 4:34:22 PM CST             Trevor   \n",
       "1    2021/11/10 5:20:07 PM CST                Sky   \n",
       "2    2021/11/10 6:24:05 PM CST               Bolt   \n",
       "3    2021/11/10 9:51:43 PM CST           Zaverose   \n",
       "4    2021/11/11 1:07:59 PM CST             Gordon   \n",
       "5    2021/11/11 1:09:00 PM CST             Gordon   \n",
       "6    2021/11/11 1:11:02 PM CST             Gordon   \n",
       "7    2021/11/11 1:12:23 PM CST             Gordon   \n",
       "8    2021/11/11 2:25:44 PM CST      Kevin/Solaris   \n",
       "9   2021/11/11 11:44:01 PM CST             Daniel   \n",
       "10   2021/11/12 2:48:47 PM CST              Velox   \n",
       "\n",
       "   Please upload your submission(s) for the art battle-royale. You may upload an image file(s) or video file(s). Please try to limit the compression on the artwork! You may upload up to 5 files for the tournament.  \\\n",
       "0   https://drive.google.com/u/0/open?usp=forms_we...                                                                                                                                                                   \n",
       "1   https://drive.google.com/u/0/open?usp=forms_we...                                                                                                                                                                   \n",
       "2   https://drive.google.com/u/0/open?usp=forms_we...                                                                                                                                                                   \n",
       "3   https://drive.google.com/u/0/open?usp=forms_we...                                                                                                                                                                   \n",
       "4   https://drive.google.com/u/0/open?usp=forms_we...                                                                                                                                                                   \n",
       "5   https://drive.google.com/u/0/open?usp=forms_we...                                                                                                                                                                   \n",
       "6   https://drive.google.com/u/0/open?usp=forms_we...                                                                                                                                                                   \n",
       "7   https://drive.google.com/u/0/open?usp=forms_we...                                                                                                                                                                   \n",
       "8   https://drive.google.com/u/0/open?usp=forms_we...                                                                                                                                                                   \n",
       "9   https://drive.google.com/u/0/open?usp=forms_we...                                                                                                                                                                   \n",
       "10  https://drive.google.com/u/0/open?usp=forms_we...                                                                                                                                                                   \n",
       "\n",
       "   Who are the artists responsible for the art submitted?  \n",
       "0                                       CoolBeansSama      \n",
       "1                 WorkerQ (@WorkerQtheCat on twitter)      \n",
       "2   lawlessfangs,lawlessfangs,dingensen,birdoisabo...      \n",
       "3             Fislang,Mosspond,Niftje,Mawful,Noirekat      \n",
       "4                                          KitsuneKit      \n",
       "5                                      Cannot find :(      \n",
       "6                                   SammfeatBlueheart      \n",
       "7                                        CatmonkShiro      \n",
       "8   dont_jinxit,MylaFox,DecylBat,ArtzRedd,KodaDoesArt      \n",
       "9   ashenwhiskers,imkrisyim,moth_sprout,orlando_fo...      \n",
       "10                                               EPAW      "
      ]
     },
     "execution_count": 4,
     "metadata": {},
     "output_type": "execute_result"
    }
   ],
   "source": [
    "data"
   ]
  },
  {
   "cell_type": "code",
   "execution_count": 6,
   "id": "solved-encoding",
   "metadata": {},
   "outputs": [
    {
     "data": {
      "text/plain": [
       "[0, 1, 2, 3, 4, 5, 6, 7, 8, 9, 10]"
      ]
     },
     "execution_count": 6,
     "metadata": {},
     "output_type": "execute_result"
    }
   ],
   "source": [
    "indexes = data.index\n",
    "list(indexes)"
   ]
  },
  {
   "cell_type": "code",
   "execution_count": 7,
   "id": "ordered-despite",
   "metadata": {},
   "outputs": [
    {
     "data": {
      "text/plain": [
       "0     https://drive.google.com/u/0/open?usp=forms_we...\n",
       "1     https://drive.google.com/u/0/open?usp=forms_we...\n",
       "2     https://drive.google.com/u/0/open?usp=forms_we...\n",
       "3     https://drive.google.com/u/0/open?usp=forms_we...\n",
       "4     https://drive.google.com/u/0/open?usp=forms_we...\n",
       "5     https://drive.google.com/u/0/open?usp=forms_we...\n",
       "6     https://drive.google.com/u/0/open?usp=forms_we...\n",
       "7     https://drive.google.com/u/0/open?usp=forms_we...\n",
       "8     https://drive.google.com/u/0/open?usp=forms_we...\n",
       "9     https://drive.google.com/u/0/open?usp=forms_we...\n",
       "10    https://drive.google.com/u/0/open?usp=forms_we...\n",
       "Name: Please upload your submission(s) for the art battle-royale. You may upload an image file(s) or video file(s). Please try to limit the compression on the artwork! You may upload up to 5 files for the tournament., dtype: object"
      ]
     },
     "execution_count": 7,
     "metadata": {},
     "output_type": "execute_result"
    }
   ],
   "source": [
    "data['Please upload your submission(s) for the art battle-royale. You may upload an image file(s) or video file(s). Please try to limit the compression on the artwork! You may upload up to 5 files for the tournament.']"
   ]
  },
  {
   "cell_type": "code",
   "execution_count": 9,
   "id": "unauthorized-yellow",
   "metadata": {},
   "outputs": [
    {
     "data": {
      "text/plain": [
       "'https://drive.google.com/u/0/open?usp=forms_web&id=11KhoQhQkX_sPo3nRyCWwLvsWLoArsPXv;https://drive.google.com/u/0/open?usp=forms_web&id=1I3n6NgkUY5ISyb-Qo-j8leJveo6Jh8Tz;https://drive.google.com/u/0/open?usp=forms_web&id=1xZTSpoTwKn4VKxIuFVgWXNRw0L8LG_n9;https://drive.google.com/u/0/open?usp=forms_web&id=1KqUdSTC_JqtmQNl0XK0AIy7xNmnN-Ix4;https://drive.google.com/u/0/open?usp=forms_web&id=1c1I2wlw8tOa2jMD9IrFGSFO5OB8hJtyS'"
      ]
     },
     "execution_count": 9,
     "metadata": {},
     "output_type": "execute_result"
    }
   ],
   "source": [
    "data['Please upload your submission(s) for the art battle-royale. You may upload an image file(s) or video file(s). Please try to limit the compression on the artwork! You may upload up to 5 files for the tournament.'][3]"
   ]
  },
  {
   "cell_type": "code",
   "execution_count": 11,
   "id": "super-thomas",
   "metadata": {},
   "outputs": [
    {
     "data": {
      "text/plain": [
       "27"
      ]
     },
     "execution_count": 11,
     "metadata": {},
     "output_type": "execute_result"
    }
   ],
   "source": [
    "submissions = []\n",
    "for entry in data['Please upload your submission(s) for the art battle-royale. You may upload an image file(s) or video file(s). Please try to limit the compression on the artwork! You may upload up to 5 files for the tournament.']:\n",
    "    submissions.extend(entry.split(';'))\n",
    "len(submissions)"
   ]
  },
  {
   "cell_type": "code",
   "execution_count": 14,
   "id": "answering-cooking",
   "metadata": {},
   "outputs": [
    {
     "data": {
      "text/plain": [
       "[{'https://drive.google.com/u/0/open?usp=forms_web&id=140TBXVx43B79tpBOsFtM4WFKt8drVUFT': 3,\n",
       "  'https://drive.google.com/u/0/open?usp=forms_web&id=1iumbe1LnIUrztNMy5kbzD_3SF8vtzvce': 15},\n",
       " {'https://drive.google.com/u/0/open?usp=forms_web&id=12wk6knN-CSKhm0CgwnpNDy2WEXX6QXqi': 0,\n",
       "  'https://drive.google.com/u/0/open?usp=forms_web&id=12ygR1RD2uw0RIkzeOfnowB-Iu9AUwMx9': 15},\n",
       " {'https://drive.google.com/u/0/open?usp=forms_web&id=1ThQRq0LJUqzCFnUzZbL-reg-gd4Hhp5_': 22,\n",
       "  'https://drive.google.com/u/0/open?usp=forms_web&id=1l2JM_0Qe1hddyEx-7YFgE1wcVbGu7Afo': 18},\n",
       " {'https://drive.google.com/u/0/open?usp=forms_web&id=1JCbnoffoYXmfV-qEqXMGTt9_AXzB-0IN': 4,\n",
       "  'https://drive.google.com/u/0/open?usp=forms_web&id=1RMOYWiYxz_G_spcC922hSmRP3HQj1EN8': 10},\n",
       " {'https://drive.google.com/u/0/open?usp=forms_web&id=1C24RuEzZl4f4E-O0KkfAE4uub-b9A9sm': 18,\n",
       "  'https://drive.google.com/u/0/open?usp=forms_web&id=1do8ZT97CVmD85-qAlcHMBX92WXVxkPsS': 12},\n",
       " {'https://drive.google.com/u/0/open?usp=forms_web&id=1jwUni3Ex8CZ6y87aHUOchTertn8_YTTQ': 16,\n",
       "  'https://drive.google.com/u/0/open?usp=forms_web&id=1I3n6NgkUY5ISyb-Qo-j8leJveo6Jh8Tz': 5},\n",
       " {'https://drive.google.com/u/0/open?usp=forms_web&id=1-HcaRfZoZBYo3VVympaqk9HeBQm5fz8Q': 11,\n",
       "  'https://drive.google.com/u/0/open?usp=forms_web&id=1yZJiDcuXbb3TUEJ3FZQJK0nJ6t89rVnk': 2},\n",
       " {'https://drive.google.com/u/0/open?usp=forms_web&id=1KqUdSTC_JqtmQNl0XK0AIy7xNmnN-Ix4': 5,\n",
       "  'https://drive.google.com/u/0/open?usp=forms_web&id=1F2-0t7WtYREK7XxAJ1EnDTw8y9wAn_nP': 9},\n",
       " {'https://drive.google.com/u/0/open?usp=forms_web&id=1Yla_GYt6kldkpluUCYn3ViZ52xlkv2eg': 9,\n",
       "  'https://drive.google.com/u/0/open?usp=forms_web&id=1c1I2wlw8tOa2jMD9IrFGSFO5OB8hJtyS': 5},\n",
       " {'https://drive.google.com/u/0/open?usp=forms_web&id=1_-o2UjFNskDclTEDKNfukatzWy9VN4Vu': 0,\n",
       "  'https://drive.google.com/u/0/open?usp=forms_web&id=1xApvUya7FSAQ637YwHxYkZg3pLlmN_eD': 4},\n",
       " {'https://drive.google.com/u/0/open?usp=forms_web&id=11kPAgXSvWzyrbhnE5QUK6Ge1Gd-EOEeT': 6,\n",
       "  'https://drive.google.com/u/0/open?usp=forms_web&id=1xvtaPzHEllvYUH8y8SC_XdVBGUfBf9uE': 0},\n",
       " {'https://drive.google.com/u/0/open?usp=forms_web&id=11KhoQhQkX_sPo3nRyCWwLvsWLoArsPXv': 1,\n",
       "  'https://drive.google.com/u/0/open?usp=forms_web&id=1Ds_CaxgFTlys3uhs0Uou9dPtPUWUrgu_': 0},\n",
       " {'https://drive.google.com/u/0/open?usp=forms_web&id=1xVZgfzEfQzFs0s3nr8CGCVXwyYlUiSNo': 2,\n",
       "  'https://drive.google.com/u/0/open?usp=forms_web&id=1xZTSpoTwKn4VKxIuFVgWXNRw0L8LG_n9': 0}]"
      ]
     },
     "execution_count": 14,
     "metadata": {},
     "output_type": "execute_result"
    }
   ],
   "source": [
    "def getRandomPairs(submissions):\n",
    "    submissions_copy = submissions[:]\n",
    "    pairs = []\n",
    "    while len(submissions_copy) > 1:\n",
    "        rand_int_1 = rand.randint(0, len(submissions_copy) - 1)\n",
    "        match_1 = submissions_copy[rand_int_1]\n",
    "        del submissions_copy[rand_int_1]\n",
    "        rand_int_2 = rand.randint(0, len(submissions_copy) - 1)\n",
    "        match_2 = submissions_copy[rand_int_2]\n",
    "        del submissions_copy[rand_int_2]\n",
    "        pairs.append({match_1 : rand_int_1, match_2 : rand_int_2})\n",
    "    return pairs\n",
    "\n",
    "getRandomPairs(submissions)\n",
    "    "
   ]
  },
  {
   "cell_type": "code",
   "execution_count": 15,
   "id": "classified-essence",
   "metadata": {},
   "outputs": [],
   "source": [
    "round_1_results = [0,1,1,1,1,1,1,0,0,0,1,0,1]"
   ]
  },
  {
   "cell_type": "code",
   "execution_count": 16,
   "id": "upset-whale",
   "metadata": {},
   "outputs": [],
   "source": [
    "round_1_matchups = [{'https://drive.google.com/u/0/open?usp=forms_web&id=140TBXVx43B79tpBOsFtM4WFKt8drVUFT': 3,\n",
    "  'https://drive.google.com/u/0/open?usp=forms_web&id=1iumbe1LnIUrztNMy5kbzD_3SF8vtzvce': 15},\n",
    " {'https://drive.google.com/u/0/open?usp=forms_web&id=12wk6knN-CSKhm0CgwnpNDy2WEXX6QXqi': 0,\n",
    "  'https://drive.google.com/u/0/open?usp=forms_web&id=12ygR1RD2uw0RIkzeOfnowB-Iu9AUwMx9': 15},\n",
    " {'https://drive.google.com/u/0/open?usp=forms_web&id=1ThQRq0LJUqzCFnUzZbL-reg-gd4Hhp5_': 22,\n",
    "  'https://drive.google.com/u/0/open?usp=forms_web&id=1l2JM_0Qe1hddyEx-7YFgE1wcVbGu7Afo': 18},\n",
    " {'https://drive.google.com/u/0/open?usp=forms_web&id=1JCbnoffoYXmfV-qEqXMGTt9_AXzB-0IN': 4,\n",
    "  'https://drive.google.com/u/0/open?usp=forms_web&id=1RMOYWiYxz_G_spcC922hSmRP3HQj1EN8': 10},\n",
    " {'https://drive.google.com/u/0/open?usp=forms_web&id=1C24RuEzZl4f4E-O0KkfAE4uub-b9A9sm': 18,\n",
    "  'https://drive.google.com/u/0/open?usp=forms_web&id=1do8ZT97CVmD85-qAlcHMBX92WXVxkPsS': 12},\n",
    " {'https://drive.google.com/u/0/open?usp=forms_web&id=1jwUni3Ex8CZ6y87aHUOchTertn8_YTTQ': 16,\n",
    "  'https://drive.google.com/u/0/open?usp=forms_web&id=1I3n6NgkUY5ISyb-Qo-j8leJveo6Jh8Tz': 5},\n",
    " {'https://drive.google.com/u/0/open?usp=forms_web&id=1-HcaRfZoZBYo3VVympaqk9HeBQm5fz8Q': 11,\n",
    "  'https://drive.google.com/u/0/open?usp=forms_web&id=1yZJiDcuXbb3TUEJ3FZQJK0nJ6t89rVnk': 2},\n",
    " {'https://drive.google.com/u/0/open?usp=forms_web&id=1KqUdSTC_JqtmQNl0XK0AIy7xNmnN-Ix4': 5,\n",
    "  'https://drive.google.com/u/0/open?usp=forms_web&id=1F2-0t7WtYREK7XxAJ1EnDTw8y9wAn_nP': 9},\n",
    " {'https://drive.google.com/u/0/open?usp=forms_web&id=1Yla_GYt6kldkpluUCYn3ViZ52xlkv2eg': 9,\n",
    "  'https://drive.google.com/u/0/open?usp=forms_web&id=1c1I2wlw8tOa2jMD9IrFGSFO5OB8hJtyS': 5},\n",
    " {'https://drive.google.com/u/0/open?usp=forms_web&id=1_-o2UjFNskDclTEDKNfukatzWy9VN4Vu': 0,\n",
    "  'https://drive.google.com/u/0/open?usp=forms_web&id=1xApvUya7FSAQ637YwHxYkZg3pLlmN_eD': 4},\n",
    " {'https://drive.google.com/u/0/open?usp=forms_web&id=11kPAgXSvWzyrbhnE5QUK6Ge1Gd-EOEeT': 6,\n",
    "  'https://drive.google.com/u/0/open?usp=forms_web&id=1xvtaPzHEllvYUH8y8SC_XdVBGUfBf9uE': 0},\n",
    " {'https://drive.google.com/u/0/open?usp=forms_web&id=11KhoQhQkX_sPo3nRyCWwLvsWLoArsPXv': 1,\n",
    "  'https://drive.google.com/u/0/open?usp=forms_web&id=1Ds_CaxgFTlys3uhs0Uou9dPtPUWUrgu_': 0},\n",
    " {'https://drive.google.com/u/0/open?usp=forms_web&id=1xVZgfzEfQzFs0s3nr8CGCVXwyYlUiSNo': 2,\n",
    "  'https://drive.google.com/u/0/open?usp=forms_web&id=1xZTSpoTwKn4VKxIuFVgWXNRw0L8LG_n9': 0}]"
   ]
  },
  {
   "cell_type": "code",
   "execution_count": 21,
   "id": "brutal-chile",
   "metadata": {},
   "outputs": [],
   "source": [
    "def extract_winners(matchups, results):\n",
    "    winners = []\n",
    "    for i in range(len(matchups)):\n",
    "        temp = matchups[i].keys()\n",
    "        print(temp)\n",
    "        winners.append(list(matchups[i].keys())[results[i]])\n",
    "    return winners"
   ]
  },
  {
   "cell_type": "code",
   "execution_count": 22,
   "id": "medical-arkansas",
   "metadata": {},
   "outputs": [
    {
     "name": "stdout",
     "output_type": "stream",
     "text": [
      "dict_keys(['https://drive.google.com/u/0/open?usp=forms_web&id=140TBXVx43B79tpBOsFtM4WFKt8drVUFT', 'https://drive.google.com/u/0/open?usp=forms_web&id=1iumbe1LnIUrztNMy5kbzD_3SF8vtzvce'])\n",
      "dict_keys(['https://drive.google.com/u/0/open?usp=forms_web&id=12wk6knN-CSKhm0CgwnpNDy2WEXX6QXqi', 'https://drive.google.com/u/0/open?usp=forms_web&id=12ygR1RD2uw0RIkzeOfnowB-Iu9AUwMx9'])\n",
      "dict_keys(['https://drive.google.com/u/0/open?usp=forms_web&id=1ThQRq0LJUqzCFnUzZbL-reg-gd4Hhp5_', 'https://drive.google.com/u/0/open?usp=forms_web&id=1l2JM_0Qe1hddyEx-7YFgE1wcVbGu7Afo'])\n",
      "dict_keys(['https://drive.google.com/u/0/open?usp=forms_web&id=1JCbnoffoYXmfV-qEqXMGTt9_AXzB-0IN', 'https://drive.google.com/u/0/open?usp=forms_web&id=1RMOYWiYxz_G_spcC922hSmRP3HQj1EN8'])\n",
      "dict_keys(['https://drive.google.com/u/0/open?usp=forms_web&id=1C24RuEzZl4f4E-O0KkfAE4uub-b9A9sm', 'https://drive.google.com/u/0/open?usp=forms_web&id=1do8ZT97CVmD85-qAlcHMBX92WXVxkPsS'])\n",
      "dict_keys(['https://drive.google.com/u/0/open?usp=forms_web&id=1jwUni3Ex8CZ6y87aHUOchTertn8_YTTQ', 'https://drive.google.com/u/0/open?usp=forms_web&id=1I3n6NgkUY5ISyb-Qo-j8leJveo6Jh8Tz'])\n",
      "dict_keys(['https://drive.google.com/u/0/open?usp=forms_web&id=1-HcaRfZoZBYo3VVympaqk9HeBQm5fz8Q', 'https://drive.google.com/u/0/open?usp=forms_web&id=1yZJiDcuXbb3TUEJ3FZQJK0nJ6t89rVnk'])\n",
      "dict_keys(['https://drive.google.com/u/0/open?usp=forms_web&id=1KqUdSTC_JqtmQNl0XK0AIy7xNmnN-Ix4', 'https://drive.google.com/u/0/open?usp=forms_web&id=1F2-0t7WtYREK7XxAJ1EnDTw8y9wAn_nP'])\n",
      "dict_keys(['https://drive.google.com/u/0/open?usp=forms_web&id=1Yla_GYt6kldkpluUCYn3ViZ52xlkv2eg', 'https://drive.google.com/u/0/open?usp=forms_web&id=1c1I2wlw8tOa2jMD9IrFGSFO5OB8hJtyS'])\n",
      "dict_keys(['https://drive.google.com/u/0/open?usp=forms_web&id=1_-o2UjFNskDclTEDKNfukatzWy9VN4Vu', 'https://drive.google.com/u/0/open?usp=forms_web&id=1xApvUya7FSAQ637YwHxYkZg3pLlmN_eD'])\n",
      "dict_keys(['https://drive.google.com/u/0/open?usp=forms_web&id=11kPAgXSvWzyrbhnE5QUK6Ge1Gd-EOEeT', 'https://drive.google.com/u/0/open?usp=forms_web&id=1xvtaPzHEllvYUH8y8SC_XdVBGUfBf9uE'])\n",
      "dict_keys(['https://drive.google.com/u/0/open?usp=forms_web&id=11KhoQhQkX_sPo3nRyCWwLvsWLoArsPXv', 'https://drive.google.com/u/0/open?usp=forms_web&id=1Ds_CaxgFTlys3uhs0Uou9dPtPUWUrgu_'])\n",
      "dict_keys(['https://drive.google.com/u/0/open?usp=forms_web&id=1xVZgfzEfQzFs0s3nr8CGCVXwyYlUiSNo', 'https://drive.google.com/u/0/open?usp=forms_web&id=1xZTSpoTwKn4VKxIuFVgWXNRw0L8LG_n9'])\n"
     ]
    }
   ],
   "source": [
    "survivors = extract_winners(round_1_matchups, round_1_results)"
   ]
  },
  {
   "cell_type": "code",
   "execution_count": 23,
   "id": "physical-administrator",
   "metadata": {},
   "outputs": [
    {
     "data": {
      "text/plain": [
       "['https://drive.google.com/u/0/open?usp=forms_web&id=140TBXVx43B79tpBOsFtM4WFKt8drVUFT',\n",
       " 'https://drive.google.com/u/0/open?usp=forms_web&id=12ygR1RD2uw0RIkzeOfnowB-Iu9AUwMx9',\n",
       " 'https://drive.google.com/u/0/open?usp=forms_web&id=1l2JM_0Qe1hddyEx-7YFgE1wcVbGu7Afo',\n",
       " 'https://drive.google.com/u/0/open?usp=forms_web&id=1RMOYWiYxz_G_spcC922hSmRP3HQj1EN8',\n",
       " 'https://drive.google.com/u/0/open?usp=forms_web&id=1do8ZT97CVmD85-qAlcHMBX92WXVxkPsS',\n",
       " 'https://drive.google.com/u/0/open?usp=forms_web&id=1I3n6NgkUY5ISyb-Qo-j8leJveo6Jh8Tz',\n",
       " 'https://drive.google.com/u/0/open?usp=forms_web&id=1yZJiDcuXbb3TUEJ3FZQJK0nJ6t89rVnk',\n",
       " 'https://drive.google.com/u/0/open?usp=forms_web&id=1KqUdSTC_JqtmQNl0XK0AIy7xNmnN-Ix4',\n",
       " 'https://drive.google.com/u/0/open?usp=forms_web&id=1Yla_GYt6kldkpluUCYn3ViZ52xlkv2eg',\n",
       " 'https://drive.google.com/u/0/open?usp=forms_web&id=1_-o2UjFNskDclTEDKNfukatzWy9VN4Vu',\n",
       " 'https://drive.google.com/u/0/open?usp=forms_web&id=1xvtaPzHEllvYUH8y8SC_XdVBGUfBf9uE',\n",
       " 'https://drive.google.com/u/0/open?usp=forms_web&id=11KhoQhQkX_sPo3nRyCWwLvsWLoArsPXv',\n",
       " 'https://drive.google.com/u/0/open?usp=forms_web&id=1xZTSpoTwKn4VKxIuFVgWXNRw0L8LG_n9']"
      ]
     },
     "execution_count": 23,
     "metadata": {},
     "output_type": "execute_result"
    }
   ],
   "source": [
    "survivors"
   ]
  },
  {
   "cell_type": "code",
   "execution_count": 24,
   "id": "northern-housing",
   "metadata": {},
   "outputs": [],
   "source": [
    "round_2_matchups = getRandomPairs(survivors)"
   ]
  },
  {
   "cell_type": "code",
   "execution_count": 25,
   "id": "limited-adventure",
   "metadata": {},
   "outputs": [
    {
     "data": {
      "text/plain": [
       "[{'https://drive.google.com/u/0/open?usp=forms_web&id=1xvtaPzHEllvYUH8y8SC_XdVBGUfBf9uE': 10,\n",
       "  'https://drive.google.com/u/0/open?usp=forms_web&id=1yZJiDcuXbb3TUEJ3FZQJK0nJ6t89rVnk': 6},\n",
       " {'https://drive.google.com/u/0/open?usp=forms_web&id=1do8ZT97CVmD85-qAlcHMBX92WXVxkPsS': 4,\n",
       "  'https://drive.google.com/u/0/open?usp=forms_web&id=1I3n6NgkUY5ISyb-Qo-j8leJveo6Jh8Tz': 4},\n",
       " {'https://drive.google.com/u/0/open?usp=forms_web&id=1Yla_GYt6kldkpluUCYn3ViZ52xlkv2eg': 5,\n",
       "  'https://drive.google.com/u/0/open?usp=forms_web&id=140TBXVx43B79tpBOsFtM4WFKt8drVUFT': 0},\n",
       " {'https://drive.google.com/u/0/open?usp=forms_web&id=11KhoQhQkX_sPo3nRyCWwLvsWLoArsPXv': 5,\n",
       "  'https://drive.google.com/u/0/open?usp=forms_web&id=1_-o2UjFNskDclTEDKNfukatzWy9VN4Vu': 4},\n",
       " {'https://drive.google.com/u/0/open?usp=forms_web&id=1KqUdSTC_JqtmQNl0XK0AIy7xNmnN-Ix4': 3,\n",
       "  'https://drive.google.com/u/0/open?usp=forms_web&id=12ygR1RD2uw0RIkzeOfnowB-Iu9AUwMx9': 0},\n",
       " {'https://drive.google.com/u/0/open?usp=forms_web&id=1xZTSpoTwKn4VKxIuFVgWXNRw0L8LG_n9': 2,\n",
       "  'https://drive.google.com/u/0/open?usp=forms_web&id=1l2JM_0Qe1hddyEx-7YFgE1wcVbGu7Afo': 0}]"
      ]
     },
     "execution_count": 25,
     "metadata": {},
     "output_type": "execute_result"
    }
   ],
   "source": [
    "round_2_matchups"
   ]
  },
  {
   "cell_type": "code",
   "execution_count": 26,
   "id": "injured-detector",
   "metadata": {},
   "outputs": [],
   "source": [
    "round_2_results = [1,0,0,0,0,1]"
   ]
  },
  {
   "cell_type": "code",
   "execution_count": 30,
   "id": "rubber-soviet",
   "metadata": {},
   "outputs": [],
   "source": [
    "# Vu\n",
    "del round_2_matchups[3]"
   ]
  },
  {
   "cell_type": "code",
   "execution_count": 31,
   "id": "standard-immigration",
   "metadata": {},
   "outputs": [
    {
     "data": {
      "text/plain": [
       "[{'https://drive.google.com/u/0/open?usp=forms_web&id=1xvtaPzHEllvYUH8y8SC_XdVBGUfBf9uE': 10,\n",
       "  'https://drive.google.com/u/0/open?usp=forms_web&id=1yZJiDcuXbb3TUEJ3FZQJK0nJ6t89rVnk': 6},\n",
       " {'https://drive.google.com/u/0/open?usp=forms_web&id=1do8ZT97CVmD85-qAlcHMBX92WXVxkPsS': 4,\n",
       "  'https://drive.google.com/u/0/open?usp=forms_web&id=1I3n6NgkUY5ISyb-Qo-j8leJveo6Jh8Tz': 4},\n",
       " {'https://drive.google.com/u/0/open?usp=forms_web&id=1Yla_GYt6kldkpluUCYn3ViZ52xlkv2eg': 5,\n",
       "  'https://drive.google.com/u/0/open?usp=forms_web&id=140TBXVx43B79tpBOsFtM4WFKt8drVUFT': 0},\n",
       " {'https://drive.google.com/u/0/open?usp=forms_web&id=1KqUdSTC_JqtmQNl0XK0AIy7xNmnN-Ix4': 3,\n",
       "  'https://drive.google.com/u/0/open?usp=forms_web&id=12ygR1RD2uw0RIkzeOfnowB-Iu9AUwMx9': 0},\n",
       " {'https://drive.google.com/u/0/open?usp=forms_web&id=1xZTSpoTwKn4VKxIuFVgWXNRw0L8LG_n9': 2,\n",
       "  'https://drive.google.com/u/0/open?usp=forms_web&id=1l2JM_0Qe1hddyEx-7YFgE1wcVbGu7Afo': 0}]"
      ]
     },
     "execution_count": 31,
     "metadata": {},
     "output_type": "execute_result"
    }
   ],
   "source": [
    "round_2_matchups"
   ]
  },
  {
   "cell_type": "code",
   "execution_count": 32,
   "id": "specialized-essay",
   "metadata": {},
   "outputs": [],
   "source": [
    "round_2_matchups.append({'https://drive.google.com/u/0/open?usp=forms_web&id=11KhoQhQkX_sPo3nRyCWwLvsWLoArsPXv': 5,\n",
    "  'https://drive.google.com/u/0/open?usp=forms_web&id=1c1I2wlw8tOa2jMD9IrFGSFO5OB8hJtyS': 4})"
   ]
  },
  {
   "cell_type": "code",
   "execution_count": 33,
   "id": "light-mainland",
   "metadata": {},
   "outputs": [
    {
     "data": {
      "text/plain": [
       "[{'https://drive.google.com/u/0/open?usp=forms_web&id=1xvtaPzHEllvYUH8y8SC_XdVBGUfBf9uE': 10,\n",
       "  'https://drive.google.com/u/0/open?usp=forms_web&id=1yZJiDcuXbb3TUEJ3FZQJK0nJ6t89rVnk': 6},\n",
       " {'https://drive.google.com/u/0/open?usp=forms_web&id=1do8ZT97CVmD85-qAlcHMBX92WXVxkPsS': 4,\n",
       "  'https://drive.google.com/u/0/open?usp=forms_web&id=1I3n6NgkUY5ISyb-Qo-j8leJveo6Jh8Tz': 4},\n",
       " {'https://drive.google.com/u/0/open?usp=forms_web&id=1Yla_GYt6kldkpluUCYn3ViZ52xlkv2eg': 5,\n",
       "  'https://drive.google.com/u/0/open?usp=forms_web&id=140TBXVx43B79tpBOsFtM4WFKt8drVUFT': 0},\n",
       " {'https://drive.google.com/u/0/open?usp=forms_web&id=1KqUdSTC_JqtmQNl0XK0AIy7xNmnN-Ix4': 3,\n",
       "  'https://drive.google.com/u/0/open?usp=forms_web&id=12ygR1RD2uw0RIkzeOfnowB-Iu9AUwMx9': 0},\n",
       " {'https://drive.google.com/u/0/open?usp=forms_web&id=1xZTSpoTwKn4VKxIuFVgWXNRw0L8LG_n9': 2,\n",
       "  'https://drive.google.com/u/0/open?usp=forms_web&id=1l2JM_0Qe1hddyEx-7YFgE1wcVbGu7Afo': 0},\n",
       " {'https://drive.google.com/u/0/open?usp=forms_web&id=11KhoQhQkX_sPo3nRyCWwLvsWLoArsPXv': 5,\n",
       "  'https://drive.google.com/u/0/open?usp=forms_web&id=1c1I2wlw8tOa2jMD9IrFGSFO5OB8hJtyS': 4}]"
      ]
     },
     "execution_count": 33,
     "metadata": {},
     "output_type": "execute_result"
    }
   ],
   "source": [
    "round_2_matchups"
   ]
  },
  {
   "cell_type": "code",
   "execution_count": 34,
   "id": "emotional-poverty",
   "metadata": {},
   "outputs": [
    {
     "name": "stdout",
     "output_type": "stream",
     "text": [
      "dict_keys(['https://drive.google.com/u/0/open?usp=forms_web&id=1xvtaPzHEllvYUH8y8SC_XdVBGUfBf9uE', 'https://drive.google.com/u/0/open?usp=forms_web&id=1yZJiDcuXbb3TUEJ3FZQJK0nJ6t89rVnk'])\n",
      "dict_keys(['https://drive.google.com/u/0/open?usp=forms_web&id=1do8ZT97CVmD85-qAlcHMBX92WXVxkPsS', 'https://drive.google.com/u/0/open?usp=forms_web&id=1I3n6NgkUY5ISyb-Qo-j8leJveo6Jh8Tz'])\n",
      "dict_keys(['https://drive.google.com/u/0/open?usp=forms_web&id=1Yla_GYt6kldkpluUCYn3ViZ52xlkv2eg', 'https://drive.google.com/u/0/open?usp=forms_web&id=140TBXVx43B79tpBOsFtM4WFKt8drVUFT'])\n",
      "dict_keys(['https://drive.google.com/u/0/open?usp=forms_web&id=1KqUdSTC_JqtmQNl0XK0AIy7xNmnN-Ix4', 'https://drive.google.com/u/0/open?usp=forms_web&id=12ygR1RD2uw0RIkzeOfnowB-Iu9AUwMx9'])\n",
      "dict_keys(['https://drive.google.com/u/0/open?usp=forms_web&id=1xZTSpoTwKn4VKxIuFVgWXNRw0L8LG_n9', 'https://drive.google.com/u/0/open?usp=forms_web&id=1l2JM_0Qe1hddyEx-7YFgE1wcVbGu7Afo'])\n",
      "dict_keys(['https://drive.google.com/u/0/open?usp=forms_web&id=11KhoQhQkX_sPo3nRyCWwLvsWLoArsPXv', 'https://drive.google.com/u/0/open?usp=forms_web&id=1c1I2wlw8tOa2jMD9IrFGSFO5OB8hJtyS'])\n"
     ]
    }
   ],
   "source": [
    "round_3_matchups = extract_winners(round_2_matchups, round_2_results)"
   ]
  },
  {
   "cell_type": "code",
   "execution_count": 35,
   "id": "therapeutic-wrong",
   "metadata": {},
   "outputs": [],
   "source": [
    "round_3_matchups = getRandomPairs(round_3_matchups)"
   ]
  },
  {
   "cell_type": "code",
   "execution_count": 36,
   "id": "opposite-auction",
   "metadata": {},
   "outputs": [
    {
     "data": {
      "text/plain": [
       "[{'https://drive.google.com/u/0/open?usp=forms_web&id=12ygR1RD2uw0RIkzeOfnowB-Iu9AUwMx9': 3,\n",
       "  'https://drive.google.com/u/0/open?usp=forms_web&id=1do8ZT97CVmD85-qAlcHMBX92WXVxkPsS': 1},\n",
       " {'https://drive.google.com/u/0/open?usp=forms_web&id=11KhoQhQkX_sPo3nRyCWwLvsWLoArsPXv': 3,\n",
       "  'https://drive.google.com/u/0/open?usp=forms_web&id=1yZJiDcuXbb3TUEJ3FZQJK0nJ6t89rVnk': 0},\n",
       " {'https://drive.google.com/u/0/open?usp=forms_web&id=1xZTSpoTwKn4VKxIuFVgWXNRw0L8LG_n9': 1,\n",
       "  'https://drive.google.com/u/0/open?usp=forms_web&id=1Yla_GYt6kldkpluUCYn3ViZ52xlkv2eg': 0}]"
      ]
     },
     "execution_count": 36,
     "metadata": {},
     "output_type": "execute_result"
    }
   ],
   "source": [
    "round_3_matchups"
   ]
  }
 ],
 "metadata": {
  "kernelspec": {
   "display_name": "Python 3",
   "language": "python",
   "name": "python3"
  },
  "language_info": {
   "codemirror_mode": {
    "name": "ipython",
    "version": 3
   },
   "file_extension": ".py",
   "mimetype": "text/x-python",
   "name": "python",
   "nbconvert_exporter": "python",
   "pygments_lexer": "ipython3",
   "version": "3.7.3"
  }
 },
 "nbformat": 4,
 "nbformat_minor": 5
}
