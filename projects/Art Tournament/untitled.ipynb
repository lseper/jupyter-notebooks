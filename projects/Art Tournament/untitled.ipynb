{
 "cells": [
  {
   "cell_type": "code",
   "execution_count": 83,
   "id": "protecting-roots",
   "metadata": {},
   "outputs": [],
   "source": [
    "import numpy as np\n",
    "import pandas as pd\n",
    "\n",
    "def disorder(p, n):\n",
    "    total = p + n\n",
    "    logP = 0 if p == 0 else -(p / total) * np.log2(p / total)\n",
    "    logN = 0 if n == 0 else -(n / total) * np.log2(n / total)\n",
    "    return logP + logN\n",
    "\n",
    "def totalDisorder(p1, n1, p2, n2):\n",
    "    total = p1 + n1 + p2 + n2\n",
    "    return (disorder(p1, n1) * ((p1 + n1) / total)) + (disorder(p2, n2) * ((p2 + n2) / total))\n",
    "\n",
    "def getBestChar(df, target):\n",
    "    bestChar = \"nothing\"\n",
    "    bestDis = 2\n",
    "    for characteristic in df.drop(target, axis=1):\n",
    "        charP = df[df[characteristic] == 1]\n",
    "        charN = df[df[characteristic] == 0]\n",
    "        p1 = len(charP[charP[target] == 1])\n",
    "        n1 = len(charP[charP[target] == 0])\n",
    "        p2 = len(charN[charN[target] == 1])\n",
    "        n2 = len(charN[charN[target] == 0])\n",
    "        charD = totalDisorder(p1, n1, p2, n2)\n",
    "        print(f'Disorder for {characteristic}: {charD}')\n",
    "        if charD < bestDis:\n",
    "            bestChar = characteristic\n",
    "            bestDis = charD\n",
    "    return bestChar\n",
    "\n",
    "def splitDf(df, splitter, target):\n",
    "    splits = []\n",
    "    for col in df.columns:\n",
    "        if not (col == splitter or col == target):\n",
    "            splits.append(df[df[splitter] == 0].drop(splitter, axis=1))\n",
    "            splits.append(df[df[splitter] == 1].drop(splitter, axis=1))\n",
    "    return splits\n",
    "\n",
    "def createTree(df, target):\n",
    "    data = df.copy()\n",
    "    dfs = [data]\n",
    "    while(len(data.drop(target, axis=1).columns) > 0):\n",
    "        # TODO: need to do this for all of the dfs in dfs, not just data\n",
    "        bestChar = getBestChar(data, target)\n",
    "        print(f'Best {len(df.columns) -len(data.columns) + 1} characteristic: {bestChar}')\n",
    "        newDfs = []\n",
    "        while(len(dfs) > 0):\n",
    "            toSplit = dfs.pop()\n",
    "            newDfs.extend(splitDf(toSplit, bestChar, target))\n",
    "        dfs = newDfs\n",
    "        data.drop(bestChar, axis=1, inplace=True)"
   ]
  },
  {
   "cell_type": "code",
   "execution_count": 88,
   "id": "chemical-narrative",
   "metadata": {},
   "outputs": [
    {
     "data": {
      "text/plain": [
       "0.0"
      ]
     },
     "execution_count": 88,
     "metadata": {},
     "output_type": "execute_result"
    }
   ],
   "source": [
    "totalDisorder(1, 0,0, 1)"
   ]
  },
  {
   "cell_type": "code",
   "execution_count": 89,
   "id": "advised-terrorism",
   "metadata": {},
   "outputs": [
    {
     "data": {
      "text/html": [
       "<div>\n",
       "<style scoped>\n",
       "    .dataframe tbody tr th:only-of-type {\n",
       "        vertical-align: middle;\n",
       "    }\n",
       "\n",
       "    .dataframe tbody tr th {\n",
       "        vertical-align: top;\n",
       "    }\n",
       "\n",
       "    .dataframe thead th {\n",
       "        text-align: right;\n",
       "    }\n",
       "</style>\n",
       "<table border=\"1\" class=\"dataframe\">\n",
       "  <thead>\n",
       "    <tr style=\"text-align: right;\">\n",
       "      <th></th>\n",
       "      <th>fever</th>\n",
       "      <th>cough</th>\n",
       "      <th>lossTaste</th>\n",
       "      <th>vaccinated</th>\n",
       "      <th>covid</th>\n",
       "    </tr>\n",
       "  </thead>\n",
       "  <tbody>\n",
       "    <tr>\n",
       "      <th>0</th>\n",
       "      <td>0</td>\n",
       "      <td>0</td>\n",
       "      <td>0</td>\n",
       "      <td>1</td>\n",
       "      <td>0</td>\n",
       "    </tr>\n",
       "    <tr>\n",
       "      <th>1</th>\n",
       "      <td>0</td>\n",
       "      <td>0</td>\n",
       "      <td>0</td>\n",
       "      <td>1</td>\n",
       "      <td>0</td>\n",
       "    </tr>\n",
       "    <tr>\n",
       "      <th>2</th>\n",
       "      <td>0</td>\n",
       "      <td>1</td>\n",
       "      <td>1</td>\n",
       "      <td>0</td>\n",
       "      <td>1</td>\n",
       "    </tr>\n",
       "    <tr>\n",
       "      <th>3</th>\n",
       "      <td>1</td>\n",
       "      <td>1</td>\n",
       "      <td>1</td>\n",
       "      <td>0</td>\n",
       "      <td>0</td>\n",
       "    </tr>\n",
       "    <tr>\n",
       "      <th>4</th>\n",
       "      <td>1</td>\n",
       "      <td>1</td>\n",
       "      <td>0</td>\n",
       "      <td>0</td>\n",
       "      <td>1</td>\n",
       "    </tr>\n",
       "    <tr>\n",
       "      <th>5</th>\n",
       "      <td>0</td>\n",
       "      <td>1</td>\n",
       "      <td>1</td>\n",
       "      <td>1</td>\n",
       "      <td>1</td>\n",
       "    </tr>\n",
       "    <tr>\n",
       "      <th>6</th>\n",
       "      <td>1</td>\n",
       "      <td>0</td>\n",
       "      <td>0</td>\n",
       "      <td>1</td>\n",
       "      <td>0</td>\n",
       "    </tr>\n",
       "  </tbody>\n",
       "</table>\n",
       "</div>"
      ],
      "text/plain": [
       "   fever  cough  lossTaste  vaccinated  covid\n",
       "0      0      0          0           1      0\n",
       "1      0      0          0           1      0\n",
       "2      0      1          1           0      1\n",
       "3      1      1          1           0      0\n",
       "4      1      1          0           0      1\n",
       "5      0      1          1           1      1\n",
       "6      1      0          0           1      0"
      ]
     },
     "execution_count": 89,
     "metadata": {},
     "output_type": "execute_result"
    }
   ],
   "source": [
    "fever = [0, 0, 0, 1, 1, 0, 1]\n",
    "cough = [0, 0, 1, 1, 1, 1, 0]\n",
    "lossTaste = [0, 0, 1, 1, 0, 1, 0]\n",
    "vaccinated = [1, 1, 0, 0, 0, 1, 1]\n",
    "covid = [0, 0, 1, 0, 1, 1, 0]\n",
    "\n",
    "df = pd.DataFrame({\"fever\": fever, \"cough\": cough, \"lossTaste\": lossTaste, \"vaccinated\": vaccinated, \"covid\": covid})\n",
    "df.head(10)"
   ]
  },
  {
   "cell_type": "code",
   "execution_count": 90,
   "id": "configured-gibson",
   "metadata": {},
   "outputs": [
    {
     "data": {
      "text/plain": [
       "0.9649839288804954"
      ]
     },
     "execution_count": 90,
     "metadata": {},
     "output_type": "execute_result"
    }
   ],
   "source": [
    "# Fever\n",
    "totalDisorder(1, 2, 2, 2)"
   ]
  },
  {
   "cell_type": "code",
   "execution_count": 91,
   "id": "delayed-portsmouth",
   "metadata": {},
   "outputs": [
    {
     "data": {
      "text/plain": [
       "0.46358749969093305"
      ]
     },
     "execution_count": 91,
     "metadata": {},
     "output_type": "execute_result"
    }
   ],
   "source": [
    "# Cough\n",
    "totalDisorder(3, 1, 0, 3)"
   ]
  },
  {
   "cell_type": "code",
   "execution_count": 52,
   "id": "everyday-firmware",
   "metadata": {},
   "outputs": [
    {
     "data": {
      "text/plain": [
       "0.8571428571428571"
      ]
     },
     "execution_count": 52,
     "metadata": {},
     "output_type": "execute_result"
    }
   ],
   "source": [
    "# Loss Taste\n",
    "totalDisorder(2, 1, 3, 1)"
   ]
  },
  {
   "cell_type": "code",
   "execution_count": 53,
   "id": "understanding-treatment",
   "metadata": {},
   "outputs": [
    {
     "data": {
      "text/plain": [
       "0.8571428571428571"
      ]
     },
     "execution_count": 53,
     "metadata": {},
     "output_type": "execute_result"
    }
   ],
   "source": [
    "# Loss Taste\n",
    "totalDisorder(1, 3, 2, 1)"
   ]
  },
  {
   "cell_type": "code",
   "execution_count": 55,
   "id": "patient-hypothesis",
   "metadata": {},
   "outputs": [
    {
     "data": {
      "text/plain": [
       "7"
      ]
     },
     "execution_count": 55,
     "metadata": {},
     "output_type": "execute_result"
    }
   ],
   "source": [
    "len(df)"
   ]
  },
  {
   "cell_type": "code",
   "execution_count": 56,
   "id": "sized-amazon",
   "metadata": {},
   "outputs": [
    {
     "name": "stdout",
     "output_type": "stream",
     "text": [
      "Disorder for fever: 0.9649839288804954\n",
      "Disorder for cough: 0.46358749969093305\n",
      "Disorder for lossTaste: 0.8571428571428571\n",
      "Disorder for vaccinated: 0.8571428571428571\n"
     ]
    },
    {
     "data": {
      "text/plain": [
       "'cough'"
      ]
     },
     "execution_count": 56,
     "metadata": {},
     "output_type": "execute_result"
    }
   ],
   "source": [
    "# no splits\n",
    "getBestChar(df, \"covid\")"
   ]
  },
  {
   "cell_type": "code",
   "execution_count": 54,
   "id": "heavy-intention",
   "metadata": {},
   "outputs": [],
   "source": [
    "# split on cough\n",
    "coughN = df[df[\"cough\"] == 0].drop(\"cough\", axis=1)\n",
    "coughP = df[df[\"cough\"] == 1].drop(\"cough\", axis=1)"
   ]
  },
  {
   "cell_type": "code",
   "execution_count": 60,
   "id": "miniature-elite",
   "metadata": {},
   "outputs": [
    {
     "name": "stdout",
     "output_type": "stream",
     "text": [
      "Disorder for fever: 0.0\n",
      "Disorder for lossTaste: 0.0\n",
      "Disorder for vaccinated: 0.0\n"
     ]
    },
    {
     "data": {
      "text/plain": [
       "'fever'"
      ]
     },
     "execution_count": 60,
     "metadata": {},
     "output_type": "execute_result"
    }
   ],
   "source": [
    "getBestChar(coughN, \"covid\")"
   ]
  },
  {
   "cell_type": "code",
   "execution_count": 61,
   "id": "nonprofit-karaoke",
   "metadata": {},
   "outputs": [
    {
     "name": "stdout",
     "output_type": "stream",
     "text": [
      "Disorder for fever: 0.5\n",
      "Disorder for lossTaste: 0.6887218755408672\n",
      "Disorder for vaccinated: 0.6887218755408672\n"
     ]
    },
    {
     "data": {
      "text/plain": [
       "'fever'"
      ]
     },
     "execution_count": 61,
     "metadata": {},
     "output_type": "execute_result"
    }
   ],
   "source": [
    "getBestChar(coughP, \"covid\")"
   ]
  },
  {
   "cell_type": "code",
   "execution_count": 63,
   "id": "compliant-brand",
   "metadata": {},
   "outputs": [],
   "source": [
    "# split on fever\n",
    "coughNfeverN = coughN[coughN[\"fever\"] == 0].drop(\"fever\", axis=1)\n",
    "coughNfeverP = coughN[coughN[\"fever\"] == 1].drop(\"fever\", axis=1)\n",
    "\n",
    "coughPfeverN = coughP[coughP[\"fever\"] == 0].drop(\"fever\", axis=1)\n",
    "coughPfeverP = coughP[coughP[\"fever\"] == 1].drop(\"fever\", axis=1)"
   ]
  },
  {
   "cell_type": "code",
   "execution_count": 65,
   "id": "familiar-brunswick",
   "metadata": {},
   "outputs": [
    {
     "name": "stdout",
     "output_type": "stream",
     "text": [
      "Disorder for lossTaste: 0.0\n",
      "Disorder for vaccinated: 0.0\n"
     ]
    },
    {
     "data": {
      "text/plain": [
       "'lossTaste'"
      ]
     },
     "execution_count": 65,
     "metadata": {},
     "output_type": "execute_result"
    }
   ],
   "source": [
    "getBestChar(coughNfeverN, \"covid\")"
   ]
  },
  {
   "cell_type": "code",
   "execution_count": 66,
   "id": "vanilla-american",
   "metadata": {},
   "outputs": [
    {
     "name": "stdout",
     "output_type": "stream",
     "text": [
      "Disorder for lossTaste: 0.0\n",
      "Disorder for vaccinated: 0.0\n"
     ]
    },
    {
     "data": {
      "text/plain": [
       "'lossTaste'"
      ]
     },
     "execution_count": 66,
     "metadata": {},
     "output_type": "execute_result"
    }
   ],
   "source": [
    "getBestChar(coughNfeverP, \"covid\")"
   ]
  },
  {
   "cell_type": "code",
   "execution_count": 67,
   "id": "proved-bobby",
   "metadata": {},
   "outputs": [
    {
     "name": "stdout",
     "output_type": "stream",
     "text": [
      "Disorder for lossTaste: 0.0\n",
      "Disorder for vaccinated: 0.0\n"
     ]
    },
    {
     "data": {
      "text/plain": [
       "'lossTaste'"
      ]
     },
     "execution_count": 67,
     "metadata": {},
     "output_type": "execute_result"
    }
   ],
   "source": [
    "getBestChar(coughPfeverN, \"covid\")"
   ]
  },
  {
   "cell_type": "code",
   "execution_count": 68,
   "id": "mobile-fisher",
   "metadata": {},
   "outputs": [
    {
     "name": "stdout",
     "output_type": "stream",
     "text": [
      "Disorder for lossTaste: 0.0\n",
      "Disorder for vaccinated: 1.0\n"
     ]
    },
    {
     "data": {
      "text/plain": [
       "'lossTaste'"
      ]
     },
     "execution_count": 68,
     "metadata": {},
     "output_type": "execute_result"
    }
   ],
   "source": [
    "getBestChar(coughPfeverP, \"covid\")"
   ]
  },
  {
   "cell_type": "code",
   "execution_count": 71,
   "id": "healthy-protection",
   "metadata": {},
   "outputs": [
    {
     "data": {
      "text/plain": [
       "5"
      ]
     },
     "execution_count": 71,
     "metadata": {},
     "output_type": "execute_result"
    }
   ],
   "source": [
    "len(df.columns)"
   ]
  },
  {
   "cell_type": "code",
   "execution_count": null,
   "id": "gothic-spoke",
   "metadata": {},
   "outputs": [],
   "source": [
    "# split loss taste\n",
    "coughNfeverN = coughN[coughN[\"fever\"] == 0].drop(\"fever\", axis=1)\n",
    "coughNfeverP = coughN[coughN[\"fever\"] == 1].drop(\"fever\", axis=1)\n",
    "\n",
    "coughNfeverN = coughP[coughP[\"fever\"] == 0].drop(\"fever\", axis=1)\n",
    "coughNfeverP = coughP[coughP[\"fever\"] == 1].drop(\"fever\", axis=1)\n",
    "\n",
    "\n",
    "coughNfeverN = coughN[coughN[\"fever\"] == 0].drop(\"fever\", axis=1)\n",
    "coughNfeverP = coughN[coughN[\"fever\"] == 1].drop(\"fever\", axis=1)\n",
    "\n",
    "coughPfeverN = coughP[coughP[\"fever\"] == 0].drop(\"fever\", axis=1)\n",
    "coughPfeverP = coughP[coughP[\"fever\"] == 1].drop(\"fever\", axis=1)"
   ]
  },
  {
   "cell_type": "code",
   "execution_count": 82,
   "id": "north-deficit",
   "metadata": {},
   "outputs": [
    {
     "name": "stdout",
     "output_type": "stream",
     "text": [
      "Disorder for fever: 0.9649839288804954\n",
      "Disorder for cough: 0.46358749969093305\n",
      "Disorder for lossTaste: 0.8571428571428571\n",
      "Disorder for vaccinated: 0.8571428571428571\n",
      "Best 1 characteristic: cough\n",
      "Disorder for fever: 0.9649839288804954\n",
      "Disorder for lossTaste: 0.8571428571428571\n",
      "Disorder for vaccinated: 0.8571428571428571\n",
      "Best 2 characteristic: lossTaste\n",
      "Disorder for fever: 0.9649839288804954\n",
      "Disorder for vaccinated: 0.8571428571428571\n",
      "Best 3 characteristic: vaccinated\n",
      "Disorder for fever: 0.9649839288804954\n",
      "Best 4 characteristic: fever\n"
     ]
    }
   ],
   "source": [
    "createTree(df, \"covid\")"
   ]
  },
  {
   "cell_type": "code",
   "execution_count": null,
   "id": "failing-mainstream",
   "metadata": {},
   "outputs": [],
   "source": []
  }
 ],
 "metadata": {
  "kernelspec": {
   "display_name": "Python 3",
   "language": "python",
   "name": "python3"
  },
  "language_info": {
   "codemirror_mode": {
    "name": "ipython",
    "version": 3
   },
   "file_extension": ".py",
   "mimetype": "text/x-python",
   "name": "python",
   "nbconvert_exporter": "python",
   "pygments_lexer": "ipython3",
   "version": "3.7.3"
  }
 },
 "nbformat": 4,
 "nbformat_minor": 5
}
