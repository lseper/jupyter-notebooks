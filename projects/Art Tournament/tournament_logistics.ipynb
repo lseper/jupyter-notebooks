{
 "cells": [
  {
   "cell_type": "markdown",
   "id": "serial-reward",
   "metadata": {},
   "source": [
    "# Tournament Logistics\n",
    "\n",
    "## Setup"
   ]
  },
  {
   "cell_type": "code",
   "execution_count": 1,
   "id": "warming-patent",
   "metadata": {},
   "outputs": [],
   "source": [
    "import pandas as pd\n",
    "import numpy as np\n",
    "import random as rand"
   ]
  },
  {
   "cell_type": "code",
   "execution_count": 2,
   "id": "thermal-custody",
   "metadata": {},
   "outputs": [],
   "source": [
    "df = pd.read_csv(\"tournament_entries.csv\")\n",
    "df = df.rename(columns={\"Full Name\":\"name\"})\n",
    "# df = df.drop(\"Do you have any dietary restrictions that event planners should be aware of?\", 1)"
   ]
  },
  {
   "cell_type": "code",
   "execution_count": 3,
   "id": "confirmed-message",
   "metadata": {},
   "outputs": [],
   "source": [
    "contestants = list(df[\"name\"])\n",
    "contestants.pop(contestants.index(\"Danny Tran\"))\n",
    "contestants.append(\"Daniel Noon\")\n",
    "del contestants[contestants.index(\"Liam\")]"
   ]
  },
  {
   "cell_type": "code",
   "execution_count": 4,
   "id": "balanced-graphic",
   "metadata": {},
   "outputs": [],
   "source": [
    "def shuffleContestants(contestants):\n",
    "    contestantsCopy = contestants[:]\n",
    "    rand.shuffle(contestantsCopy)\n",
    "    return contestantsCopy\n",
    "\n",
    "def partition(arr, n):\n",
    "    # precondition: n MUST be <= len(arr)\n",
    "    partitions = []\n",
    "    i = 0\n",
    "    while i <= len(arr) - n:\n",
    "        partition = []\n",
    "        for j in range(i, i + n):\n",
    "            partition.append(arr[j])\n",
    "        partitions.append(partition)\n",
    "        i += n\n",
    "    # if there are leftovers\n",
    "    if len(arr[i:]) == n:\n",
    "        # just append them to the last partition\n",
    "        partitions.append(arr[i:])\n",
    "    else:\n",
    "        print(f'there are {len(arr[i:])} {n - 1}-player matchups this round\\n')\n",
    "        new_matchup = arr[i:]\n",
    "        j = 0\n",
    "        while len(new_matchup) < n:\n",
    "            new_player = partitions[len(partitions) - j - 1].pop()\n",
    "            new_matchup.append(new_player)\n",
    "            j += 1\n",
    "        partitions.insert(len(partitions) - j, new_matchup)\n",
    "    return partitions\n",
    "\n",
    "def print_matchups(matchups, round_n):\n",
    "    dashes = '-' * 10\n",
    "    print(f'{dashes}ROUND {round_n}{dashes}\\n\\n')\n",
    "    for i, matchup in enumerate(matchups):\n",
    "        print(f'\\tRACE #{i + 1}:\\n')\n",
    "        for (j, contestant) in enumerate(matchup):\n",
    "            print(f'\\t\\t{j + 1}: {contestant}\\n')\n",
    "        print(\"\\n\")\n",
    "        \n",
    "def generate_seeding_round(contestants, n, round_n):\n",
    "    round_contestants = shuffleContestants(contestants)\n",
    "    matchups = partition(round_contestants, n)\n",
    "    print_matchups(matchups, round_n)"
   ]
  },
  {
   "cell_type": "code",
   "execution_count": 5,
   "id": "abandoned-wildlife",
   "metadata": {},
   "outputs": [],
   "source": [
    "def drop(contestants, contestant):\n",
    "    contestantsCopy = contestants[:]\n",
    "    toRemove = contestantsCopy.index(contestant)\n",
    "    contestantsCopy.pop(toRemove)\n",
    "    return contestantsCopy\n",
    "\n",
    "def dropNoShows(contestants, drops):\n",
    "    contestantsCopy = contestants[:]\n",
    "    for droppee in drops:\n",
    "        contestantsCopy = drop(contestantsCopy, droppee)\n",
    "    return contestantsCopy"
   ]
  },
  {
   "cell_type": "code",
   "execution_count": 6,
   "id": "heard-competition",
   "metadata": {},
   "outputs": [
    {
     "name": "stdout",
     "output_type": "stream",
     "text": [
      "Eric Dundas\n",
      "Garret Snitchler\n",
      "Michael Timm\n",
      "Jared Hoyt\n",
      "Carly Buser\n",
      "Danny Perry\n",
      "Steven Le\n",
      "Morgan cude\n",
      "Tyler Bugiel\n",
      "Jaden Goter\n",
      "Zach Paasch\n",
      "Jackson Bixby\n",
      "Randy Larios\n",
      "Duncan Howser\n",
      "Brennen Easter\n",
      "maxx jabir\n",
      "Sebastian MacNabb\n",
      "Landon Nuss\n",
      "ann le\n",
      "anna kruse <3\n",
      "Sarah Roscoe\n",
      "Ryan O\n",
      "Bryce\n",
      "Daniel Noon\n"
     ]
    }
   ],
   "source": [
    "for contestant in contestants:\n",
    "    print(f'{contestant}')"
   ]
  },
  {
   "cell_type": "code",
   "execution_count": 7,
   "id": "turkish-producer",
   "metadata": {},
   "outputs": [],
   "source": [
    "# toDrop = []\n",
    "# dropNoShows(contestants, toDrop)\n",
    "# contestants = drop(contestants, \"Danny Tran\")"
   ]
  },
  {
   "cell_type": "code",
   "execution_count": 10,
   "id": "cosmetic-scanner",
   "metadata": {},
   "outputs": [
    {
     "name": "stdout",
     "output_type": "stream",
     "text": [
      "there are 0 3-player matchups this round\n",
      "\n"
     ]
    }
   ],
   "source": [
    "matchups = partition(contestants, 4)\n",
    "matchups[-4].append(matchups[-1][0])\n",
    "matchups[-3].append(matchups[-1][1])\n",
    "matchups[-2].append(matchups[-1][2])\n",
    "extra_matchup = matchups.pop(-1)"
   ]
  },
  {
   "cell_type": "code",
   "execution_count": 15,
   "id": "incoming-staff",
   "metadata": {},
   "outputs": [],
   "source": []
  },
  {
   "cell_type": "code",
   "execution_count": 16,
   "id": "external-marshall",
   "metadata": {},
   "outputs": [
    {
     "name": "stdout",
     "output_type": "stream",
     "text": [
      "----------ROUND 2----------\n",
      "\n",
      "\n",
      "\tRACE #1:\n",
      "\n",
      "\t\t1: Eric Dundas\n",
      "\n",
      "\t\t2: Garret Snitchler\n",
      "\n",
      "\t\t3: Michael Timm\n",
      "\n",
      "\t\t4: Jared Hoyt\n",
      "\n",
      "\n",
      "\n",
      "\tRACE #2:\n",
      "\n",
      "\t\t1: Carly Buser\n",
      "\n",
      "\t\t2: Danny Perry\n",
      "\n",
      "\t\t3: Steven Le\n",
      "\n",
      "\t\t4: Morgan cude\n",
      "\n",
      "\n",
      "\n",
      "\tRACE #3:\n",
      "\n",
      "\t\t1: Daniel Noon\n",
      "\n",
      "\t\t2: anna kruse <3\n",
      "\n",
      "\t\t3: maxx jabir\n",
      "\n",
      "\t\t4: Jackson Bixby\n",
      "\n",
      "\n",
      "\n",
      "\tRACE #4:\n",
      "\n",
      "\t\t1: Tyler Bugiel\n",
      "\n",
      "\t\t2: Jaden Goter\n",
      "\n",
      "\t\t3: Zach Paasch\n",
      "\n",
      "\t\t4: Bryce\n",
      "\n",
      "\n",
      "\n",
      "\tRACE #5:\n",
      "\n",
      "\t\t1: Randy Larios\n",
      "\n",
      "\t\t2: Duncan Howser\n",
      "\n",
      "\t\t3: Brennen Easter\n",
      "\n",
      "\t\t4: Sarah Roscoe\n",
      "\n",
      "\n",
      "\n",
      "\tRACE #6:\n",
      "\n",
      "\t\t1: Sebastian MacNabb\n",
      "\n",
      "\t\t2: Landon Nuss\n",
      "\n",
      "\t\t3: ann le\n",
      "\n",
      "\t\t4: Ryan O\n",
      "\n",
      "\n",
      "\n"
     ]
    }
   ],
   "source": [
    "del matchups[-4][4]\n",
    "print_matchups(matchups, 2)"
   ]
  },
  {
   "cell_type": "code",
   "execution_count": null,
   "id": "right-conclusion",
   "metadata": {},
   "outputs": [],
   "source": []
  }
 ],
 "metadata": {
  "kernelspec": {
   "display_name": "Python 3",
   "language": "python",
   "name": "python3"
  },
  "language_info": {
   "codemirror_mode": {
    "name": "ipython",
    "version": 3
   },
   "file_extension": ".py",
   "mimetype": "text/x-python",
   "name": "python",
   "nbconvert_exporter": "python",
   "pygments_lexer": "ipython3",
   "version": "3.7.3"
  }
 },
 "nbformat": 4,
 "nbformat_minor": 5
}
