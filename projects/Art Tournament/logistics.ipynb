{
 "cells": [
  {
   "cell_type": "code",
   "execution_count": 10,
   "id": "dimensional-boutique",
   "metadata": {},
   "outputs": [],
   "source": [
    "import pandas as pd\n",
    "import numpy as np\n",
    "import random as rand"
   ]
  },
  {
   "cell_type": "code",
   "execution_count": 11,
   "id": "arabic-launch",
   "metadata": {},
   "outputs": [],
   "source": [
    "submissions_df = pd.read_csv('submissions.csv')"
   ]
  },
  {
   "cell_type": "code",
   "execution_count": 12,
   "id": "editorial-reliance",
   "metadata": {},
   "outputs": [
    {
     "data": {
      "text/plain": [
       "(14, 4)"
      ]
     },
     "execution_count": 12,
     "metadata": {},
     "output_type": "execute_result"
    }
   ],
   "source": [
    "submissions_df.shape"
   ]
  },
  {
   "cell_type": "code",
   "execution_count": 13,
   "id": "joint-special",
   "metadata": {},
   "outputs": [
    {
     "data": {
      "text/plain": [
       "{'Trevor': ['https://drive.google.com/u/0/open?usp=forms_web&id=12wk6knN-CSKhm0CgwnpNDy2WEXX6QXqi'],\n",
       " 'Sky': ['https://drive.google.com/u/0/open?usp=forms_web&id=1_-o2UjFNskDclTEDKNfukatzWy9VN4Vu'],\n",
       " 'Bolt': ['https://drive.google.com/u/0/open?usp=forms_web&id=1xvtaPzHEllvYUH8y8SC_XdVBGUfBf9uE',\n",
       "  'https://drive.google.com/u/0/open?usp=forms_web&id=140TBXVx43B79tpBOsFtM4WFKt8drVUFT',\n",
       "  'https://drive.google.com/u/0/open?usp=forms_web&id=1yZJiDcuXbb3TUEJ3FZQJK0nJ6t89rVnk',\n",
       "  'https://drive.google.com/u/0/open?usp=forms_web&id=1Ds_CaxgFTlys3uhs0Uou9dPtPUWUrgu_',\n",
       "  'https://drive.google.com/u/0/open?usp=forms_web&id=1JCbnoffoYXmfV-qEqXMGTt9_AXzB-0IN'],\n",
       " 'Zaverose': ['https://drive.google.com/u/0/open?usp=forms_web&id=11KhoQhQkX_sPo3nRyCWwLvsWLoArsPXv',\n",
       "  'https://drive.google.com/u/0/open?usp=forms_web&id=1I3n6NgkUY5ISyb-Qo-j8leJveo6Jh8Tz',\n",
       "  'https://drive.google.com/u/0/open?usp=forms_web&id=1xZTSpoTwKn4VKxIuFVgWXNRw0L8LG_n9',\n",
       "  'https://drive.google.com/u/0/open?usp=forms_web&id=1KqUdSTC_JqtmQNl0XK0AIy7xNmnN-Ix4',\n",
       "  'https://drive.google.com/u/0/open?usp=forms_web&id=1c1I2wlw8tOa2jMD9IrFGSFO5OB8hJtyS'],\n",
       " 'Gordon': ['https://drive.google.com/u/0/open?usp=forms_web&id=1xApvUya7FSAQ637YwHxYkZg3pLlmN_eD',\n",
       "  'https://drive.google.com/u/0/open?usp=forms_web&id=1RMOYWiYxz_G_spcC922hSmRP3HQj1EN8',\n",
       "  'https://drive.google.com/u/0/open?usp=forms_web&id=13cKGKbeTvdGcqvrdI0W8jQievOKOSupi',\n",
       "  'https://drive.google.com/u/0/open?usp=forms_web&id=1xVZgfzEfQzFs0s3nr8CGCVXwyYlUiSNo'],\n",
       " 'Kevin/Solaris': ['https://drive.google.com/u/0/open?usp=forms_web&id=1iumbe1LnIUrztNMy5kbzD_3SF8vtzvce',\n",
       "  'https://drive.google.com/u/0/open?usp=forms_web&id=1do8ZT97CVmD85-qAlcHMBX92WXVxkPsS',\n",
       "  'https://drive.google.com/u/0/open?usp=forms_web&id=12ygR1RD2uw0RIkzeOfnowB-Iu9AUwMx9',\n",
       "  'https://drive.google.com/u/0/open?usp=forms_web&id=1-HcaRfZoZBYo3VVympaqk9HeBQm5fz8Q',\n",
       "  'https://drive.google.com/u/0/open?usp=forms_web&id=1F2-0t7WtYREK7XxAJ1EnDTw8y9wAn_nP'],\n",
       " 'Daniel': ['https://drive.google.com/u/0/open?usp=forms_web&id=1Yla_GYt6kldkpluUCYn3ViZ52xlkv2eg',\n",
       "  'https://drive.google.com/u/0/open?usp=forms_web&id=1l2JM_0Qe1hddyEx-7YFgE1wcVbGu7Afo',\n",
       "  'https://drive.google.com/u/0/open?usp=forms_web&id=11kPAgXSvWzyrbhnE5QUK6Ge1Gd-EOEeT',\n",
       "  'https://drive.google.com/u/0/open?usp=forms_web&id=1jwUni3Ex8CZ6y87aHUOchTertn8_YTTQ',\n",
       "  'https://drive.google.com/u/0/open?usp=forms_web&id=1C24RuEzZl4f4E-O0KkfAE4uub-b9A9sm'],\n",
       " 'Velox': ['https://drive.google.com/u/0/open?usp=forms_web&id=1ThQRq0LJUqzCFnUzZbL-reg-gd4Hhp5_'],\n",
       " 'Luke R': ['https://drive.google.com/u/0/open?usp=forms_web&id=1eAE61lHG-IKJRJ5mOiPrbT5dZCufouhf'],\n",
       " 'Luke Reinsch': ['https://drive.google.com/u/0/open?usp=forms_web&id=1f2zdWZYpMyWfdSLKEwnDj9WCzaGPJY51'],\n",
       " 'Amarikano (John)': ['https://drive.google.com/u/0/open?usp=forms_web&id=1RIn8pQBGdJgrG8FmxEQ41a1Pl3eFo6GJ',\n",
       "  'https://drive.google.com/u/0/open?usp=forms_web&id=1Bo3wj7CRqoXWzK_99ocbsw5gV8eu2wpw',\n",
       "  'https://drive.google.com/u/0/open?usp=forms_web&id=1WC7zxoS1pxlaDdRRW7SNjV1CTThnkVqS',\n",
       "  'https://drive.google.com/u/0/open?usp=forms_web&id=1ui0QHjnclAdsYXR6H7xAc0Zf1ayrGnbw']}"
      ]
     },
     "execution_count": 13,
     "metadata": {},
     "output_type": "execute_result"
    }
   ],
   "source": [
    "submission_data = {}\n",
    "for name, submission_paths in submissions_df[['What is your name?', 'Please upload your submission(s) for the art battle-royale. You may upload an image file(s) or video file(s). Please try to limit the compression on the artwork! You may upload up to 5 files for the tournament.']].itertuples(index=False):\n",
    "    if name in submission_data.keys():\n",
    "        submission_data[name].extend(submission_paths.split(';'))\n",
    "    else:    \n",
    "        submission_data[name] = submission_paths.split(';')\n",
    "submission_data"
   ]
  },
  {
   "cell_type": "code",
   "execution_count": 14,
   "id": "quarterly-encoding",
   "metadata": {},
   "outputs": [
    {
     "data": {
      "text/plain": [
       "33"
      ]
     },
     "execution_count": 14,
     "metadata": {},
     "output_type": "execute_result"
    }
   ],
   "source": [
    "all_submissions = []\n",
    "for submissions in submission_data.values():\n",
    "    all_submissions.extend(submissions)\n",
    "len(all_submissions)"
   ]
  },
  {
   "cell_type": "code",
   "execution_count": 15,
   "id": "agreed-jersey",
   "metadata": {},
   "outputs": [],
   "source": [
    "def shuffleSubmissions(submissions):\n",
    "    submissionsCopy = submissions[:]\n",
    "    rand.shuffle(submissionsCopy)\n",
    "    return submissionsCopy\n",
    " \n",
    "def partition(arr, n):\n",
    "    # precondition: n MUST be <= len(arr)\n",
    "    partitions = []\n",
    "    i = 0\n",
    "    while i <= len(arr) - n:\n",
    "        partition = []\n",
    "        for j in range(i, i + n):\n",
    "            partition.append(arr[j])\n",
    "        partitions.append(partition)\n",
    "        i += n\n",
    "    # if there are leftovers\n",
    "    if len(arr) != 0:\n",
    "        # just append them to the last partition\n",
    "        partitions[-1].extend(arr[i:])\n",
    "    return partitions"
   ]
  },
  {
   "cell_type": "code",
   "execution_count": 16,
   "id": "wound-centre",
   "metadata": {},
   "outputs": [],
   "source": [
    "def generateMatchups(submissions):\n",
    "    submissionsShuffled = shuffleSubmissions(submissions)\n",
    "    matchups = partition(submissionsShuffled, 2)\n",
    "    return matchups\n",
    "\n",
    "def filterWinners(matchups, winner_array):\n",
    "    i = 0\n",
    "    survivors = []\n",
    "    while i < len(matchups) - 1:\n",
    "        matchup = matchups[i]\n",
    "        survivors.append(matchup[winner_array[i]])\n",
    "        i += 1\n",
    "    irregular = not (type(winner_array[i]) is int)\n",
    "    # if we have an irregular final round, take the winner(s) from it, not just one\n",
    "    if irregular:\n",
    "        for winner in winner_array[i]:\n",
    "            survivors.append(matchups[i][winner])\n",
    "    else:\n",
    "        survivors.append(matchups[i][winner_array[i]])\n",
    "    return survivors"
   ]
  },
  {
   "cell_type": "code",
   "execution_count": 17,
   "id": "quantitative-hearing",
   "metadata": {},
   "outputs": [],
   "source": [
    "def prettyPrintMatchups(matchups):\n",
    "    i = 0\n",
    "    while i < len(matchups) - 1:\n",
    "        contestant_1 = matchups[i][0]\n",
    "        contestant_2 = matchups[i][1]\n",
    "        print(f'MATCHUP {i + 1}\\n\\n\\tArt Piece 0: {contestant_1}\\n\\n\\t\\t\\tVS.\\n\\n\\tArt Piece 1: {contestant_2}\\n\\n\\n\\n')\n",
    "        i += 1\n",
    "    if len(matchups[i]) != len(matchups[0]):\n",
    "        print(f'MATCHUP {i + 1}\\n\\n')\n",
    "        j = 0\n",
    "        while j < len(matchups[i]) - 1:\n",
    "            print(f'\\tArt Piece {j}: {matchups[i][j]}\\n\\n\\t\\t\\tVS.\\n')\n",
    "            j += 1\n",
    "        print(f'\\tArt Piece {j}: {matchups[i][j]}')\n",
    "    else:\n",
    "        print(f'MATCHUP {i + 1}\\n\\n\\tArt Piece 0: {matchups[i][0]}\\n\\n\\t\\t\\tVS.\\n\\n\\tArt Piece 1: {matchups[i][1]}')"
   ]
  },
  {
   "cell_type": "code",
   "execution_count": 18,
   "id": "mobile-astrology",
   "metadata": {},
   "outputs": [],
   "source": [
    "# dummy_matchups_regular = [[1,2], [3,4], [5,6], [7,8]]\n",
    "# dummy_matchups_irregular = [[1,2], [3,4], [5,6], [7,8,9]]\n",
    "# dummy_winners_regular = [0, 1, 1, 0]\n",
    "# dummy_winners_irregular = [0, 1, 1, [1, 2]]\n",
    "\n",
    "# dummy_survivors_regular = filterWinners(dummy_matchups_regular, dummy_winners_regular)\n",
    "# dummy_survivors_irregular = filterWinners(dummy_matchups_irregular, dummy_winners_irregular)\n",
    "\n",
    "# dummy_survivors_regular, dummy_survivors_irregular"
   ]
  },
  {
   "cell_type": "code",
   "execution_count": 19,
   "id": "respective-beijing",
   "metadata": {},
   "outputs": [],
   "source": [
    "submissions = all_submissions"
   ]
  },
  {
   "cell_type": "markdown",
   "id": "raised-memory",
   "metadata": {},
   "source": [
    "## Code To be Modified In-Tournament"
   ]
  },
  {
   "cell_type": "code",
   "execution_count": 20,
   "id": "surprised-arrival",
   "metadata": {},
   "outputs": [],
   "source": [
    "## IMPORTANT NOTE\n",
    "##     remember winners MUST be the an array of 0's and 1's denoting the winner of each matchup\n",
    "##     if you have an irregular final matchup in a round, input the top two pieces from that matchup as a two-element array\n",
    "##     as the last element of the winners array. Because of how this is set up, there should only ever be AT MOST\n",
    "##     one of these types of rounds, and it can only be the first round that this could happen. Example below\n",
    "##     Example: \n",
    "##          submissions = [\"Zaverose\", \"Rory\", \"Daitarou\", \"Mason\", \"Bluezy\", \"Bolt\", \"Ferris\"]\n",
    "##          ...\n",
    "##          ...\n",
    "##          matchups = [[\"Zaverose\", \"Rory\"], [\"Daitarou\", \"Mason\"], [\"Bluezy\", \"Bolt\", \"Ferris\"]]\n",
    "##          winners = [1, 0, [0, 1]]\n",
    "##          submissions = filterWinners(matchups, winners) --> [\"Rory\", \"Daitarou\", \"Bluezy\", \"Bolt\"]\n",
    "##          matchups = generateMatchups(submissions) --> [[\"Bluezy\", \"Daitarou\"], [\"Bolt\", \"Rory\"]]\n",
    "##\n",
    "##     if you do NOT have an irregular final matchup in a round (which after round 1, an irregular matchup is impossible to occurr)\n",
    "##     then simply input the winners into the winners list as usual (0's and 1's for whomever wins a given matchup)\n",
    "##     Example:\n",
    "##          matchups = [[\"Bluezy\", \"Daitarou\"], [\"Bolt\", \"Rory\"]]\n",
    "##          winners = [0, 1]\n",
    "##          submissions = filterWinners(matchups, winners) --> [\"Daitarou\", \"Rory\"]\n",
    "##          matchups = generateMatchups(submissions) --> [[\"Rory\", \"Daitarou\"]]\n",
    "##\n",
    "\n",
    "## Uncomment these next two commented-out lines after the first round is complete \n",
    "## (there are now winners that need to be filtered from the rest for the next round)\n",
    "\n",
    "# winners = []\n",
    "# submissions = filterWinners(matchups, winners)\n",
    "matchups = generateMatchups(submissions)"
   ]
  },
  {
   "cell_type": "code",
   "execution_count": 21,
   "id": "detected-advocate",
   "metadata": {},
   "outputs": [
    {
     "name": "stdout",
     "output_type": "stream",
     "text": [
      "---------------------------------------- ROUND 1 ----------------------------------------\n",
      "MATCHUP 1\n",
      "\n",
      "\tArt Piece 0: https://drive.google.com/u/0/open?usp=forms_web&id=1yZJiDcuXbb3TUEJ3FZQJK0nJ6t89rVnk\n",
      "\n",
      "\t\t\tVS.\n",
      "\n",
      "\tArt Piece 1: https://drive.google.com/u/0/open?usp=forms_web&id=1jwUni3Ex8CZ6y87aHUOchTertn8_YTTQ\n",
      "\n",
      "\n",
      "\n",
      "\n",
      "MATCHUP 2\n",
      "\n",
      "\tArt Piece 0: https://drive.google.com/u/0/open?usp=forms_web&id=11KhoQhQkX_sPo3nRyCWwLvsWLoArsPXv\n",
      "\n",
      "\t\t\tVS.\n",
      "\n",
      "\tArt Piece 1: https://drive.google.com/u/0/open?usp=forms_web&id=1c1I2wlw8tOa2jMD9IrFGSFO5OB8hJtyS\n",
      "\n",
      "\n",
      "\n",
      "\n",
      "MATCHUP 3\n",
      "\n",
      "\tArt Piece 0: https://drive.google.com/u/0/open?usp=forms_web&id=1ThQRq0LJUqzCFnUzZbL-reg-gd4Hhp5_\n",
      "\n",
      "\t\t\tVS.\n",
      "\n",
      "\tArt Piece 1: https://drive.google.com/u/0/open?usp=forms_web&id=1f2zdWZYpMyWfdSLKEwnDj9WCzaGPJY51\n",
      "\n",
      "\n",
      "\n",
      "\n",
      "MATCHUP 4\n",
      "\n",
      "\tArt Piece 0: https://drive.google.com/u/0/open?usp=forms_web&id=1KqUdSTC_JqtmQNl0XK0AIy7xNmnN-Ix4\n",
      "\n",
      "\t\t\tVS.\n",
      "\n",
      "\tArt Piece 1: https://drive.google.com/u/0/open?usp=forms_web&id=1l2JM_0Qe1hddyEx-7YFgE1wcVbGu7Afo\n",
      "\n",
      "\n",
      "\n",
      "\n",
      "MATCHUP 5\n",
      "\n",
      "\tArt Piece 0: https://drive.google.com/u/0/open?usp=forms_web&id=12ygR1RD2uw0RIkzeOfnowB-Iu9AUwMx9\n",
      "\n",
      "\t\t\tVS.\n",
      "\n",
      "\tArt Piece 1: https://drive.google.com/u/0/open?usp=forms_web&id=1do8ZT97CVmD85-qAlcHMBX92WXVxkPsS\n",
      "\n",
      "\n",
      "\n",
      "\n",
      "MATCHUP 6\n",
      "\n",
      "\tArt Piece 0: https://drive.google.com/u/0/open?usp=forms_web&id=11kPAgXSvWzyrbhnE5QUK6Ge1Gd-EOEeT\n",
      "\n",
      "\t\t\tVS.\n",
      "\n",
      "\tArt Piece 1: https://drive.google.com/u/0/open?usp=forms_web&id=1_-o2UjFNskDclTEDKNfukatzWy9VN4Vu\n",
      "\n",
      "\n",
      "\n",
      "\n",
      "MATCHUP 7\n",
      "\n",
      "\tArt Piece 0: https://drive.google.com/u/0/open?usp=forms_web&id=1I3n6NgkUY5ISyb-Qo-j8leJveo6Jh8Tz\n",
      "\n",
      "\t\t\tVS.\n",
      "\n",
      "\tArt Piece 1: https://drive.google.com/u/0/open?usp=forms_web&id=140TBXVx43B79tpBOsFtM4WFKt8drVUFT\n",
      "\n",
      "\n",
      "\n",
      "\n",
      "MATCHUP 8\n",
      "\n",
      "\tArt Piece 0: https://drive.google.com/u/0/open?usp=forms_web&id=1RMOYWiYxz_G_spcC922hSmRP3HQj1EN8\n",
      "\n",
      "\t\t\tVS.\n",
      "\n",
      "\tArt Piece 1: https://drive.google.com/u/0/open?usp=forms_web&id=1xZTSpoTwKn4VKxIuFVgWXNRw0L8LG_n9\n",
      "\n",
      "\n",
      "\n",
      "\n",
      "MATCHUP 9\n",
      "\n",
      "\tArt Piece 0: https://drive.google.com/u/0/open?usp=forms_web&id=1RIn8pQBGdJgrG8FmxEQ41a1Pl3eFo6GJ\n",
      "\n",
      "\t\t\tVS.\n",
      "\n",
      "\tArt Piece 1: https://drive.google.com/u/0/open?usp=forms_web&id=1JCbnoffoYXmfV-qEqXMGTt9_AXzB-0IN\n",
      "\n",
      "\n",
      "\n",
      "\n",
      "MATCHUP 10\n",
      "\n",
      "\tArt Piece 0: https://drive.google.com/u/0/open?usp=forms_web&id=1ui0QHjnclAdsYXR6H7xAc0Zf1ayrGnbw\n",
      "\n",
      "\t\t\tVS.\n",
      "\n",
      "\tArt Piece 1: https://drive.google.com/u/0/open?usp=forms_web&id=1WC7zxoS1pxlaDdRRW7SNjV1CTThnkVqS\n",
      "\n",
      "\n",
      "\n",
      "\n",
      "MATCHUP 11\n",
      "\n",
      "\tArt Piece 0: https://drive.google.com/u/0/open?usp=forms_web&id=1F2-0t7WtYREK7XxAJ1EnDTw8y9wAn_nP\n",
      "\n",
      "\t\t\tVS.\n",
      "\n",
      "\tArt Piece 1: https://drive.google.com/u/0/open?usp=forms_web&id=1Ds_CaxgFTlys3uhs0Uou9dPtPUWUrgu_\n",
      "\n",
      "\n",
      "\n",
      "\n",
      "MATCHUP 12\n",
      "\n",
      "\tArt Piece 0: https://drive.google.com/u/0/open?usp=forms_web&id=1xVZgfzEfQzFs0s3nr8CGCVXwyYlUiSNo\n",
      "\n",
      "\t\t\tVS.\n",
      "\n",
      "\tArt Piece 1: https://drive.google.com/u/0/open?usp=forms_web&id=1-HcaRfZoZBYo3VVympaqk9HeBQm5fz8Q\n",
      "\n",
      "\n",
      "\n",
      "\n",
      "MATCHUP 13\n",
      "\n",
      "\tArt Piece 0: https://drive.google.com/u/0/open?usp=forms_web&id=12wk6knN-CSKhm0CgwnpNDy2WEXX6QXqi\n",
      "\n",
      "\t\t\tVS.\n",
      "\n",
      "\tArt Piece 1: https://drive.google.com/u/0/open?usp=forms_web&id=1eAE61lHG-IKJRJ5mOiPrbT5dZCufouhf\n",
      "\n",
      "\n",
      "\n",
      "\n",
      "MATCHUP 14\n",
      "\n",
      "\tArt Piece 0: https://drive.google.com/u/0/open?usp=forms_web&id=1xApvUya7FSAQ637YwHxYkZg3pLlmN_eD\n",
      "\n",
      "\t\t\tVS.\n",
      "\n",
      "\tArt Piece 1: https://drive.google.com/u/0/open?usp=forms_web&id=1Yla_GYt6kldkpluUCYn3ViZ52xlkv2eg\n",
      "\n",
      "\n",
      "\n",
      "\n",
      "MATCHUP 15\n",
      "\n",
      "\tArt Piece 0: https://drive.google.com/u/0/open?usp=forms_web&id=13cKGKbeTvdGcqvrdI0W8jQievOKOSupi\n",
      "\n",
      "\t\t\tVS.\n",
      "\n",
      "\tArt Piece 1: https://drive.google.com/u/0/open?usp=forms_web&id=1xvtaPzHEllvYUH8y8SC_XdVBGUfBf9uE\n",
      "\n",
      "\n",
      "\n",
      "\n",
      "MATCHUP 16\n",
      "\n",
      "\n",
      "\tArt Piece 0: https://drive.google.com/u/0/open?usp=forms_web&id=1Bo3wj7CRqoXWzK_99ocbsw5gV8eu2wpw\n",
      "\n",
      "\t\t\tVS.\n",
      "\n",
      "\tArt Piece 1: https://drive.google.com/u/0/open?usp=forms_web&id=1C24RuEzZl4f4E-O0KkfAE4uub-b9A9sm\n",
      "\n",
      "\t\t\tVS.\n",
      "\n",
      "\tArt Piece 2: https://drive.google.com/u/0/open?usp=forms_web&id=1iumbe1LnIUrztNMy5kbzD_3SF8vtzvce\n"
     ]
    }
   ],
   "source": [
    "print('-' * 40, \"ROUND 1\", '-' * 40)\n",
    "prettyPrintMatchups(matchups)"
   ]
  },
  {
   "cell_type": "code",
   "execution_count": 22,
   "id": "third-variation",
   "metadata": {},
   "outputs": [],
   "source": [
    "## IMPORTANT NOTE\n",
    "##     remember winners MUST be the an array of 0's and 1's denoting the winner of each matchup\n",
    "##     if you have an irregular final matchup in a round, input the top two pieces from that matchup as a two-element array\n",
    "##     as the last element of the winners array.Example below\n",
    "##     Example: \n",
    "##          submissions = [\"Zaverose\", \"Rory\", \"Daitarou\", \"Mason\", \"Bluezy\", \"Bolt\", \"Ferris\"]\n",
    "##          ...\n",
    "##          ...\n",
    "##          matchups = [[\"Zaverose\", \"Rory\"], [\"Daitarou\", \"Mason\"], [\"Bluezy\", \"Bolt\", \"Ferris\"]]\n",
    "##          winners = [1, 0, [0, 1]]\n",
    "##          submissions = filterWinners(matchups, winners) --> [\"Rory\", \"Daitarou\", \"Bluezy\", \"Bolt\"]\n",
    "##          matchups = generateMatchups(submissions) --> [[\"Bluezy\", \"Daitarou\"], [\"Bolt\", \"Rory\"]]\n",
    "##\n",
    "##     if you do NOT have an irregular final matchup in a round \n",
    "##     then simply input the winners into the winners list as usual (0's and 1's for whomever wins a given matchup)\n",
    "##     Example:\n",
    "##          matchups = [[\"Bluezy\", \"Daitarou\"], [\"Bolt\", \"Rory\"]]\n",
    "##          winners = [0, 1]\n",
    "##          submissions = filterWinners(matchups, winners) --> [\"Daitarou\", \"Rory\"]\n",
    "##          matchups = generateMatchups(submissions) --> [[\"Rory\", \"Daitarou\"]]\n",
    "\n",
    "# test_winners = [0] * 12\n",
    "# test_winners.append([0,1])\n",
    "# winners = test_winners\n",
    "\n",
    "# Input Round 1 winners here\n",
    "#                        e\n",
    "winners = [1,1,0,0,1,1,1,1,0,1,0,1,0,0,1,[1,2]]"
   ]
  },
  {
   "cell_type": "code",
   "execution_count": 23,
   "id": "failing-blowing",
   "metadata": {},
   "outputs": [],
   "source": [
    "submissions = filterWinners(matchups, winners)\n",
    "matchups = generateMatchups(submissions)"
   ]
  },
  {
   "cell_type": "code",
   "execution_count": 24,
   "id": "invalid-marker",
   "metadata": {},
   "outputs": [
    {
     "name": "stdout",
     "output_type": "stream",
     "text": [
      "---------------------------------------- ROUND 2 ----------------------------------------\n"
     ]
    }
   ],
   "source": [
    "print('-' * 40, \"ROUND 2\", '-' * 40)"
   ]
  },
  {
   "cell_type": "code",
   "execution_count": 25,
   "id": "auburn-mercury",
   "metadata": {},
   "outputs": [
    {
     "name": "stdout",
     "output_type": "stream",
     "text": [
      "MATCHUP 1\n",
      "\n",
      "\tArt Piece 0: https://drive.google.com/u/0/open?usp=forms_web&id=1WC7zxoS1pxlaDdRRW7SNjV1CTThnkVqS\n",
      "\n",
      "\t\t\tVS.\n",
      "\n",
      "\tArt Piece 1: https://drive.google.com/u/0/open?usp=forms_web&id=1C24RuEzZl4f4E-O0KkfAE4uub-b9A9sm\n",
      "\n",
      "\n",
      "\n",
      "\n",
      "MATCHUP 2\n",
      "\n",
      "\tArt Piece 0: https://drive.google.com/u/0/open?usp=forms_web&id=1c1I2wlw8tOa2jMD9IrFGSFO5OB8hJtyS\n",
      "\n",
      "\t\t\tVS.\n",
      "\n",
      "\tArt Piece 1: https://drive.google.com/u/0/open?usp=forms_web&id=1xvtaPzHEllvYUH8y8SC_XdVBGUfBf9uE\n",
      "\n",
      "\n",
      "\n",
      "\n",
      "MATCHUP 3\n",
      "\n",
      "\tArt Piece 0: https://drive.google.com/u/0/open?usp=forms_web&id=1xZTSpoTwKn4VKxIuFVgWXNRw0L8LG_n9\n",
      "\n",
      "\t\t\tVS.\n",
      "\n",
      "\tArt Piece 1: https://drive.google.com/u/0/open?usp=forms_web&id=1iumbe1LnIUrztNMy5kbzD_3SF8vtzvce\n",
      "\n",
      "\n",
      "\n",
      "\n",
      "MATCHUP 4\n",
      "\n",
      "\tArt Piece 0: https://drive.google.com/u/0/open?usp=forms_web&id=1-HcaRfZoZBYo3VVympaqk9HeBQm5fz8Q\n",
      "\n",
      "\t\t\tVS.\n",
      "\n",
      "\tArt Piece 1: https://drive.google.com/u/0/open?usp=forms_web&id=1F2-0t7WtYREK7XxAJ1EnDTw8y9wAn_nP\n",
      "\n",
      "\n",
      "\n",
      "\n",
      "MATCHUP 5\n",
      "\n",
      "\tArt Piece 0: https://drive.google.com/u/0/open?usp=forms_web&id=140TBXVx43B79tpBOsFtM4WFKt8drVUFT\n",
      "\n",
      "\t\t\tVS.\n",
      "\n",
      "\tArt Piece 1: https://drive.google.com/u/0/open?usp=forms_web&id=12wk6knN-CSKhm0CgwnpNDy2WEXX6QXqi\n",
      "\n",
      "\n",
      "\n",
      "\n",
      "MATCHUP 6\n",
      "\n",
      "\tArt Piece 0: https://drive.google.com/u/0/open?usp=forms_web&id=1xApvUya7FSAQ637YwHxYkZg3pLlmN_eD\n",
      "\n",
      "\t\t\tVS.\n",
      "\n",
      "\tArt Piece 1: https://drive.google.com/u/0/open?usp=forms_web&id=1ThQRq0LJUqzCFnUzZbL-reg-gd4Hhp5_\n",
      "\n",
      "\n",
      "\n",
      "\n",
      "MATCHUP 7\n",
      "\n",
      "\tArt Piece 0: https://drive.google.com/u/0/open?usp=forms_web&id=1RIn8pQBGdJgrG8FmxEQ41a1Pl3eFo6GJ\n",
      "\n",
      "\t\t\tVS.\n",
      "\n",
      "\tArt Piece 1: https://drive.google.com/u/0/open?usp=forms_web&id=1KqUdSTC_JqtmQNl0XK0AIy7xNmnN-Ix4\n",
      "\n",
      "\n",
      "\n",
      "\n",
      "MATCHUP 8\n",
      "\n",
      "\n",
      "\tArt Piece 0: https://drive.google.com/u/0/open?usp=forms_web&id=1do8ZT97CVmD85-qAlcHMBX92WXVxkPsS\n",
      "\n",
      "\t\t\tVS.\n",
      "\n",
      "\tArt Piece 1: https://drive.google.com/u/0/open?usp=forms_web&id=1jwUni3Ex8CZ6y87aHUOchTertn8_YTTQ\n",
      "\n",
      "\t\t\tVS.\n",
      "\n",
      "\tArt Piece 2: https://drive.google.com/u/0/open?usp=forms_web&id=1_-o2UjFNskDclTEDKNfukatzWy9VN4Vu\n"
     ]
    }
   ],
   "source": [
    "prettyPrintMatchups(matchups)"
   ]
  },
  {
   "cell_type": "code",
   "execution_count": 26,
   "id": "parliamentary-renaissance",
   "metadata": {},
   "outputs": [],
   "source": [
    "## IMPORTANT NOTE\n",
    "##     remember winners MUST be the an array of 0's and 1's denoting the winner of each matchup\n",
    "##     if you have an irregular final matchup in a round, input the top two pieces from that matchup as a two-element array\n",
    "##     as the last element of the winners array.Example below\n",
    "##     Example: \n",
    "##          submissions = [\"Zaverose\", \"Rory\", \"Daitarou\", \"Mason\", \"Bluezy\", \"Bolt\", \"Ferris\"]\n",
    "##          ...\n",
    "##          ...\n",
    "##          matchups = [[\"Zaverose\", \"Rory\"], [\"Daitarou\", \"Mason\"], [\"Bluezy\", \"Bolt\", \"Ferris\"]]\n",
    "##          winners = [1, 0, [0, 1]]\n",
    "##          submissions = filterWinners(matchups, winners) --> [\"Rory\", \"Daitarou\", \"Bluezy\", \"Bolt\"]\n",
    "##          matchups = generateMatchups(submissions) --> [[\"Bluezy\", \"Daitarou\"], [\"Bolt\", \"Rory\"]]\n",
    "##\n",
    "##     if you do NOT have an irregular final matchup in a round \n",
    "##     then simply input the winners into the winners list as usual (0's and 1's for whomever wins a given matchup)\n",
    "##     Example:\n",
    "##          matchups = [[\"Bluezy\", \"Daitarou\"], [\"Bolt\", \"Rory\"]]\n",
    "##          winners = [0, 1]\n",
    "##          submissions = filterWinners(matchups, winners) --> [\"Daitarou\", \"Rory\"]\n",
    "##          matchups = generateMatchups(submissions) --> [[\"Rory\", \"Daitarou\"]]\n",
    "\n",
    "# done for testing\n",
    "# test_winners = [0] * 7\n",
    "# winners = test_winners\n",
    "# Input Round 1 winners here\n",
    "winners = [0,0,1,1,0,0,1,[0,2]]"
   ]
  },
  {
   "cell_type": "code",
   "execution_count": 27,
   "id": "preceding-madonna",
   "metadata": {},
   "outputs": [],
   "source": [
    "submissions = filterWinners(matchups, winners)\n",
    "matchups = generateMatchups(submissions)"
   ]
  },
  {
   "cell_type": "code",
   "execution_count": 28,
   "id": "ongoing-childhood",
   "metadata": {},
   "outputs": [
    {
     "name": "stdout",
     "output_type": "stream",
     "text": [
      "---------------------------------------- ROUND 3 ----------------------------------------\n"
     ]
    }
   ],
   "source": [
    "print('-' * 40, \"ROUND 3\", '-' * 40)"
   ]
  },
  {
   "cell_type": "code",
   "execution_count": 29,
   "id": "atlantic-bedroom",
   "metadata": {},
   "outputs": [
    {
     "name": "stdout",
     "output_type": "stream",
     "text": [
      "MATCHUP 1\n",
      "\n",
      "\tArt Piece 0: https://drive.google.com/u/0/open?usp=forms_web&id=1c1I2wlw8tOa2jMD9IrFGSFO5OB8hJtyS\n",
      "\n",
      "\t\t\tVS.\n",
      "\n",
      "\tArt Piece 1: https://drive.google.com/u/0/open?usp=forms_web&id=1WC7zxoS1pxlaDdRRW7SNjV1CTThnkVqS\n",
      "\n",
      "\n",
      "\n",
      "\n",
      "MATCHUP 2\n",
      "\n",
      "\tArt Piece 0: https://drive.google.com/u/0/open?usp=forms_web&id=1KqUdSTC_JqtmQNl0XK0AIy7xNmnN-Ix4\n",
      "\n",
      "\t\t\tVS.\n",
      "\n",
      "\tArt Piece 1: https://drive.google.com/u/0/open?usp=forms_web&id=1F2-0t7WtYREK7XxAJ1EnDTw8y9wAn_nP\n",
      "\n",
      "\n",
      "\n",
      "\n",
      "MATCHUP 3\n",
      "\n",
      "\tArt Piece 0: https://drive.google.com/u/0/open?usp=forms_web&id=1_-o2UjFNskDclTEDKNfukatzWy9VN4Vu\n",
      "\n",
      "\t\t\tVS.\n",
      "\n",
      "\tArt Piece 1: https://drive.google.com/u/0/open?usp=forms_web&id=1xApvUya7FSAQ637YwHxYkZg3pLlmN_eD\n",
      "\n",
      "\n",
      "\n",
      "\n",
      "MATCHUP 4\n",
      "\n",
      "\n",
      "\tArt Piece 0: https://drive.google.com/u/0/open?usp=forms_web&id=140TBXVx43B79tpBOsFtM4WFKt8drVUFT\n",
      "\n",
      "\t\t\tVS.\n",
      "\n",
      "\tArt Piece 1: https://drive.google.com/u/0/open?usp=forms_web&id=1do8ZT97CVmD85-qAlcHMBX92WXVxkPsS\n",
      "\n",
      "\t\t\tVS.\n",
      "\n",
      "\tArt Piece 2: https://drive.google.com/u/0/open?usp=forms_web&id=1iumbe1LnIUrztNMy5kbzD_3SF8vtzvce\n"
     ]
    }
   ],
   "source": [
    "prettyPrintMatchups(matchups)"
   ]
  },
  {
   "cell_type": "code",
   "execution_count": 30,
   "id": "caroline-training",
   "metadata": {},
   "outputs": [],
   "source": [
    "## IMPORTANT NOTE\n",
    "##     remember winners MUST be the an array of 0's and 1's denoting the winner of each matchup\n",
    "##     if you have an irregular final matchup in a round, input the top two pieces from that matchup as a two-element array\n",
    "##     as the last element of the winners array.Example below\n",
    "##     Example: \n",
    "##          submissions = [\"Zaverose\", \"Rory\", \"Daitarou\", \"Mason\", \"Bluezy\", \"Bolt\", \"Ferris\"]\n",
    "##          ...\n",
    "##          ...\n",
    "##          matchups = [[\"Zaverose\", \"Rory\"], [\"Daitarou\", \"Mason\"], [\"Bluezy\", \"Bolt\", \"Ferris\"]]\n",
    "##          winners = [1, 0, [0, 1]]\n",
    "##          submissions = filterWinners(matchups, winners) --> [\"Rory\", \"Daitarou\", \"Bluezy\", \"Bolt\"]\n",
    "##          matchups = generateMatchups(submissions) --> [[\"Bluezy\", \"Daitarou\"], [\"Bolt\", \"Rory\"]]\n",
    "##\n",
    "##     if you do NOT have an irregular final matchup in a round \n",
    "##     then simply input the winners into the winners list as usual (0's and 1's for whomever wins a given matchup)\n",
    "##     Example:\n",
    "##          matchups = [[\"Bluezy\", \"Daitarou\"], [\"Bolt\", \"Rory\"]]\n",
    "##          winners = [0, 1]\n",
    "##          submissions = filterWinners(matchups, winners) --> [\"Daitarou\", \"Rory\"]\n",
    "##          matchups = generateMatchups(submissions) --> [[\"Rory\", \"Daitarou\"]]\n",
    "\n",
    "# test_winners = [0] * 2\n",
    "# test_winners.append([0,1])\n",
    "# winners = test_winners\n",
    "\n",
    "# Input Round 1 winners here\n",
    "winners = [0,0,1,[1,2]]"
   ]
  },
  {
   "cell_type": "code",
   "execution_count": 31,
   "id": "weighted-release",
   "metadata": {},
   "outputs": [],
   "source": [
    "submissions = filterWinners(matchups, winners)\n",
    "matchups = generateMatchups(submissions)"
   ]
  },
  {
   "cell_type": "code",
   "execution_count": 32,
   "id": "sunrise-british",
   "metadata": {},
   "outputs": [
    {
     "name": "stdout",
     "output_type": "stream",
     "text": [
      "---------------------------------------- ROUND 4 ----------------------------------------\n"
     ]
    }
   ],
   "source": [
    "print('-' * 40, \"ROUND 4\", '-' * 40)"
   ]
  },
  {
   "cell_type": "code",
   "execution_count": 33,
   "id": "median-telescope",
   "metadata": {},
   "outputs": [
    {
     "name": "stdout",
     "output_type": "stream",
     "text": [
      "MATCHUP 1\n",
      "\n",
      "\tArt Piece 0: https://drive.google.com/u/0/open?usp=forms_web&id=1do8ZT97CVmD85-qAlcHMBX92WXVxkPsS\n",
      "\n",
      "\t\t\tVS.\n",
      "\n",
      "\tArt Piece 1: https://drive.google.com/u/0/open?usp=forms_web&id=1iumbe1LnIUrztNMy5kbzD_3SF8vtzvce\n",
      "\n",
      "\n",
      "\n",
      "\n",
      "MATCHUP 2\n",
      "\n",
      "\n",
      "\tArt Piece 0: https://drive.google.com/u/0/open?usp=forms_web&id=1xApvUya7FSAQ637YwHxYkZg3pLlmN_eD\n",
      "\n",
      "\t\t\tVS.\n",
      "\n",
      "\tArt Piece 1: https://drive.google.com/u/0/open?usp=forms_web&id=1c1I2wlw8tOa2jMD9IrFGSFO5OB8hJtyS\n",
      "\n",
      "\t\t\tVS.\n",
      "\n",
      "\tArt Piece 2: https://drive.google.com/u/0/open?usp=forms_web&id=1KqUdSTC_JqtmQNl0XK0AIy7xNmnN-Ix4\n"
     ]
    }
   ],
   "source": [
    "prettyPrintMatchups(matchups)"
   ]
  },
  {
   "cell_type": "code",
   "execution_count": 38,
   "id": "frequent-persian",
   "metadata": {},
   "outputs": [],
   "source": [
    "## IMPORTANT NOTE\n",
    "##     remember winners MUST be the an array of 0's and 1's denoting the winner of each matchup\n",
    "##     if you have an irregular final matchup in a round, input the top two pieces from that matchup as a two-element array\n",
    "##     as the last element of the winners array.Example below\n",
    "##     Example: \n",
    "##          submissions = [\"Zaverose\", \"Rory\", \"Daitarou\", \"Mason\", \"Bluezy\", \"Bolt\", \"Ferris\"]\n",
    "##          ...\n",
    "##          ...\n",
    "##          matchups = [[\"Zaverose\", \"Rory\"], [\"Daitarou\", \"Mason\"], [\"Bluezy\", \"Bolt\", \"Ferris\"]]\n",
    "##          winners = [1, 0, [0, 1]]\n",
    "##          submissions = filterWinners(matchups, winners) --> [\"Rory\", \"Daitarou\", \"Bluezy\", \"Bolt\"]\n",
    "##          matchups = generateMatchups(submissions) --> [[\"Bluezy\", \"Daitarou\"], [\"Bolt\", \"Rory\"]]\n",
    "##\n",
    "##     if you do NOT have an irregular final matchup in a round \n",
    "##     then simply input the winners into the winners list as usual (0's and 1's for whomever wins a given matchup)\n",
    "##     Example:\n",
    "##          matchups = [[\"Bluezy\", \"Daitarou\"], [\"Bolt\", \"Rory\"]]\n",
    "##          winners = [0, 1]\n",
    "##          submissions = filterWinners(matchups, winners) --> [\"Daitarou\", \"Rory\"]\n",
    "##          matchups = generateMatchups(submissions) --> [[\"Rory\", \"Daitarou\"]]\n",
    "\n",
    "# test_winners = [0] * 2\n",
    "# winners = test_winners\n",
    "\n",
    "# Input Round 1 winners here\n",
    "winners = [0,[1,2]]"
   ]
  },
  {
   "cell_type": "code",
   "execution_count": 39,
   "id": "challenging-lightning",
   "metadata": {},
   "outputs": [
    {
     "ename": "IndexError",
     "evalue": "list index out of range",
     "output_type": "error",
     "traceback": [
      "\u001b[0;31m---------------------------------------------------------------------------\u001b[0m",
      "\u001b[0;31mIndexError\u001b[0m                                Traceback (most recent call last)",
      "\u001b[0;32m<ipython-input-39-b5cf85955c24>\u001b[0m in \u001b[0;36m<module>\u001b[0;34m\u001b[0m\n\u001b[1;32m      1\u001b[0m \u001b[0msubmissions\u001b[0m \u001b[0;34m=\u001b[0m \u001b[0mfilterWinners\u001b[0m\u001b[0;34m(\u001b[0m\u001b[0mmatchups\u001b[0m\u001b[0;34m,\u001b[0m \u001b[0mwinners\u001b[0m\u001b[0;34m)\u001b[0m\u001b[0;34m\u001b[0m\u001b[0;34m\u001b[0m\u001b[0m\n\u001b[0;32m----> 2\u001b[0;31m \u001b[0mmatchups\u001b[0m \u001b[0;34m=\u001b[0m \u001b[0mgenerateMatchups\u001b[0m\u001b[0;34m(\u001b[0m\u001b[0msubmissions\u001b[0m\u001b[0;34m)\u001b[0m\u001b[0;34m\u001b[0m\u001b[0;34m\u001b[0m\u001b[0m\n\u001b[0m",
      "\u001b[0;32m<ipython-input-16-e33105e4e44a>\u001b[0m in \u001b[0;36mgenerateMatchups\u001b[0;34m(submissions)\u001b[0m\n\u001b[1;32m      1\u001b[0m \u001b[0;32mdef\u001b[0m \u001b[0mgenerateMatchups\u001b[0m\u001b[0;34m(\u001b[0m\u001b[0msubmissions\u001b[0m\u001b[0;34m)\u001b[0m\u001b[0;34m:\u001b[0m\u001b[0;34m\u001b[0m\u001b[0;34m\u001b[0m\u001b[0m\n\u001b[1;32m      2\u001b[0m     \u001b[0msubmissionsShuffled\u001b[0m \u001b[0;34m=\u001b[0m \u001b[0mshuffleSubmissions\u001b[0m\u001b[0;34m(\u001b[0m\u001b[0msubmissions\u001b[0m\u001b[0;34m)\u001b[0m\u001b[0;34m\u001b[0m\u001b[0;34m\u001b[0m\u001b[0m\n\u001b[0;32m----> 3\u001b[0;31m     \u001b[0mmatchups\u001b[0m \u001b[0;34m=\u001b[0m \u001b[0mpartition\u001b[0m\u001b[0;34m(\u001b[0m\u001b[0msubmissionsShuffled\u001b[0m\u001b[0;34m,\u001b[0m \u001b[0;36m2\u001b[0m\u001b[0;34m)\u001b[0m\u001b[0;34m\u001b[0m\u001b[0;34m\u001b[0m\u001b[0m\n\u001b[0m\u001b[1;32m      4\u001b[0m     \u001b[0;32mreturn\u001b[0m \u001b[0mmatchups\u001b[0m\u001b[0;34m\u001b[0m\u001b[0;34m\u001b[0m\u001b[0m\n\u001b[1;32m      5\u001b[0m \u001b[0;34m\u001b[0m\u001b[0m\n",
      "\u001b[0;32m<ipython-input-15-73a587589847>\u001b[0m in \u001b[0;36mpartition\u001b[0;34m(arr, n)\u001b[0m\n\u001b[1;32m     17\u001b[0m     \u001b[0;32mif\u001b[0m \u001b[0mlen\u001b[0m\u001b[0;34m(\u001b[0m\u001b[0marr\u001b[0m\u001b[0;34m)\u001b[0m \u001b[0;34m!=\u001b[0m \u001b[0;36m0\u001b[0m\u001b[0;34m:\u001b[0m\u001b[0;34m\u001b[0m\u001b[0;34m\u001b[0m\u001b[0m\n\u001b[1;32m     18\u001b[0m         \u001b[0;31m# just append them to the last partition\u001b[0m\u001b[0;34m\u001b[0m\u001b[0;34m\u001b[0m\u001b[0;34m\u001b[0m\u001b[0m\n\u001b[0;32m---> 19\u001b[0;31m         \u001b[0mpartitions\u001b[0m\u001b[0;34m[\u001b[0m\u001b[0;34m-\u001b[0m\u001b[0;36m1\u001b[0m\u001b[0;34m]\u001b[0m\u001b[0;34m.\u001b[0m\u001b[0mextend\u001b[0m\u001b[0;34m(\u001b[0m\u001b[0marr\u001b[0m\u001b[0;34m[\u001b[0m\u001b[0mi\u001b[0m\u001b[0;34m:\u001b[0m\u001b[0;34m]\u001b[0m\u001b[0;34m)\u001b[0m\u001b[0;34m\u001b[0m\u001b[0;34m\u001b[0m\u001b[0m\n\u001b[0m\u001b[1;32m     20\u001b[0m     \u001b[0;32mreturn\u001b[0m \u001b[0mpartitions\u001b[0m\u001b[0;34m\u001b[0m\u001b[0;34m\u001b[0m\u001b[0m\n",
      "\u001b[0;31mIndexError\u001b[0m: list index out of range"
     ]
    }
   ],
   "source": [
    "submissions = filterWinners(matchups, winners)\n",
    "matchups = generateMatchups(submissions)"
   ]
  },
  {
   "cell_type": "code",
   "execution_count": 40,
   "id": "democratic-mississippi",
   "metadata": {},
   "outputs": [
    {
     "name": "stdout",
     "output_type": "stream",
     "text": [
      "---------------------------------------- FINAL ROUND ----------------------------------------\n"
     ]
    }
   ],
   "source": [
    "print('-' * 40, \"FINAL ROUND\", '-' * 40)"
   ]
  },
  {
   "cell_type": "code",
   "execution_count": 37,
   "id": "australian-beverage",
   "metadata": {},
   "outputs": [
    {
     "name": "stdout",
     "output_type": "stream",
     "text": [
      "MATCHUP 1\n",
      "\n",
      "\tArt Piece 0: https://drive.google.com/u/0/open?usp=forms_web&id=1c1I2wlw8tOa2jMD9IrFGSFO5OB8hJtyS\n",
      "\n",
      "\t\t\tVS.\n",
      "\n",
      "\tArt Piece 1: https://drive.google.com/u/0/open?usp=forms_web&id=1KqUdSTC_JqtmQNl0XK0AIy7xNmnN-Ix4\n"
     ]
    }
   ],
   "source": [
    "prettyPrintMatchups(matchups)"
   ]
  },
  {
   "cell_type": "code",
   "execution_count": 29,
   "id": "hundred-jimmy",
   "metadata": {},
   "outputs": [],
   "source": [
    "# input the final winner here\n",
    "# winner = 0\n",
    "# 2,1,5"
   ]
  },
  {
   "cell_type": "code",
   "execution_count": 30,
   "id": "racial-delay",
   "metadata": {},
   "outputs": [],
   "source": [
    "def findSubmitter(submission):\n",
    "    for submitter, submissions in submission_data.items():\n",
    "        if submission in submissions:\n",
    "            return submitter"
   ]
  },
  {
   "cell_type": "code",
   "execution_count": 31,
   "id": "religious-bandwidth",
   "metadata": {},
   "outputs": [
    {
     "name": "stdout",
     "output_type": "stream",
     "text": [
      "---------------------------------------- RESULTS ----------------------------------------\n",
      "\n",
      "\n",
      "Winning Piece: https://drive.google.com/u/0/open?usp=forms_web&id=11KhoQhQkX_sPo3nRyCWwLvsWLoArsPXv\n",
      "\n",
      "Submitted By: Zaverose\n"
     ]
    }
   ],
   "source": [
    "print('-' * 40, \"RESULTS\", '-' * 40)\n",
    "print(f'\\n\\nWinning Piece: {matchups[0][winner]}\\n\\nSubmitted By: {findSubmitter(matchups[0][winner])}')"
   ]
  }
 ],
 "metadata": {
  "kernelspec": {
   "display_name": "Python 3",
   "language": "python",
   "name": "python3"
  },
  "language_info": {
   "codemirror_mode": {
    "name": "ipython",
    "version": 3
   },
   "file_extension": ".py",
   "mimetype": "text/x-python",
   "name": "python",
   "nbconvert_exporter": "python",
   "pygments_lexer": "ipython3",
   "version": "3.7.3"
  }
 },
 "nbformat": 4,
 "nbformat_minor": 5
}
